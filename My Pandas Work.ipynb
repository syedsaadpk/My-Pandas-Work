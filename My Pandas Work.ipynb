{
 "cells": [
  {
   "cell_type": "markdown",
   "metadata": {},
   "source": [
    "# Pandas"
   ]
  },
  {
   "cell_type": "markdown",
   "metadata": {},
   "source": [
    "# Series"
   ]
  },
  {
   "cell_type": "code",
   "execution_count": 1,
   "metadata": {},
   "outputs": [],
   "source": [
    "import pandas as pd"
   ]
  },
  {
   "cell_type": "code",
   "execution_count": 2,
   "metadata": {},
   "outputs": [],
   "source": [
    "obj1 = pd.Series([11,22,33,44])"
   ]
  },
  {
   "cell_type": "code",
   "execution_count": 3,
   "metadata": {},
   "outputs": [
    {
     "data": {
      "text/plain": [
       "0    11\n",
       "1    22\n",
       "2    33\n",
       "3    44\n",
       "dtype: int64"
      ]
     },
     "execution_count": 3,
     "metadata": {},
     "output_type": "execute_result"
    }
   ],
   "source": [
    "obj1"
   ]
  },
  {
   "cell_type": "code",
   "execution_count": 4,
   "metadata": {},
   "outputs": [
    {
     "data": {
      "text/plain": [
       "RangeIndex(start=0, stop=4, step=1)"
      ]
     },
     "execution_count": 4,
     "metadata": {},
     "output_type": "execute_result"
    }
   ],
   "source": [
    "obj1.index"
   ]
  },
  {
   "cell_type": "code",
   "execution_count": 5,
   "metadata": {},
   "outputs": [
    {
     "data": {
      "text/plain": [
       "array([11, 22, 33, 44], dtype=int64)"
      ]
     },
     "execution_count": 5,
     "metadata": {},
     "output_type": "execute_result"
    }
   ],
   "source": [
    "obj1.values"
   ]
  },
  {
   "cell_type": "code",
   "execution_count": 6,
   "metadata": {},
   "outputs": [
    {
     "data": {
      "text/plain": [
       "<bound method IndexOpsMixin.value_counts of 0    11\n",
       "1    22\n",
       "2    33\n",
       "3    44\n",
       "dtype: int64>"
      ]
     },
     "execution_count": 6,
     "metadata": {},
     "output_type": "execute_result"
    }
   ],
   "source": [
    "obj1.value_counts"
   ]
  },
  {
   "cell_type": "markdown",
   "metadata": {},
   "source": [
    "# Reindexing"
   ]
  },
  {
   "cell_type": "code",
   "execution_count": 7,
   "metadata": {},
   "outputs": [],
   "source": [
    "obj2 = pd.Series([11,22,33,44], index = ['a', 'b', 'c', 'd']) # here we define index manually"
   ]
  },
  {
   "cell_type": "code",
   "execution_count": 8,
   "metadata": {},
   "outputs": [
    {
     "data": {
      "text/plain": [
       "a    11\n",
       "b    22\n",
       "c    33\n",
       "d    44\n",
       "dtype: int64"
      ]
     },
     "execution_count": 8,
     "metadata": {},
     "output_type": "execute_result"
    }
   ],
   "source": [
    "obj2"
   ]
  },
  {
   "cell_type": "code",
   "execution_count": 9,
   "metadata": {},
   "outputs": [
    {
     "data": {
      "text/plain": [
       "33"
      ]
     },
     "execution_count": 9,
     "metadata": {},
     "output_type": "execute_result"
    }
   ],
   "source": [
    "obj2['c']"
   ]
  },
  {
   "cell_type": "code",
   "execution_count": 10,
   "metadata": {},
   "outputs": [],
   "source": [
    "obj2['c'] = 34"
   ]
  },
  {
   "cell_type": "code",
   "execution_count": 11,
   "metadata": {},
   "outputs": [
    {
     "data": {
      "text/plain": [
       "a    11\n",
       "b    22\n",
       "c    34\n",
       "d    44\n",
       "dtype: int64"
      ]
     },
     "execution_count": 11,
     "metadata": {},
     "output_type": "execute_result"
    }
   ],
   "source": [
    "obj2"
   ]
  },
  {
   "cell_type": "code",
   "execution_count": 12,
   "metadata": {},
   "outputs": [],
   "source": [
    "del obj2['c']"
   ]
  },
  {
   "cell_type": "code",
   "execution_count": 13,
   "metadata": {},
   "outputs": [
    {
     "data": {
      "text/plain": [
       "a    11\n",
       "b    22\n",
       "d    44\n",
       "dtype: int64"
      ]
     },
     "execution_count": 13,
     "metadata": {},
     "output_type": "execute_result"
    }
   ],
   "source": [
    "obj2"
   ]
  },
  {
   "cell_type": "code",
   "execution_count": 14,
   "metadata": {},
   "outputs": [],
   "source": [
    "obj2['c'] = 34"
   ]
  },
  {
   "cell_type": "code",
   "execution_count": 15,
   "metadata": {},
   "outputs": [
    {
     "data": {
      "text/plain": [
       "a    11\n",
       "b    22\n",
       "d    44\n",
       "c    34\n",
       "dtype: int64"
      ]
     },
     "execution_count": 15,
     "metadata": {},
     "output_type": "execute_result"
    }
   ],
   "source": [
    "obj2"
   ]
  },
  {
   "cell_type": "code",
   "execution_count": 16,
   "metadata": {},
   "outputs": [],
   "source": [
    "index = [1,2,3,4]"
   ]
  },
  {
   "cell_type": "code",
   "execution_count": 17,
   "metadata": {},
   "outputs": [],
   "source": [
    "obj3 = pd.Series(['Saad', 'Amim', 'Ali', 'Moiz'], index = index)"
   ]
  },
  {
   "cell_type": "code",
   "execution_count": 18,
   "metadata": {},
   "outputs": [
    {
     "data": {
      "text/plain": [
       "1    Saad\n",
       "2    Amim\n",
       "3     Ali\n",
       "4    Moiz\n",
       "dtype: object"
      ]
     },
     "execution_count": 18,
     "metadata": {},
     "output_type": "execute_result"
    }
   ],
   "source": [
    "obj3"
   ]
  },
  {
   "cell_type": "code",
   "execution_count": 19,
   "metadata": {},
   "outputs": [
    {
     "data": {
      "text/plain": [
       "'Ali'"
      ]
     },
     "execution_count": 19,
     "metadata": {},
     "output_type": "execute_result"
    }
   ],
   "source": [
    "obj3[3]"
   ]
  },
  {
   "cell_type": "code",
   "execution_count": 20,
   "metadata": {},
   "outputs": [
    {
     "data": {
      "text/plain": [
       "1     True\n",
       "2    False\n",
       "3    False\n",
       "4    False\n",
       "dtype: bool"
      ]
     },
     "execution_count": 20,
     "metadata": {},
     "output_type": "execute_result"
    }
   ],
   "source": [
    "obj3 == 'Saad'"
   ]
  },
  {
   "cell_type": "code",
   "execution_count": 21,
   "metadata": {},
   "outputs": [
    {
     "data": {
      "text/plain": [
       "1    False\n",
       "2    False\n",
       "3    False\n",
       "4    False\n",
       "dtype: bool"
      ]
     },
     "execution_count": 21,
     "metadata": {},
     "output_type": "execute_result"
    }
   ],
   "source": [
    "obj3 == 'Khalil'"
   ]
  },
  {
   "cell_type": "code",
   "execution_count": 22,
   "metadata": {},
   "outputs": [
    {
     "data": {
      "text/plain": [
       "1    Saad\n",
       "dtype: object"
      ]
     },
     "execution_count": 22,
     "metadata": {},
     "output_type": "execute_result"
    }
   ],
   "source": [
    "obj3[obj3 == 'Saad']"
   ]
  },
  {
   "cell_type": "code",
   "execution_count": 23,
   "metadata": {},
   "outputs": [
    {
     "data": {
      "text/plain": [
       "Series([], dtype: object)"
      ]
     },
     "execution_count": 23,
     "metadata": {},
     "output_type": "execute_result"
    }
   ],
   "source": [
    "obj3[obj3 == 'Khalil']"
   ]
  },
  {
   "cell_type": "markdown",
   "metadata": {},
   "source": [
    "# Arithmetic And Data Alignment"
   ]
  },
  {
   "cell_type": "code",
   "execution_count": 24,
   "metadata": {},
   "outputs": [
    {
     "data": {
      "text/plain": [
       "0    11\n",
       "1    22\n",
       "2    33\n",
       "3    44\n",
       "dtype: int64"
      ]
     },
     "execution_count": 24,
     "metadata": {},
     "output_type": "execute_result"
    }
   ],
   "source": [
    "obj1"
   ]
  },
  {
   "cell_type": "code",
   "execution_count": 25,
   "metadata": {},
   "outputs": [
    {
     "data": {
      "text/plain": [
       "0    12\n",
       "1    23\n",
       "2    34\n",
       "3    45\n",
       "dtype: int64"
      ]
     },
     "execution_count": 25,
     "metadata": {},
     "output_type": "execute_result"
    }
   ],
   "source": [
    "obj1+1"
   ]
  },
  {
   "cell_type": "code",
   "execution_count": 26,
   "metadata": {},
   "outputs": [
    {
     "data": {
      "text/plain": [
       "1    Saad\n",
       "2    Amim\n",
       "3     Ali\n",
       "4    Moiz\n",
       "dtype: object"
      ]
     },
     "execution_count": 26,
     "metadata": {},
     "output_type": "execute_result"
    }
   ],
   "source": [
    "obj3"
   ]
  },
  {
   "cell_type": "code",
   "execution_count": 27,
   "metadata": {},
   "outputs": [
    {
     "data": {
      "text/plain": [
       "1    SaadSaad\n",
       "2    AmimAmim\n",
       "3      AliAli\n",
       "4    MoizMoiz\n",
       "dtype: object"
      ]
     },
     "execution_count": 27,
     "metadata": {},
     "output_type": "execute_result"
    }
   ],
   "source": [
    "obj3*2"
   ]
  },
  {
   "cell_type": "code",
   "execution_count": 28,
   "metadata": {},
   "outputs": [
    {
     "data": {
      "text/plain": [
       "0    22\n",
       "1    44\n",
       "2    66\n",
       "3    88\n",
       "dtype: int64"
      ]
     },
     "execution_count": 28,
     "metadata": {},
     "output_type": "execute_result"
    }
   ],
   "source": [
    "obj1*2"
   ]
  },
  {
   "cell_type": "code",
   "execution_count": 29,
   "metadata": {},
   "outputs": [
    {
     "data": {
      "text/plain": [
       "0     9\n",
       "1    20\n",
       "2    31\n",
       "3    42\n",
       "dtype: int64"
      ]
     },
     "execution_count": 29,
     "metadata": {},
     "output_type": "execute_result"
    }
   ],
   "source": [
    "obj1-2"
   ]
  },
  {
   "cell_type": "code",
   "execution_count": 30,
   "metadata": {},
   "outputs": [
    {
     "data": {
      "text/plain": [
       "0     5\n",
       "1    11\n",
       "2    16\n",
       "3    22\n",
       "dtype: int64"
      ]
     },
     "execution_count": 30,
     "metadata": {},
     "output_type": "execute_result"
    }
   ],
   "source": [
    "obj1//2"
   ]
  },
  {
   "cell_type": "code",
   "execution_count": 31,
   "metadata": {},
   "outputs": [
    {
     "data": {
      "text/plain": [
       "0    11\n",
       "1    22\n",
       "2    33\n",
       "3    44\n",
       "dtype: int64"
      ]
     },
     "execution_count": 31,
     "metadata": {},
     "output_type": "execute_result"
    }
   ],
   "source": [
    "obj1"
   ]
  },
  {
   "cell_type": "code",
   "execution_count": 32,
   "metadata": {},
   "outputs": [
    {
     "data": {
      "text/plain": [
       "a    11\n",
       "b    22\n",
       "d    44\n",
       "c    34\n",
       "dtype: int64"
      ]
     },
     "execution_count": 32,
     "metadata": {},
     "output_type": "execute_result"
    }
   ],
   "source": [
    "obj2"
   ]
  },
  {
   "cell_type": "code",
   "execution_count": 33,
   "metadata": {},
   "outputs": [
    {
     "data": {
      "text/plain": [
       "0   NaN\n",
       "1   NaN\n",
       "2   NaN\n",
       "3   NaN\n",
       "a   NaN\n",
       "b   NaN\n",
       "c   NaN\n",
       "d   NaN\n",
       "dtype: float64"
      ]
     },
     "execution_count": 33,
     "metadata": {},
     "output_type": "execute_result"
    }
   ],
   "source": [
    "obj1+obj2"
   ]
  },
  {
   "cell_type": "code",
   "execution_count": 34,
   "metadata": {},
   "outputs": [],
   "source": [
    "obj4 = pd.Series([11,33,22,44], index = [0,1,2,3])"
   ]
  },
  {
   "cell_type": "code",
   "execution_count": 35,
   "metadata": {},
   "outputs": [
    {
     "data": {
      "text/plain": [
       "0    11\n",
       "1    33\n",
       "2    22\n",
       "3    44\n",
       "dtype: int64"
      ]
     },
     "execution_count": 35,
     "metadata": {},
     "output_type": "execute_result"
    }
   ],
   "source": [
    "obj4"
   ]
  },
  {
   "cell_type": "code",
   "execution_count": 36,
   "metadata": {},
   "outputs": [
    {
     "data": {
      "text/plain": [
       "0    22\n",
       "1    55\n",
       "2    55\n",
       "3    88\n",
       "dtype: int64"
      ]
     },
     "execution_count": 36,
     "metadata": {},
     "output_type": "execute_result"
    }
   ],
   "source": [
    "obj1+obj4"
   ]
  },
  {
   "cell_type": "code",
   "execution_count": 37,
   "metadata": {},
   "outputs": [
    {
     "data": {
      "text/plain": [
       "0     0\n",
       "1   -11\n",
       "2    11\n",
       "3     0\n",
       "dtype: int64"
      ]
     },
     "execution_count": 37,
     "metadata": {},
     "output_type": "execute_result"
    }
   ],
   "source": [
    "obj1-obj4"
   ]
  },
  {
   "cell_type": "code",
   "execution_count": 38,
   "metadata": {},
   "outputs": [
    {
     "data": {
      "text/plain": [
       "0     121\n",
       "1     726\n",
       "2     726\n",
       "3    1936\n",
       "dtype: int64"
      ]
     },
     "execution_count": 38,
     "metadata": {},
     "output_type": "execute_result"
    }
   ],
   "source": [
    "obj1*obj4"
   ]
  },
  {
   "cell_type": "code",
   "execution_count": 39,
   "metadata": {},
   "outputs": [
    {
     "data": {
      "text/plain": [
       "0    1\n",
       "1    1\n",
       "2    0\n",
       "3    1\n",
       "dtype: int64"
      ]
     },
     "execution_count": 39,
     "metadata": {},
     "output_type": "execute_result"
    }
   ],
   "source": [
    "obj4//obj1"
   ]
  },
  {
   "cell_type": "code",
   "execution_count": 40,
   "metadata": {},
   "outputs": [],
   "source": [
    "obj5 = pd.Series([100,200,300,400,500], index = ['1h', '2h', '3h', '4h', '5h'])"
   ]
  },
  {
   "cell_type": "code",
   "execution_count": 41,
   "metadata": {},
   "outputs": [
    {
     "data": {
      "text/plain": [
       "1h    100\n",
       "2h    200\n",
       "3h    300\n",
       "4h    400\n",
       "5h    500\n",
       "dtype: int64"
      ]
     },
     "execution_count": 41,
     "metadata": {},
     "output_type": "execute_result"
    }
   ],
   "source": [
    "obj5"
   ]
  },
  {
   "cell_type": "code",
   "execution_count": 42,
   "metadata": {},
   "outputs": [
    {
     "data": {
      "text/plain": [
       "True"
      ]
     },
     "execution_count": 42,
     "metadata": {},
     "output_type": "execute_result"
    }
   ],
   "source": [
    "'1h' in obj5"
   ]
  },
  {
   "cell_type": "code",
   "execution_count": 43,
   "metadata": {},
   "outputs": [
    {
     "data": {
      "text/plain": [
       "False"
      ]
     },
     "execution_count": 43,
     "metadata": {},
     "output_type": "execute_result"
    }
   ],
   "source": [
    "'6h' in obj5"
   ]
  },
  {
   "cell_type": "markdown",
   "metadata": {},
   "source": [
    "Creating a series using python dictionary"
   ]
  },
  {
   "cell_type": "code",
   "execution_count": 44,
   "metadata": {},
   "outputs": [],
   "source": [
    "sdata = {'Karachi':\"Mazar-e-Quaid\", 'Lahore':\"Minar-e-Pakistan\", 'Peshawar':\"Bab-e-Khaybar\", 'Multan':\"Halwa\"}\n",
    "#         index   :     value        index  :      value           index   :     value        index  : value"
   ]
  },
  {
   "cell_type": "code",
   "execution_count": 45,
   "metadata": {},
   "outputs": [],
   "source": [
    "s1 = pd.Series(sdata)"
   ]
  },
  {
   "cell_type": "code",
   "execution_count": 46,
   "metadata": {},
   "outputs": [
    {
     "data": {
      "text/plain": [
       "Karachi        Mazar-e-Quaid\n",
       "Lahore      Minar-e-Pakistan\n",
       "Peshawar       Bab-e-Khaybar\n",
       "Multan                 Halwa\n",
       "dtype: object"
      ]
     },
     "execution_count": 46,
     "metadata": {},
     "output_type": "execute_result"
    }
   ],
   "source": [
    "s1"
   ]
  },
  {
   "cell_type": "code",
   "execution_count": 47,
   "metadata": {},
   "outputs": [],
   "source": [
    "city = ['Karachi', 'Multan', 'Lahore', 'Islamabad']"
   ]
  },
  {
   "cell_type": "code",
   "execution_count": 48,
   "metadata": {},
   "outputs": [],
   "source": [
    "s2 = pd.Series(sdata, index = city)"
   ]
  },
  {
   "cell_type": "code",
   "execution_count": 49,
   "metadata": {},
   "outputs": [
    {
     "data": {
      "text/plain": [
       "Karachi         Mazar-e-Quaid\n",
       "Multan                  Halwa\n",
       "Lahore       Minar-e-Pakistan\n",
       "Islamabad                 NaN\n",
       "dtype: object"
      ]
     },
     "execution_count": 49,
     "metadata": {},
     "output_type": "execute_result"
    }
   ],
   "source": [
    "s2"
   ]
  },
  {
   "cell_type": "code",
   "execution_count": 50,
   "metadata": {},
   "outputs": [
    {
     "data": {
      "text/plain": [
       "Karachi      False\n",
       "Multan       False\n",
       "Lahore       False\n",
       "Islamabad     True\n",
       "dtype: bool"
      ]
     },
     "execution_count": 50,
     "metadata": {},
     "output_type": "execute_result"
    }
   ],
   "source": [
    "pd.isnull(s2)"
   ]
  },
  {
   "cell_type": "code",
   "execution_count": 51,
   "metadata": {},
   "outputs": [
    {
     "data": {
      "text/plain": [
       "Islamabad    NaN\n",
       "dtype: object"
      ]
     },
     "execution_count": 51,
     "metadata": {},
     "output_type": "execute_result"
    }
   ],
   "source": [
    "s2[pd.isnull(s2)]"
   ]
  },
  {
   "cell_type": "code",
   "execution_count": 52,
   "metadata": {},
   "outputs": [
    {
     "data": {
      "text/plain": [
       "Karachi       True\n",
       "Multan        True\n",
       "Lahore        True\n",
       "Islamabad    False\n",
       "dtype: bool"
      ]
     },
     "execution_count": 52,
     "metadata": {},
     "output_type": "execute_result"
    }
   ],
   "source": [
    "pd.notnull(s2)"
   ]
  },
  {
   "cell_type": "code",
   "execution_count": 53,
   "metadata": {
    "scrolled": true
   },
   "outputs": [
    {
     "data": {
      "text/plain": [
       "Karachi       Mazar-e-Quaid\n",
       "Multan                Halwa\n",
       "Lahore     Minar-e-Pakistan\n",
       "dtype: object"
      ]
     },
     "execution_count": 53,
     "metadata": {},
     "output_type": "execute_result"
    }
   ],
   "source": [
    "s2[pd.notnull(s2)]"
   ]
  },
  {
   "cell_type": "code",
   "execution_count": 54,
   "metadata": {},
   "outputs": [],
   "source": [
    "obj6 = pd.Series(['Blue', 'Green', 'White'], index = [0,2,4])"
   ]
  },
  {
   "cell_type": "code",
   "execution_count": 55,
   "metadata": {},
   "outputs": [
    {
     "data": {
      "text/plain": [
       "0     Blue\n",
       "2    Green\n",
       "4    White\n",
       "dtype: object"
      ]
     },
     "execution_count": 55,
     "metadata": {},
     "output_type": "execute_result"
    }
   ],
   "source": [
    "obj6"
   ]
  },
  {
   "cell_type": "code",
   "execution_count": 56,
   "metadata": {},
   "outputs": [
    {
     "data": {
      "text/plain": [
       "0     Blue\n",
       "1     Blue\n",
       "2    Green\n",
       "3    Green\n",
       "4    White\n",
       "5    White\n",
       "dtype: object"
      ]
     },
     "execution_count": 56,
     "metadata": {},
     "output_type": "execute_result"
    }
   ],
   "source": [
    "obj6.reindex(range(6), method = 'ffill')"
   ]
  },
  {
   "cell_type": "code",
   "execution_count": 57,
   "metadata": {},
   "outputs": [
    {
     "data": {
      "text/plain": [
       "0     Blue\n",
       "1     Blue\n",
       "2    Green\n",
       "3    Green\n",
       "4    White\n",
       "5    White\n",
       "6    White\n",
       "7    White\n",
       "dtype: object"
      ]
     },
     "execution_count": 57,
     "metadata": {},
     "output_type": "execute_result"
    }
   ],
   "source": [
    "obj6.reindex(range(8), method = 'ffill')"
   ]
  },
  {
   "cell_type": "markdown",
   "metadata": {},
   "source": [
    "# Data Frame"
   ]
  },
  {
   "cell_type": "code",
   "execution_count": 58,
   "metadata": {},
   "outputs": [],
   "source": [
    "data = {'City':['Karachi', 'Lahore', 'Islamabad', 'Multan'],\n",
    "         'Population':[4.0, 1.5, 1.0, 0.8],\n",
    "         'Year':[2019, 2019, 2019, 2019]}"
   ]
  },
  {
   "cell_type": "code",
   "execution_count": 59,
   "metadata": {},
   "outputs": [],
   "source": [
    "frame = pd.DataFrame(data)"
   ]
  },
  {
   "cell_type": "code",
   "execution_count": 60,
   "metadata": {},
   "outputs": [
    {
     "data": {
      "text/html": [
       "<div>\n",
       "<style scoped>\n",
       "    .dataframe tbody tr th:only-of-type {\n",
       "        vertical-align: middle;\n",
       "    }\n",
       "\n",
       "    .dataframe tbody tr th {\n",
       "        vertical-align: top;\n",
       "    }\n",
       "\n",
       "    .dataframe thead th {\n",
       "        text-align: right;\n",
       "    }\n",
       "</style>\n",
       "<table border=\"1\" class=\"dataframe\">\n",
       "  <thead>\n",
       "    <tr style=\"text-align: right;\">\n",
       "      <th></th>\n",
       "      <th>City</th>\n",
       "      <th>Population</th>\n",
       "      <th>Year</th>\n",
       "    </tr>\n",
       "  </thead>\n",
       "  <tbody>\n",
       "    <tr>\n",
       "      <th>0</th>\n",
       "      <td>Karachi</td>\n",
       "      <td>4.0</td>\n",
       "      <td>2019</td>\n",
       "    </tr>\n",
       "    <tr>\n",
       "      <th>1</th>\n",
       "      <td>Lahore</td>\n",
       "      <td>1.5</td>\n",
       "      <td>2019</td>\n",
       "    </tr>\n",
       "    <tr>\n",
       "      <th>2</th>\n",
       "      <td>Islamabad</td>\n",
       "      <td>1.0</td>\n",
       "      <td>2019</td>\n",
       "    </tr>\n",
       "    <tr>\n",
       "      <th>3</th>\n",
       "      <td>Multan</td>\n",
       "      <td>0.8</td>\n",
       "      <td>2019</td>\n",
       "    </tr>\n",
       "  </tbody>\n",
       "</table>\n",
       "</div>"
      ],
      "text/plain": [
       "        City  Population  Year\n",
       "0    Karachi         4.0  2019\n",
       "1     Lahore         1.5  2019\n",
       "2  Islamabad         1.0  2019\n",
       "3     Multan         0.8  2019"
      ]
     },
     "execution_count": 60,
     "metadata": {},
     "output_type": "execute_result"
    }
   ],
   "source": [
    "frame"
   ]
  },
  {
   "cell_type": "code",
   "execution_count": 61,
   "metadata": {},
   "outputs": [],
   "source": [
    "frame2 = pd.DataFrame(data, columns = ['Year', 'City', 'Population'])"
   ]
  },
  {
   "cell_type": "code",
   "execution_count": 62,
   "metadata": {},
   "outputs": [
    {
     "data": {
      "text/html": [
       "<div>\n",
       "<style scoped>\n",
       "    .dataframe tbody tr th:only-of-type {\n",
       "        vertical-align: middle;\n",
       "    }\n",
       "\n",
       "    .dataframe tbody tr th {\n",
       "        vertical-align: top;\n",
       "    }\n",
       "\n",
       "    .dataframe thead th {\n",
       "        text-align: right;\n",
       "    }\n",
       "</style>\n",
       "<table border=\"1\" class=\"dataframe\">\n",
       "  <thead>\n",
       "    <tr style=\"text-align: right;\">\n",
       "      <th></th>\n",
       "      <th>Year</th>\n",
       "      <th>City</th>\n",
       "      <th>Population</th>\n",
       "    </tr>\n",
       "  </thead>\n",
       "  <tbody>\n",
       "    <tr>\n",
       "      <th>0</th>\n",
       "      <td>2019</td>\n",
       "      <td>Karachi</td>\n",
       "      <td>4.0</td>\n",
       "    </tr>\n",
       "    <tr>\n",
       "      <th>1</th>\n",
       "      <td>2019</td>\n",
       "      <td>Lahore</td>\n",
       "      <td>1.5</td>\n",
       "    </tr>\n",
       "    <tr>\n",
       "      <th>2</th>\n",
       "      <td>2019</td>\n",
       "      <td>Islamabad</td>\n",
       "      <td>1.0</td>\n",
       "    </tr>\n",
       "    <tr>\n",
       "      <th>3</th>\n",
       "      <td>2019</td>\n",
       "      <td>Multan</td>\n",
       "      <td>0.8</td>\n",
       "    </tr>\n",
       "  </tbody>\n",
       "</table>\n",
       "</div>"
      ],
      "text/plain": [
       "   Year       City  Population\n",
       "0  2019    Karachi         4.0\n",
       "1  2019     Lahore         1.5\n",
       "2  2019  Islamabad         1.0\n",
       "3  2019     Multan         0.8"
      ]
     },
     "execution_count": 62,
     "metadata": {},
     "output_type": "execute_result"
    }
   ],
   "source": [
    "frame2"
   ]
  },
  {
   "cell_type": "code",
   "execution_count": 63,
   "metadata": {},
   "outputs": [
    {
     "data": {
      "text/html": [
       "<div>\n",
       "<style scoped>\n",
       "    .dataframe tbody tr th:only-of-type {\n",
       "        vertical-align: middle;\n",
       "    }\n",
       "\n",
       "    .dataframe tbody tr th {\n",
       "        vertical-align: top;\n",
       "    }\n",
       "\n",
       "    .dataframe thead th {\n",
       "        text-align: right;\n",
       "    }\n",
       "</style>\n",
       "<table border=\"1\" class=\"dataframe\">\n",
       "  <thead>\n",
       "    <tr style=\"text-align: right;\">\n",
       "      <th></th>\n",
       "      <th>Population</th>\n",
       "      <th>Year</th>\n",
       "    </tr>\n",
       "  </thead>\n",
       "  <tbody>\n",
       "    <tr>\n",
       "      <th>count</th>\n",
       "      <td>4.000000</td>\n",
       "      <td>4.0</td>\n",
       "    </tr>\n",
       "    <tr>\n",
       "      <th>mean</th>\n",
       "      <td>1.825000</td>\n",
       "      <td>2019.0</td>\n",
       "    </tr>\n",
       "    <tr>\n",
       "      <th>std</th>\n",
       "      <td>1.479583</td>\n",
       "      <td>0.0</td>\n",
       "    </tr>\n",
       "    <tr>\n",
       "      <th>min</th>\n",
       "      <td>0.800000</td>\n",
       "      <td>2019.0</td>\n",
       "    </tr>\n",
       "    <tr>\n",
       "      <th>25%</th>\n",
       "      <td>0.950000</td>\n",
       "      <td>2019.0</td>\n",
       "    </tr>\n",
       "    <tr>\n",
       "      <th>50%</th>\n",
       "      <td>1.250000</td>\n",
       "      <td>2019.0</td>\n",
       "    </tr>\n",
       "    <tr>\n",
       "      <th>75%</th>\n",
       "      <td>2.125000</td>\n",
       "      <td>2019.0</td>\n",
       "    </tr>\n",
       "    <tr>\n",
       "      <th>max</th>\n",
       "      <td>4.000000</td>\n",
       "      <td>2019.0</td>\n",
       "    </tr>\n",
       "  </tbody>\n",
       "</table>\n",
       "</div>"
      ],
      "text/plain": [
       "       Population    Year\n",
       "count    4.000000     4.0\n",
       "mean     1.825000  2019.0\n",
       "std      1.479583     0.0\n",
       "min      0.800000  2019.0\n",
       "25%      0.950000  2019.0\n",
       "50%      1.250000  2019.0\n",
       "75%      2.125000  2019.0\n",
       "max      4.000000  2019.0"
      ]
     },
     "execution_count": 63,
     "metadata": {},
     "output_type": "execute_result"
    }
   ],
   "source": [
    "frame.describe()"
   ]
  },
  {
   "cell_type": "code",
   "execution_count": 64,
   "metadata": {},
   "outputs": [
    {
     "data": {
      "text/html": [
       "<div>\n",
       "<style scoped>\n",
       "    .dataframe tbody tr th:only-of-type {\n",
       "        vertical-align: middle;\n",
       "    }\n",
       "\n",
       "    .dataframe tbody tr th {\n",
       "        vertical-align: top;\n",
       "    }\n",
       "\n",
       "    .dataframe thead th {\n",
       "        text-align: right;\n",
       "    }\n",
       "</style>\n",
       "<table border=\"1\" class=\"dataframe\">\n",
       "  <thead>\n",
       "    <tr style=\"text-align: right;\">\n",
       "      <th></th>\n",
       "      <th>Year</th>\n",
       "      <th>Population</th>\n",
       "    </tr>\n",
       "  </thead>\n",
       "  <tbody>\n",
       "    <tr>\n",
       "      <th>count</th>\n",
       "      <td>4.0</td>\n",
       "      <td>4.000000</td>\n",
       "    </tr>\n",
       "    <tr>\n",
       "      <th>mean</th>\n",
       "      <td>2019.0</td>\n",
       "      <td>1.825000</td>\n",
       "    </tr>\n",
       "    <tr>\n",
       "      <th>std</th>\n",
       "      <td>0.0</td>\n",
       "      <td>1.479583</td>\n",
       "    </tr>\n",
       "    <tr>\n",
       "      <th>min</th>\n",
       "      <td>2019.0</td>\n",
       "      <td>0.800000</td>\n",
       "    </tr>\n",
       "    <tr>\n",
       "      <th>25%</th>\n",
       "      <td>2019.0</td>\n",
       "      <td>0.950000</td>\n",
       "    </tr>\n",
       "    <tr>\n",
       "      <th>50%</th>\n",
       "      <td>2019.0</td>\n",
       "      <td>1.250000</td>\n",
       "    </tr>\n",
       "    <tr>\n",
       "      <th>75%</th>\n",
       "      <td>2019.0</td>\n",
       "      <td>2.125000</td>\n",
       "    </tr>\n",
       "    <tr>\n",
       "      <th>max</th>\n",
       "      <td>2019.0</td>\n",
       "      <td>4.000000</td>\n",
       "    </tr>\n",
       "  </tbody>\n",
       "</table>\n",
       "</div>"
      ],
      "text/plain": [
       "         Year  Population\n",
       "count     4.0    4.000000\n",
       "mean   2019.0    1.825000\n",
       "std       0.0    1.479583\n",
       "min    2019.0    0.800000\n",
       "25%    2019.0    0.950000\n",
       "50%    2019.0    1.250000\n",
       "75%    2019.0    2.125000\n",
       "max    2019.0    4.000000"
      ]
     },
     "execution_count": 64,
     "metadata": {},
     "output_type": "execute_result"
    }
   ],
   "source": [
    "frame2.describe()"
   ]
  },
  {
   "cell_type": "code",
   "execution_count": 65,
   "metadata": {},
   "outputs": [
    {
     "name": "stdout",
     "output_type": "stream",
     "text": [
      "<class 'pandas.core.frame.DataFrame'>\n",
      "RangeIndex: 4 entries, 0 to 3\n",
      "Data columns (total 3 columns):\n",
      "Year          4 non-null int64\n",
      "City          4 non-null object\n",
      "Population    4 non-null float64\n",
      "dtypes: float64(1), int64(1), object(1)\n",
      "memory usage: 176.0+ bytes\n"
     ]
    }
   ],
   "source": [
    "frame2.info()"
   ]
  },
  {
   "cell_type": "code",
   "execution_count": 66,
   "metadata": {},
   "outputs": [],
   "source": [
    "frame3 = pd.DataFrame(data, columns = ['City', 'Population', 'Year', 'Location'], index = ['i', 'ii', 'iii', 'iv'])"
   ]
  },
  {
   "cell_type": "code",
   "execution_count": 67,
   "metadata": {},
   "outputs": [
    {
     "data": {
      "text/html": [
       "<div>\n",
       "<style scoped>\n",
       "    .dataframe tbody tr th:only-of-type {\n",
       "        vertical-align: middle;\n",
       "    }\n",
       "\n",
       "    .dataframe tbody tr th {\n",
       "        vertical-align: top;\n",
       "    }\n",
       "\n",
       "    .dataframe thead th {\n",
       "        text-align: right;\n",
       "    }\n",
       "</style>\n",
       "<table border=\"1\" class=\"dataframe\">\n",
       "  <thead>\n",
       "    <tr style=\"text-align: right;\">\n",
       "      <th></th>\n",
       "      <th>City</th>\n",
       "      <th>Population</th>\n",
       "      <th>Year</th>\n",
       "      <th>Location</th>\n",
       "    </tr>\n",
       "  </thead>\n",
       "  <tbody>\n",
       "    <tr>\n",
       "      <th>i</th>\n",
       "      <td>Karachi</td>\n",
       "      <td>4.0</td>\n",
       "      <td>2019</td>\n",
       "      <td>NaN</td>\n",
       "    </tr>\n",
       "    <tr>\n",
       "      <th>ii</th>\n",
       "      <td>Lahore</td>\n",
       "      <td>1.5</td>\n",
       "      <td>2019</td>\n",
       "      <td>NaN</td>\n",
       "    </tr>\n",
       "    <tr>\n",
       "      <th>iii</th>\n",
       "      <td>Islamabad</td>\n",
       "      <td>1.0</td>\n",
       "      <td>2019</td>\n",
       "      <td>NaN</td>\n",
       "    </tr>\n",
       "    <tr>\n",
       "      <th>iv</th>\n",
       "      <td>Multan</td>\n",
       "      <td>0.8</td>\n",
       "      <td>2019</td>\n",
       "      <td>NaN</td>\n",
       "    </tr>\n",
       "  </tbody>\n",
       "</table>\n",
       "</div>"
      ],
      "text/plain": [
       "          City  Population  Year Location\n",
       "i      Karachi         4.0  2019      NaN\n",
       "ii      Lahore         1.5  2019      NaN\n",
       "iii  Islamabad         1.0  2019      NaN\n",
       "iv      Multan         0.8  2019      NaN"
      ]
     },
     "execution_count": 67,
     "metadata": {},
     "output_type": "execute_result"
    }
   ],
   "source": [
    "frame3"
   ]
  },
  {
   "cell_type": "code",
   "execution_count": 68,
   "metadata": {},
   "outputs": [],
   "source": [
    "frame3['Location'] = 'Pakistan'"
   ]
  },
  {
   "cell_type": "code",
   "execution_count": 69,
   "metadata": {},
   "outputs": [
    {
     "data": {
      "text/html": [
       "<div>\n",
       "<style scoped>\n",
       "    .dataframe tbody tr th:only-of-type {\n",
       "        vertical-align: middle;\n",
       "    }\n",
       "\n",
       "    .dataframe tbody tr th {\n",
       "        vertical-align: top;\n",
       "    }\n",
       "\n",
       "    .dataframe thead th {\n",
       "        text-align: right;\n",
       "    }\n",
       "</style>\n",
       "<table border=\"1\" class=\"dataframe\">\n",
       "  <thead>\n",
       "    <tr style=\"text-align: right;\">\n",
       "      <th></th>\n",
       "      <th>City</th>\n",
       "      <th>Population</th>\n",
       "      <th>Year</th>\n",
       "      <th>Location</th>\n",
       "    </tr>\n",
       "  </thead>\n",
       "  <tbody>\n",
       "    <tr>\n",
       "      <th>i</th>\n",
       "      <td>Karachi</td>\n",
       "      <td>4.0</td>\n",
       "      <td>2019</td>\n",
       "      <td>Pakistan</td>\n",
       "    </tr>\n",
       "    <tr>\n",
       "      <th>ii</th>\n",
       "      <td>Lahore</td>\n",
       "      <td>1.5</td>\n",
       "      <td>2019</td>\n",
       "      <td>Pakistan</td>\n",
       "    </tr>\n",
       "    <tr>\n",
       "      <th>iii</th>\n",
       "      <td>Islamabad</td>\n",
       "      <td>1.0</td>\n",
       "      <td>2019</td>\n",
       "      <td>Pakistan</td>\n",
       "    </tr>\n",
       "    <tr>\n",
       "      <th>iv</th>\n",
       "      <td>Multan</td>\n",
       "      <td>0.8</td>\n",
       "      <td>2019</td>\n",
       "      <td>Pakistan</td>\n",
       "    </tr>\n",
       "  </tbody>\n",
       "</table>\n",
       "</div>"
      ],
      "text/plain": [
       "          City  Population  Year  Location\n",
       "i      Karachi         4.0  2019  Pakistan\n",
       "ii      Lahore         1.5  2019  Pakistan\n",
       "iii  Islamabad         1.0  2019  Pakistan\n",
       "iv      Multan         0.8  2019  Pakistan"
      ]
     },
     "execution_count": 69,
     "metadata": {},
     "output_type": "execute_result"
    }
   ],
   "source": [
    "frame3"
   ]
  },
  {
   "cell_type": "code",
   "execution_count": 70,
   "metadata": {},
   "outputs": [],
   "source": [
    "frame3 = pd.DataFrame(data, columns = ['Serial', 'City', 'Population', 'Year', 'Location'],\n",
    "                      index = ['i', 'ii', 'iii', 'iv'])"
   ]
  },
  {
   "cell_type": "code",
   "execution_count": 71,
   "metadata": {},
   "outputs": [
    {
     "data": {
      "text/html": [
       "<div>\n",
       "<style scoped>\n",
       "    .dataframe tbody tr th:only-of-type {\n",
       "        vertical-align: middle;\n",
       "    }\n",
       "\n",
       "    .dataframe tbody tr th {\n",
       "        vertical-align: top;\n",
       "    }\n",
       "\n",
       "    .dataframe thead th {\n",
       "        text-align: right;\n",
       "    }\n",
       "</style>\n",
       "<table border=\"1\" class=\"dataframe\">\n",
       "  <thead>\n",
       "    <tr style=\"text-align: right;\">\n",
       "      <th></th>\n",
       "      <th>Serial</th>\n",
       "      <th>City</th>\n",
       "      <th>Population</th>\n",
       "      <th>Year</th>\n",
       "      <th>Location</th>\n",
       "    </tr>\n",
       "  </thead>\n",
       "  <tbody>\n",
       "    <tr>\n",
       "      <th>i</th>\n",
       "      <td>NaN</td>\n",
       "      <td>Karachi</td>\n",
       "      <td>4.0</td>\n",
       "      <td>2019</td>\n",
       "      <td>NaN</td>\n",
       "    </tr>\n",
       "    <tr>\n",
       "      <th>ii</th>\n",
       "      <td>NaN</td>\n",
       "      <td>Lahore</td>\n",
       "      <td>1.5</td>\n",
       "      <td>2019</td>\n",
       "      <td>NaN</td>\n",
       "    </tr>\n",
       "    <tr>\n",
       "      <th>iii</th>\n",
       "      <td>NaN</td>\n",
       "      <td>Islamabad</td>\n",
       "      <td>1.0</td>\n",
       "      <td>2019</td>\n",
       "      <td>NaN</td>\n",
       "    </tr>\n",
       "    <tr>\n",
       "      <th>iv</th>\n",
       "      <td>NaN</td>\n",
       "      <td>Multan</td>\n",
       "      <td>0.8</td>\n",
       "      <td>2019</td>\n",
       "      <td>NaN</td>\n",
       "    </tr>\n",
       "  </tbody>\n",
       "</table>\n",
       "</div>"
      ],
      "text/plain": [
       "    Serial       City  Population  Year Location\n",
       "i      NaN    Karachi         4.0  2019      NaN\n",
       "ii     NaN     Lahore         1.5  2019      NaN\n",
       "iii    NaN  Islamabad         1.0  2019      NaN\n",
       "iv     NaN     Multan         0.8  2019      NaN"
      ]
     },
     "execution_count": 71,
     "metadata": {},
     "output_type": "execute_result"
    }
   ],
   "source": [
    "frame3"
   ]
  },
  {
   "cell_type": "code",
   "execution_count": 72,
   "metadata": {},
   "outputs": [],
   "source": [
    "frame3['Location'] = 'Pakistan'"
   ]
  },
  {
   "cell_type": "code",
   "execution_count": 73,
   "metadata": {},
   "outputs": [
    {
     "data": {
      "text/html": [
       "<div>\n",
       "<style scoped>\n",
       "    .dataframe tbody tr th:only-of-type {\n",
       "        vertical-align: middle;\n",
       "    }\n",
       "\n",
       "    .dataframe tbody tr th {\n",
       "        vertical-align: top;\n",
       "    }\n",
       "\n",
       "    .dataframe thead th {\n",
       "        text-align: right;\n",
       "    }\n",
       "</style>\n",
       "<table border=\"1\" class=\"dataframe\">\n",
       "  <thead>\n",
       "    <tr style=\"text-align: right;\">\n",
       "      <th></th>\n",
       "      <th>Serial</th>\n",
       "      <th>City</th>\n",
       "      <th>Population</th>\n",
       "      <th>Year</th>\n",
       "      <th>Location</th>\n",
       "    </tr>\n",
       "  </thead>\n",
       "  <tbody>\n",
       "    <tr>\n",
       "      <th>i</th>\n",
       "      <td>NaN</td>\n",
       "      <td>Karachi</td>\n",
       "      <td>4.0</td>\n",
       "      <td>2019</td>\n",
       "      <td>Pakistan</td>\n",
       "    </tr>\n",
       "    <tr>\n",
       "      <th>ii</th>\n",
       "      <td>NaN</td>\n",
       "      <td>Lahore</td>\n",
       "      <td>1.5</td>\n",
       "      <td>2019</td>\n",
       "      <td>Pakistan</td>\n",
       "    </tr>\n",
       "    <tr>\n",
       "      <th>iii</th>\n",
       "      <td>NaN</td>\n",
       "      <td>Islamabad</td>\n",
       "      <td>1.0</td>\n",
       "      <td>2019</td>\n",
       "      <td>Pakistan</td>\n",
       "    </tr>\n",
       "    <tr>\n",
       "      <th>iv</th>\n",
       "      <td>NaN</td>\n",
       "      <td>Multan</td>\n",
       "      <td>0.8</td>\n",
       "      <td>2019</td>\n",
       "      <td>Pakistan</td>\n",
       "    </tr>\n",
       "  </tbody>\n",
       "</table>\n",
       "</div>"
      ],
      "text/plain": [
       "    Serial       City  Population  Year  Location\n",
       "i      NaN    Karachi         4.0  2019  Pakistan\n",
       "ii     NaN     Lahore         1.5  2019  Pakistan\n",
       "iii    NaN  Islamabad         1.0  2019  Pakistan\n",
       "iv     NaN     Multan         0.8  2019  Pakistan"
      ]
     },
     "execution_count": 73,
     "metadata": {},
     "output_type": "execute_result"
    }
   ],
   "source": [
    "frame3"
   ]
  },
  {
   "cell_type": "code",
   "execution_count": 74,
   "metadata": {},
   "outputs": [],
   "source": [
    "frame3['Serial'] = 1"
   ]
  },
  {
   "cell_type": "code",
   "execution_count": 75,
   "metadata": {},
   "outputs": [
    {
     "data": {
      "text/html": [
       "<div>\n",
       "<style scoped>\n",
       "    .dataframe tbody tr th:only-of-type {\n",
       "        vertical-align: middle;\n",
       "    }\n",
       "\n",
       "    .dataframe tbody tr th {\n",
       "        vertical-align: top;\n",
       "    }\n",
       "\n",
       "    .dataframe thead th {\n",
       "        text-align: right;\n",
       "    }\n",
       "</style>\n",
       "<table border=\"1\" class=\"dataframe\">\n",
       "  <thead>\n",
       "    <tr style=\"text-align: right;\">\n",
       "      <th></th>\n",
       "      <th>Serial</th>\n",
       "      <th>City</th>\n",
       "      <th>Population</th>\n",
       "      <th>Year</th>\n",
       "      <th>Location</th>\n",
       "    </tr>\n",
       "  </thead>\n",
       "  <tbody>\n",
       "    <tr>\n",
       "      <th>i</th>\n",
       "      <td>1</td>\n",
       "      <td>Karachi</td>\n",
       "      <td>4.0</td>\n",
       "      <td>2019</td>\n",
       "      <td>Pakistan</td>\n",
       "    </tr>\n",
       "    <tr>\n",
       "      <th>ii</th>\n",
       "      <td>1</td>\n",
       "      <td>Lahore</td>\n",
       "      <td>1.5</td>\n",
       "      <td>2019</td>\n",
       "      <td>Pakistan</td>\n",
       "    </tr>\n",
       "    <tr>\n",
       "      <th>iii</th>\n",
       "      <td>1</td>\n",
       "      <td>Islamabad</td>\n",
       "      <td>1.0</td>\n",
       "      <td>2019</td>\n",
       "      <td>Pakistan</td>\n",
       "    </tr>\n",
       "    <tr>\n",
       "      <th>iv</th>\n",
       "      <td>1</td>\n",
       "      <td>Multan</td>\n",
       "      <td>0.8</td>\n",
       "      <td>2019</td>\n",
       "      <td>Pakistan</td>\n",
       "    </tr>\n",
       "  </tbody>\n",
       "</table>\n",
       "</div>"
      ],
      "text/plain": [
       "     Serial       City  Population  Year  Location\n",
       "i         1    Karachi         4.0  2019  Pakistan\n",
       "ii        1     Lahore         1.5  2019  Pakistan\n",
       "iii       1  Islamabad         1.0  2019  Pakistan\n",
       "iv        1     Multan         0.8  2019  Pakistan"
      ]
     },
     "execution_count": 75,
     "metadata": {},
     "output_type": "execute_result"
    }
   ],
   "source": [
    "frame3"
   ]
  },
  {
   "cell_type": "code",
   "execution_count": 76,
   "metadata": {},
   "outputs": [],
   "source": [
    "frame3['Serial'] = [1,2,3,4]"
   ]
  },
  {
   "cell_type": "code",
   "execution_count": 77,
   "metadata": {},
   "outputs": [
    {
     "data": {
      "text/html": [
       "<div>\n",
       "<style scoped>\n",
       "    .dataframe tbody tr th:only-of-type {\n",
       "        vertical-align: middle;\n",
       "    }\n",
       "\n",
       "    .dataframe tbody tr th {\n",
       "        vertical-align: top;\n",
       "    }\n",
       "\n",
       "    .dataframe thead th {\n",
       "        text-align: right;\n",
       "    }\n",
       "</style>\n",
       "<table border=\"1\" class=\"dataframe\">\n",
       "  <thead>\n",
       "    <tr style=\"text-align: right;\">\n",
       "      <th></th>\n",
       "      <th>Serial</th>\n",
       "      <th>City</th>\n",
       "      <th>Population</th>\n",
       "      <th>Year</th>\n",
       "      <th>Location</th>\n",
       "    </tr>\n",
       "  </thead>\n",
       "  <tbody>\n",
       "    <tr>\n",
       "      <th>i</th>\n",
       "      <td>1</td>\n",
       "      <td>Karachi</td>\n",
       "      <td>4.0</td>\n",
       "      <td>2019</td>\n",
       "      <td>Pakistan</td>\n",
       "    </tr>\n",
       "    <tr>\n",
       "      <th>ii</th>\n",
       "      <td>2</td>\n",
       "      <td>Lahore</td>\n",
       "      <td>1.5</td>\n",
       "      <td>2019</td>\n",
       "      <td>Pakistan</td>\n",
       "    </tr>\n",
       "    <tr>\n",
       "      <th>iii</th>\n",
       "      <td>3</td>\n",
       "      <td>Islamabad</td>\n",
       "      <td>1.0</td>\n",
       "      <td>2019</td>\n",
       "      <td>Pakistan</td>\n",
       "    </tr>\n",
       "    <tr>\n",
       "      <th>iv</th>\n",
       "      <td>4</td>\n",
       "      <td>Multan</td>\n",
       "      <td>0.8</td>\n",
       "      <td>2019</td>\n",
       "      <td>Pakistan</td>\n",
       "    </tr>\n",
       "  </tbody>\n",
       "</table>\n",
       "</div>"
      ],
      "text/plain": [
       "     Serial       City  Population  Year  Location\n",
       "i         1    Karachi         4.0  2019  Pakistan\n",
       "ii        2     Lahore         1.5  2019  Pakistan\n",
       "iii       3  Islamabad         1.0  2019  Pakistan\n",
       "iv        4     Multan         0.8  2019  Pakistan"
      ]
     },
     "execution_count": 77,
     "metadata": {},
     "output_type": "execute_result"
    }
   ],
   "source": [
    "frame3"
   ]
  },
  {
   "cell_type": "code",
   "execution_count": 78,
   "metadata": {},
   "outputs": [],
   "source": [
    "frame3['Serial'] = range(1,5)"
   ]
  },
  {
   "cell_type": "code",
   "execution_count": 79,
   "metadata": {
    "scrolled": true
   },
   "outputs": [
    {
     "data": {
      "text/html": [
       "<div>\n",
       "<style scoped>\n",
       "    .dataframe tbody tr th:only-of-type {\n",
       "        vertical-align: middle;\n",
       "    }\n",
       "\n",
       "    .dataframe tbody tr th {\n",
       "        vertical-align: top;\n",
       "    }\n",
       "\n",
       "    .dataframe thead th {\n",
       "        text-align: right;\n",
       "    }\n",
       "</style>\n",
       "<table border=\"1\" class=\"dataframe\">\n",
       "  <thead>\n",
       "    <tr style=\"text-align: right;\">\n",
       "      <th></th>\n",
       "      <th>Serial</th>\n",
       "      <th>City</th>\n",
       "      <th>Population</th>\n",
       "      <th>Year</th>\n",
       "      <th>Location</th>\n",
       "    </tr>\n",
       "  </thead>\n",
       "  <tbody>\n",
       "    <tr>\n",
       "      <th>i</th>\n",
       "      <td>1</td>\n",
       "      <td>Karachi</td>\n",
       "      <td>4.0</td>\n",
       "      <td>2019</td>\n",
       "      <td>Pakistan</td>\n",
       "    </tr>\n",
       "    <tr>\n",
       "      <th>ii</th>\n",
       "      <td>2</td>\n",
       "      <td>Lahore</td>\n",
       "      <td>1.5</td>\n",
       "      <td>2019</td>\n",
       "      <td>Pakistan</td>\n",
       "    </tr>\n",
       "    <tr>\n",
       "      <th>iii</th>\n",
       "      <td>3</td>\n",
       "      <td>Islamabad</td>\n",
       "      <td>1.0</td>\n",
       "      <td>2019</td>\n",
       "      <td>Pakistan</td>\n",
       "    </tr>\n",
       "    <tr>\n",
       "      <th>iv</th>\n",
       "      <td>4</td>\n",
       "      <td>Multan</td>\n",
       "      <td>0.8</td>\n",
       "      <td>2019</td>\n",
       "      <td>Pakistan</td>\n",
       "    </tr>\n",
       "  </tbody>\n",
       "</table>\n",
       "</div>"
      ],
      "text/plain": [
       "     Serial       City  Population  Year  Location\n",
       "i         1    Karachi         4.0  2019  Pakistan\n",
       "ii        2     Lahore         1.5  2019  Pakistan\n",
       "iii       3  Islamabad         1.0  2019  Pakistan\n",
       "iv        4     Multan         0.8  2019  Pakistan"
      ]
     },
     "execution_count": 79,
     "metadata": {},
     "output_type": "execute_result"
    }
   ],
   "source": [
    "frame3"
   ]
  },
  {
   "cell_type": "code",
   "execution_count": 80,
   "metadata": {},
   "outputs": [
    {
     "data": {
      "text/plain": [
       "Index(['Serial', 'City', 'Population', 'Year', 'Location'], dtype='object')"
      ]
     },
     "execution_count": 80,
     "metadata": {},
     "output_type": "execute_result"
    }
   ],
   "source": [
    "frame3.columns"
   ]
  },
  {
   "cell_type": "code",
   "execution_count": 81,
   "metadata": {},
   "outputs": [
    {
     "data": {
      "text/plain": [
       "i      1\n",
       "ii     2\n",
       "iii    3\n",
       "iv     4\n",
       "Name: Serial, dtype: int32"
      ]
     },
     "execution_count": 81,
     "metadata": {},
     "output_type": "execute_result"
    }
   ],
   "source": [
    "frame3.Serial"
   ]
  },
  {
   "cell_type": "code",
   "execution_count": 82,
   "metadata": {},
   "outputs": [
    {
     "data": {
      "text/plain": [
       "i        Karachi\n",
       "ii        Lahore\n",
       "iii    Islamabad\n",
       "iv        Multan\n",
       "Name: City, dtype: object"
      ]
     },
     "execution_count": 82,
     "metadata": {},
     "output_type": "execute_result"
    }
   ],
   "source": [
    "frame3.City"
   ]
  },
  {
   "cell_type": "code",
   "execution_count": 83,
   "metadata": {},
   "outputs": [
    {
     "data": {
      "text/plain": [
       "i        Karachi\n",
       "ii        Lahore\n",
       "iii    Islamabad\n",
       "iv        Multan\n",
       "Name: City, dtype: object"
      ]
     },
     "execution_count": 83,
     "metadata": {},
     "output_type": "execute_result"
    }
   ],
   "source": [
    "frame3['City']"
   ]
  },
  {
   "cell_type": "code",
   "execution_count": 84,
   "metadata": {},
   "outputs": [
    {
     "data": {
      "text/html": [
       "<div>\n",
       "<style scoped>\n",
       "    .dataframe tbody tr th:only-of-type {\n",
       "        vertical-align: middle;\n",
       "    }\n",
       "\n",
       "    .dataframe tbody tr th {\n",
       "        vertical-align: top;\n",
       "    }\n",
       "\n",
       "    .dataframe thead th {\n",
       "        text-align: right;\n",
       "    }\n",
       "</style>\n",
       "<table border=\"1\" class=\"dataframe\">\n",
       "  <thead>\n",
       "    <tr style=\"text-align: right;\">\n",
       "      <th></th>\n",
       "      <th>City</th>\n",
       "    </tr>\n",
       "  </thead>\n",
       "  <tbody>\n",
       "    <tr>\n",
       "      <th>i</th>\n",
       "      <td>Karachi</td>\n",
       "    </tr>\n",
       "    <tr>\n",
       "      <th>ii</th>\n",
       "      <td>Lahore</td>\n",
       "    </tr>\n",
       "    <tr>\n",
       "      <th>iii</th>\n",
       "      <td>Islamabad</td>\n",
       "    </tr>\n",
       "    <tr>\n",
       "      <th>iv</th>\n",
       "      <td>Multan</td>\n",
       "    </tr>\n",
       "  </tbody>\n",
       "</table>\n",
       "</div>"
      ],
      "text/plain": [
       "          City\n",
       "i      Karachi\n",
       "ii      Lahore\n",
       "iii  Islamabad\n",
       "iv      Multan"
      ]
     },
     "execution_count": 84,
     "metadata": {},
     "output_type": "execute_result"
    }
   ],
   "source": [
    "frame3[['City']]"
   ]
  },
  {
   "cell_type": "code",
   "execution_count": 85,
   "metadata": {},
   "outputs": [
    {
     "data": {
      "text/html": [
       "<div>\n",
       "<style scoped>\n",
       "    .dataframe tbody tr th:only-of-type {\n",
       "        vertical-align: middle;\n",
       "    }\n",
       "\n",
       "    .dataframe tbody tr th {\n",
       "        vertical-align: top;\n",
       "    }\n",
       "\n",
       "    .dataframe thead th {\n",
       "        text-align: right;\n",
       "    }\n",
       "</style>\n",
       "<table border=\"1\" class=\"dataframe\">\n",
       "  <thead>\n",
       "    <tr style=\"text-align: right;\">\n",
       "      <th></th>\n",
       "      <th>City</th>\n",
       "      <th>Population</th>\n",
       "    </tr>\n",
       "  </thead>\n",
       "  <tbody>\n",
       "    <tr>\n",
       "      <th>i</th>\n",
       "      <td>Karachi</td>\n",
       "      <td>4.0</td>\n",
       "    </tr>\n",
       "    <tr>\n",
       "      <th>ii</th>\n",
       "      <td>Lahore</td>\n",
       "      <td>1.5</td>\n",
       "    </tr>\n",
       "    <tr>\n",
       "      <th>iii</th>\n",
       "      <td>Islamabad</td>\n",
       "      <td>1.0</td>\n",
       "    </tr>\n",
       "    <tr>\n",
       "      <th>iv</th>\n",
       "      <td>Multan</td>\n",
       "      <td>0.8</td>\n",
       "    </tr>\n",
       "  </tbody>\n",
       "</table>\n",
       "</div>"
      ],
      "text/plain": [
       "          City  Population\n",
       "i      Karachi         4.0\n",
       "ii      Lahore         1.5\n",
       "iii  Islamabad         1.0\n",
       "iv      Multan         0.8"
      ]
     },
     "execution_count": 85,
     "metadata": {},
     "output_type": "execute_result"
    }
   ],
   "source": [
    "frame3[['City', 'Population']]"
   ]
  },
  {
   "cell_type": "code",
   "execution_count": 86,
   "metadata": {},
   "outputs": [
    {
     "data": {
      "text/html": [
       "<div>\n",
       "<style scoped>\n",
       "    .dataframe tbody tr th:only-of-type {\n",
       "        vertical-align: middle;\n",
       "    }\n",
       "\n",
       "    .dataframe tbody tr th {\n",
       "        vertical-align: top;\n",
       "    }\n",
       "\n",
       "    .dataframe thead th {\n",
       "        text-align: right;\n",
       "    }\n",
       "</style>\n",
       "<table border=\"1\" class=\"dataframe\">\n",
       "  <thead>\n",
       "    <tr style=\"text-align: right;\">\n",
       "      <th></th>\n",
       "      <th>Serial</th>\n",
       "      <th>City</th>\n",
       "      <th>Population</th>\n",
       "      <th>Year</th>\n",
       "      <th>Location</th>\n",
       "    </tr>\n",
       "  </thead>\n",
       "  <tbody>\n",
       "    <tr>\n",
       "      <th>i</th>\n",
       "      <td>1</td>\n",
       "      <td>Karachi</td>\n",
       "      <td>4.0</td>\n",
       "      <td>2019</td>\n",
       "      <td>Pakistan</td>\n",
       "    </tr>\n",
       "    <tr>\n",
       "      <th>ii</th>\n",
       "      <td>2</td>\n",
       "      <td>Lahore</td>\n",
       "      <td>1.5</td>\n",
       "      <td>2019</td>\n",
       "      <td>Pakistan</td>\n",
       "    </tr>\n",
       "    <tr>\n",
       "      <th>iii</th>\n",
       "      <td>3</td>\n",
       "      <td>Islamabad</td>\n",
       "      <td>1.0</td>\n",
       "      <td>2019</td>\n",
       "      <td>Pakistan</td>\n",
       "    </tr>\n",
       "    <tr>\n",
       "      <th>iv</th>\n",
       "      <td>4</td>\n",
       "      <td>Multan</td>\n",
       "      <td>0.8</td>\n",
       "      <td>2019</td>\n",
       "      <td>Pakistan</td>\n",
       "    </tr>\n",
       "  </tbody>\n",
       "</table>\n",
       "</div>"
      ],
      "text/plain": [
       "     Serial       City  Population  Year  Location\n",
       "i         1    Karachi         4.0  2019  Pakistan\n",
       "ii        2     Lahore         1.5  2019  Pakistan\n",
       "iii       3  Islamabad         1.0  2019  Pakistan\n",
       "iv        4     Multan         0.8  2019  Pakistan"
      ]
     },
     "execution_count": 86,
     "metadata": {},
     "output_type": "execute_result"
    }
   ],
   "source": [
    "frame3"
   ]
  },
  {
   "cell_type": "code",
   "execution_count": 87,
   "metadata": {},
   "outputs": [
    {
     "data": {
      "text/plain": [
       "Serial               1\n",
       "City           Karachi\n",
       "Population           4\n",
       "Year              2019\n",
       "Location      Pakistan\n",
       "Name: i, dtype: object"
      ]
     },
     "execution_count": 87,
     "metadata": {},
     "output_type": "execute_result"
    }
   ],
   "source": [
    "frame3.loc['i']"
   ]
  },
  {
   "cell_type": "code",
   "execution_count": 88,
   "metadata": {
    "scrolled": true
   },
   "outputs": [
    {
     "data": {
      "text/plain": [
       "Serial               2\n",
       "City            Lahore\n",
       "Population         1.5\n",
       "Year              2019\n",
       "Location      Pakistan\n",
       "Name: ii, dtype: object"
      ]
     },
     "execution_count": 88,
     "metadata": {},
     "output_type": "execute_result"
    }
   ],
   "source": [
    "frame3.iloc[1]"
   ]
  },
  {
   "cell_type": "code",
   "execution_count": 94,
   "metadata": {},
   "outputs": [],
   "source": [
    "data2 = pd.read_csv('banknotes.csv')"
   ]
  },
  {
   "cell_type": "code",
   "execution_count": 95,
   "metadata": {},
   "outputs": [
    {
     "data": {
      "text/html": [
       "<div>\n",
       "<style scoped>\n",
       "    .dataframe tbody tr th:only-of-type {\n",
       "        vertical-align: middle;\n",
       "    }\n",
       "\n",
       "    .dataframe tbody tr th {\n",
       "        vertical-align: top;\n",
       "    }\n",
       "\n",
       "    .dataframe thead th {\n",
       "        text-align: right;\n",
       "    }\n",
       "</style>\n",
       "<table border=\"1\" class=\"dataframe\">\n",
       "  <thead>\n",
       "    <tr style=\"text-align: right;\">\n",
       "      <th></th>\n",
       "      <th>V1</th>\n",
       "      <th>V2</th>\n",
       "      <th>V3</th>\n",
       "      <th>V4</th>\n",
       "      <th>Class</th>\n",
       "    </tr>\n",
       "  </thead>\n",
       "  <tbody>\n",
       "    <tr>\n",
       "      <th>0</th>\n",
       "      <td>3.621600</td>\n",
       "      <td>8.66610</td>\n",
       "      <td>-2.807300</td>\n",
       "      <td>-0.446990</td>\n",
       "      <td>1</td>\n",
       "    </tr>\n",
       "    <tr>\n",
       "      <th>1</th>\n",
       "      <td>4.545900</td>\n",
       "      <td>8.16740</td>\n",
       "      <td>-2.458600</td>\n",
       "      <td>-1.462100</td>\n",
       "      <td>1</td>\n",
       "    </tr>\n",
       "    <tr>\n",
       "      <th>2</th>\n",
       "      <td>3.866000</td>\n",
       "      <td>-2.63830</td>\n",
       "      <td>1.924200</td>\n",
       "      <td>0.106450</td>\n",
       "      <td>1</td>\n",
       "    </tr>\n",
       "    <tr>\n",
       "      <th>3</th>\n",
       "      <td>3.456600</td>\n",
       "      <td>9.52280</td>\n",
       "      <td>-4.011200</td>\n",
       "      <td>-3.594400</td>\n",
       "      <td>1</td>\n",
       "    </tr>\n",
       "    <tr>\n",
       "      <th>4</th>\n",
       "      <td>0.329240</td>\n",
       "      <td>-4.45520</td>\n",
       "      <td>4.571800</td>\n",
       "      <td>-0.988800</td>\n",
       "      <td>1</td>\n",
       "    </tr>\n",
       "    <tr>\n",
       "      <th>5</th>\n",
       "      <td>4.368400</td>\n",
       "      <td>9.67180</td>\n",
       "      <td>-3.960600</td>\n",
       "      <td>-3.162500</td>\n",
       "      <td>1</td>\n",
       "    </tr>\n",
       "    <tr>\n",
       "      <th>6</th>\n",
       "      <td>3.591200</td>\n",
       "      <td>3.01290</td>\n",
       "      <td>0.728880</td>\n",
       "      <td>0.564210</td>\n",
       "      <td>1</td>\n",
       "    </tr>\n",
       "    <tr>\n",
       "      <th>7</th>\n",
       "      <td>2.092200</td>\n",
       "      <td>-6.81000</td>\n",
       "      <td>8.463600</td>\n",
       "      <td>-0.602160</td>\n",
       "      <td>1</td>\n",
       "    </tr>\n",
       "    <tr>\n",
       "      <th>8</th>\n",
       "      <td>3.203200</td>\n",
       "      <td>5.75880</td>\n",
       "      <td>-0.753450</td>\n",
       "      <td>-0.612510</td>\n",
       "      <td>1</td>\n",
       "    </tr>\n",
       "    <tr>\n",
       "      <th>9</th>\n",
       "      <td>1.535600</td>\n",
       "      <td>9.17720</td>\n",
       "      <td>-2.271800</td>\n",
       "      <td>-0.735350</td>\n",
       "      <td>1</td>\n",
       "    </tr>\n",
       "    <tr>\n",
       "      <th>10</th>\n",
       "      <td>1.224700</td>\n",
       "      <td>8.77790</td>\n",
       "      <td>-2.213500</td>\n",
       "      <td>-0.806470</td>\n",
       "      <td>1</td>\n",
       "    </tr>\n",
       "    <tr>\n",
       "      <th>11</th>\n",
       "      <td>3.989900</td>\n",
       "      <td>-2.70660</td>\n",
       "      <td>2.394600</td>\n",
       "      <td>0.862910</td>\n",
       "      <td>1</td>\n",
       "    </tr>\n",
       "    <tr>\n",
       "      <th>12</th>\n",
       "      <td>1.899300</td>\n",
       "      <td>7.66250</td>\n",
       "      <td>0.153940</td>\n",
       "      <td>-3.110800</td>\n",
       "      <td>1</td>\n",
       "    </tr>\n",
       "    <tr>\n",
       "      <th>13</th>\n",
       "      <td>-1.576800</td>\n",
       "      <td>10.84300</td>\n",
       "      <td>2.546200</td>\n",
       "      <td>-2.936200</td>\n",
       "      <td>1</td>\n",
       "    </tr>\n",
       "    <tr>\n",
       "      <th>14</th>\n",
       "      <td>3.404000</td>\n",
       "      <td>8.72610</td>\n",
       "      <td>-2.991500</td>\n",
       "      <td>-0.572420</td>\n",
       "      <td>1</td>\n",
       "    </tr>\n",
       "    <tr>\n",
       "      <th>15</th>\n",
       "      <td>4.676500</td>\n",
       "      <td>-3.38950</td>\n",
       "      <td>3.489600</td>\n",
       "      <td>1.477100</td>\n",
       "      <td>1</td>\n",
       "    </tr>\n",
       "    <tr>\n",
       "      <th>16</th>\n",
       "      <td>2.671900</td>\n",
       "      <td>3.06460</td>\n",
       "      <td>0.371580</td>\n",
       "      <td>0.586190</td>\n",
       "      <td>1</td>\n",
       "    </tr>\n",
       "    <tr>\n",
       "      <th>17</th>\n",
       "      <td>0.803550</td>\n",
       "      <td>2.84730</td>\n",
       "      <td>4.343900</td>\n",
       "      <td>0.601700</td>\n",
       "      <td>1</td>\n",
       "    </tr>\n",
       "    <tr>\n",
       "      <th>18</th>\n",
       "      <td>1.447900</td>\n",
       "      <td>-4.87940</td>\n",
       "      <td>8.342800</td>\n",
       "      <td>-2.108600</td>\n",
       "      <td>1</td>\n",
       "    </tr>\n",
       "    <tr>\n",
       "      <th>19</th>\n",
       "      <td>5.242300</td>\n",
       "      <td>11.02720</td>\n",
       "      <td>-4.353000</td>\n",
       "      <td>-4.101300</td>\n",
       "      <td>1</td>\n",
       "    </tr>\n",
       "    <tr>\n",
       "      <th>20</th>\n",
       "      <td>5.786700</td>\n",
       "      <td>7.89020</td>\n",
       "      <td>-2.619600</td>\n",
       "      <td>-0.487080</td>\n",
       "      <td>1</td>\n",
       "    </tr>\n",
       "    <tr>\n",
       "      <th>21</th>\n",
       "      <td>0.329200</td>\n",
       "      <td>-4.45520</td>\n",
       "      <td>4.571800</td>\n",
       "      <td>-0.988800</td>\n",
       "      <td>1</td>\n",
       "    </tr>\n",
       "    <tr>\n",
       "      <th>22</th>\n",
       "      <td>3.936200</td>\n",
       "      <td>10.16220</td>\n",
       "      <td>-3.823500</td>\n",
       "      <td>-4.017200</td>\n",
       "      <td>1</td>\n",
       "    </tr>\n",
       "    <tr>\n",
       "      <th>23</th>\n",
       "      <td>0.935840</td>\n",
       "      <td>8.88550</td>\n",
       "      <td>-1.683100</td>\n",
       "      <td>-1.659900</td>\n",
       "      <td>1</td>\n",
       "    </tr>\n",
       "    <tr>\n",
       "      <th>24</th>\n",
       "      <td>4.433800</td>\n",
       "      <td>9.88700</td>\n",
       "      <td>-4.679500</td>\n",
       "      <td>-3.748300</td>\n",
       "      <td>1</td>\n",
       "    </tr>\n",
       "    <tr>\n",
       "      <th>25</th>\n",
       "      <td>0.705700</td>\n",
       "      <td>-5.49810</td>\n",
       "      <td>8.336800</td>\n",
       "      <td>-2.871500</td>\n",
       "      <td>1</td>\n",
       "    </tr>\n",
       "    <tr>\n",
       "      <th>26</th>\n",
       "      <td>1.143200</td>\n",
       "      <td>-3.74130</td>\n",
       "      <td>5.577700</td>\n",
       "      <td>-0.635780</td>\n",
       "      <td>1</td>\n",
       "    </tr>\n",
       "    <tr>\n",
       "      <th>27</th>\n",
       "      <td>-0.382140</td>\n",
       "      <td>8.39090</td>\n",
       "      <td>2.162400</td>\n",
       "      <td>-3.740500</td>\n",
       "      <td>1</td>\n",
       "    </tr>\n",
       "    <tr>\n",
       "      <th>28</th>\n",
       "      <td>6.563300</td>\n",
       "      <td>9.81870</td>\n",
       "      <td>-4.411300</td>\n",
       "      <td>-3.225800</td>\n",
       "      <td>1</td>\n",
       "    </tr>\n",
       "    <tr>\n",
       "      <th>29</th>\n",
       "      <td>4.890600</td>\n",
       "      <td>-3.35840</td>\n",
       "      <td>3.420200</td>\n",
       "      <td>1.090500</td>\n",
       "      <td>1</td>\n",
       "    </tr>\n",
       "    <tr>\n",
       "      <th>...</th>\n",
       "      <td>...</td>\n",
       "      <td>...</td>\n",
       "      <td>...</td>\n",
       "      <td>...</td>\n",
       "      <td>...</td>\n",
       "    </tr>\n",
       "    <tr>\n",
       "      <th>1342</th>\n",
       "      <td>-1.747900</td>\n",
       "      <td>-5.82300</td>\n",
       "      <td>5.869900</td>\n",
       "      <td>1.212000</td>\n",
       "      <td>2</td>\n",
       "    </tr>\n",
       "    <tr>\n",
       "      <th>1343</th>\n",
       "      <td>-0.959230</td>\n",
       "      <td>-6.71280</td>\n",
       "      <td>4.985700</td>\n",
       "      <td>0.328860</td>\n",
       "      <td>2</td>\n",
       "    </tr>\n",
       "    <tr>\n",
       "      <th>1344</th>\n",
       "      <td>1.345100</td>\n",
       "      <td>0.23589</td>\n",
       "      <td>-1.878500</td>\n",
       "      <td>1.325800</td>\n",
       "      <td>2</td>\n",
       "    </tr>\n",
       "    <tr>\n",
       "      <th>1345</th>\n",
       "      <td>2.227900</td>\n",
       "      <td>4.09510</td>\n",
       "      <td>-4.803700</td>\n",
       "      <td>-2.111200</td>\n",
       "      <td>2</td>\n",
       "    </tr>\n",
       "    <tr>\n",
       "      <th>1346</th>\n",
       "      <td>1.257200</td>\n",
       "      <td>4.87310</td>\n",
       "      <td>-5.286100</td>\n",
       "      <td>-5.874100</td>\n",
       "      <td>2</td>\n",
       "    </tr>\n",
       "    <tr>\n",
       "      <th>1347</th>\n",
       "      <td>-5.385700</td>\n",
       "      <td>9.12140</td>\n",
       "      <td>-0.419290</td>\n",
       "      <td>-5.918100</td>\n",
       "      <td>2</td>\n",
       "    </tr>\n",
       "    <tr>\n",
       "      <th>1348</th>\n",
       "      <td>-2.978600</td>\n",
       "      <td>2.34450</td>\n",
       "      <td>0.526670</td>\n",
       "      <td>-0.401730</td>\n",
       "      <td>2</td>\n",
       "    </tr>\n",
       "    <tr>\n",
       "      <th>1349</th>\n",
       "      <td>-1.585100</td>\n",
       "      <td>-2.15620</td>\n",
       "      <td>1.708200</td>\n",
       "      <td>0.901700</td>\n",
       "      <td>2</td>\n",
       "    </tr>\n",
       "    <tr>\n",
       "      <th>1350</th>\n",
       "      <td>-0.218880</td>\n",
       "      <td>-2.20380</td>\n",
       "      <td>-0.095400</td>\n",
       "      <td>0.564210</td>\n",
       "      <td>2</td>\n",
       "    </tr>\n",
       "    <tr>\n",
       "      <th>1351</th>\n",
       "      <td>1.318300</td>\n",
       "      <td>1.90170</td>\n",
       "      <td>-3.311100</td>\n",
       "      <td>0.065071</td>\n",
       "      <td>2</td>\n",
       "    </tr>\n",
       "    <tr>\n",
       "      <th>1352</th>\n",
       "      <td>1.489600</td>\n",
       "      <td>3.42880</td>\n",
       "      <td>-4.030900</td>\n",
       "      <td>-1.425900</td>\n",
       "      <td>2</td>\n",
       "    </tr>\n",
       "    <tr>\n",
       "      <th>1353</th>\n",
       "      <td>0.115920</td>\n",
       "      <td>3.22190</td>\n",
       "      <td>-3.430200</td>\n",
       "      <td>-2.845700</td>\n",
       "      <td>2</td>\n",
       "    </tr>\n",
       "    <tr>\n",
       "      <th>1354</th>\n",
       "      <td>-3.392400</td>\n",
       "      <td>3.35640</td>\n",
       "      <td>-0.720040</td>\n",
       "      <td>-3.523300</td>\n",
       "      <td>2</td>\n",
       "    </tr>\n",
       "    <tr>\n",
       "      <th>1355</th>\n",
       "      <td>-6.163200</td>\n",
       "      <td>8.70960</td>\n",
       "      <td>-0.216210</td>\n",
       "      <td>-3.634500</td>\n",
       "      <td>2</td>\n",
       "    </tr>\n",
       "    <tr>\n",
       "      <th>1356</th>\n",
       "      <td>-4.078600</td>\n",
       "      <td>2.92390</td>\n",
       "      <td>0.870260</td>\n",
       "      <td>-0.653890</td>\n",
       "      <td>2</td>\n",
       "    </tr>\n",
       "    <tr>\n",
       "      <th>1357</th>\n",
       "      <td>-2.589900</td>\n",
       "      <td>-0.39110</td>\n",
       "      <td>0.934520</td>\n",
       "      <td>0.429720</td>\n",
       "      <td>2</td>\n",
       "    </tr>\n",
       "    <tr>\n",
       "      <th>1358</th>\n",
       "      <td>-1.011600</td>\n",
       "      <td>-0.19038</td>\n",
       "      <td>-0.905970</td>\n",
       "      <td>0.003003</td>\n",
       "      <td>2</td>\n",
       "    </tr>\n",
       "    <tr>\n",
       "      <th>1359</th>\n",
       "      <td>0.066129</td>\n",
       "      <td>2.49140</td>\n",
       "      <td>-2.940100</td>\n",
       "      <td>-0.621560</td>\n",
       "      <td>2</td>\n",
       "    </tr>\n",
       "    <tr>\n",
       "      <th>1360</th>\n",
       "      <td>-0.247450</td>\n",
       "      <td>1.93680</td>\n",
       "      <td>-2.469700</td>\n",
       "      <td>-0.805180</td>\n",
       "      <td>2</td>\n",
       "    </tr>\n",
       "    <tr>\n",
       "      <th>1361</th>\n",
       "      <td>-1.573200</td>\n",
       "      <td>1.06360</td>\n",
       "      <td>-0.712320</td>\n",
       "      <td>-0.838800</td>\n",
       "      <td>2</td>\n",
       "    </tr>\n",
       "    <tr>\n",
       "      <th>1362</th>\n",
       "      <td>-2.166800</td>\n",
       "      <td>1.59330</td>\n",
       "      <td>0.045122</td>\n",
       "      <td>-1.678000</td>\n",
       "      <td>2</td>\n",
       "    </tr>\n",
       "    <tr>\n",
       "      <th>1363</th>\n",
       "      <td>-1.166700</td>\n",
       "      <td>-1.42370</td>\n",
       "      <td>2.924100</td>\n",
       "      <td>0.661190</td>\n",
       "      <td>2</td>\n",
       "    </tr>\n",
       "    <tr>\n",
       "      <th>1364</th>\n",
       "      <td>-2.839100</td>\n",
       "      <td>-6.63000</td>\n",
       "      <td>10.484900</td>\n",
       "      <td>-0.421130</td>\n",
       "      <td>2</td>\n",
       "    </tr>\n",
       "    <tr>\n",
       "      <th>1365</th>\n",
       "      <td>-4.504600</td>\n",
       "      <td>-5.81260</td>\n",
       "      <td>10.886700</td>\n",
       "      <td>-0.528460</td>\n",
       "      <td>2</td>\n",
       "    </tr>\n",
       "    <tr>\n",
       "      <th>1366</th>\n",
       "      <td>-2.410000</td>\n",
       "      <td>3.74330</td>\n",
       "      <td>-0.402150</td>\n",
       "      <td>-1.295300</td>\n",
       "      <td>2</td>\n",
       "    </tr>\n",
       "    <tr>\n",
       "      <th>1367</th>\n",
       "      <td>0.406140</td>\n",
       "      <td>1.34920</td>\n",
       "      <td>-1.450100</td>\n",
       "      <td>-0.559490</td>\n",
       "      <td>2</td>\n",
       "    </tr>\n",
       "    <tr>\n",
       "      <th>1368</th>\n",
       "      <td>-1.388700</td>\n",
       "      <td>-4.87730</td>\n",
       "      <td>6.477400</td>\n",
       "      <td>0.341790</td>\n",
       "      <td>2</td>\n",
       "    </tr>\n",
       "    <tr>\n",
       "      <th>1369</th>\n",
       "      <td>-3.750300</td>\n",
       "      <td>-13.45860</td>\n",
       "      <td>17.593200</td>\n",
       "      <td>-2.777100</td>\n",
       "      <td>2</td>\n",
       "    </tr>\n",
       "    <tr>\n",
       "      <th>1370</th>\n",
       "      <td>-3.563700</td>\n",
       "      <td>-8.38270</td>\n",
       "      <td>12.393000</td>\n",
       "      <td>-1.282300</td>\n",
       "      <td>2</td>\n",
       "    </tr>\n",
       "    <tr>\n",
       "      <th>1371</th>\n",
       "      <td>-2.541900</td>\n",
       "      <td>-0.65804</td>\n",
       "      <td>2.684200</td>\n",
       "      <td>1.195200</td>\n",
       "      <td>2</td>\n",
       "    </tr>\n",
       "  </tbody>\n",
       "</table>\n",
       "<p>1372 rows × 5 columns</p>\n",
       "</div>"
      ],
      "text/plain": [
       "            V1        V2         V3        V4  Class\n",
       "0     3.621600   8.66610  -2.807300 -0.446990      1\n",
       "1     4.545900   8.16740  -2.458600 -1.462100      1\n",
       "2     3.866000  -2.63830   1.924200  0.106450      1\n",
       "3     3.456600   9.52280  -4.011200 -3.594400      1\n",
       "4     0.329240  -4.45520   4.571800 -0.988800      1\n",
       "5     4.368400   9.67180  -3.960600 -3.162500      1\n",
       "6     3.591200   3.01290   0.728880  0.564210      1\n",
       "7     2.092200  -6.81000   8.463600 -0.602160      1\n",
       "8     3.203200   5.75880  -0.753450 -0.612510      1\n",
       "9     1.535600   9.17720  -2.271800 -0.735350      1\n",
       "10    1.224700   8.77790  -2.213500 -0.806470      1\n",
       "11    3.989900  -2.70660   2.394600  0.862910      1\n",
       "12    1.899300   7.66250   0.153940 -3.110800      1\n",
       "13   -1.576800  10.84300   2.546200 -2.936200      1\n",
       "14    3.404000   8.72610  -2.991500 -0.572420      1\n",
       "15    4.676500  -3.38950   3.489600  1.477100      1\n",
       "16    2.671900   3.06460   0.371580  0.586190      1\n",
       "17    0.803550   2.84730   4.343900  0.601700      1\n",
       "18    1.447900  -4.87940   8.342800 -2.108600      1\n",
       "19    5.242300  11.02720  -4.353000 -4.101300      1\n",
       "20    5.786700   7.89020  -2.619600 -0.487080      1\n",
       "21    0.329200  -4.45520   4.571800 -0.988800      1\n",
       "22    3.936200  10.16220  -3.823500 -4.017200      1\n",
       "23    0.935840   8.88550  -1.683100 -1.659900      1\n",
       "24    4.433800   9.88700  -4.679500 -3.748300      1\n",
       "25    0.705700  -5.49810   8.336800 -2.871500      1\n",
       "26    1.143200  -3.74130   5.577700 -0.635780      1\n",
       "27   -0.382140   8.39090   2.162400 -3.740500      1\n",
       "28    6.563300   9.81870  -4.411300 -3.225800      1\n",
       "29    4.890600  -3.35840   3.420200  1.090500      1\n",
       "...        ...       ...        ...       ...    ...\n",
       "1342 -1.747900  -5.82300   5.869900  1.212000      2\n",
       "1343 -0.959230  -6.71280   4.985700  0.328860      2\n",
       "1344  1.345100   0.23589  -1.878500  1.325800      2\n",
       "1345  2.227900   4.09510  -4.803700 -2.111200      2\n",
       "1346  1.257200   4.87310  -5.286100 -5.874100      2\n",
       "1347 -5.385700   9.12140  -0.419290 -5.918100      2\n",
       "1348 -2.978600   2.34450   0.526670 -0.401730      2\n",
       "1349 -1.585100  -2.15620   1.708200  0.901700      2\n",
       "1350 -0.218880  -2.20380  -0.095400  0.564210      2\n",
       "1351  1.318300   1.90170  -3.311100  0.065071      2\n",
       "1352  1.489600   3.42880  -4.030900 -1.425900      2\n",
       "1353  0.115920   3.22190  -3.430200 -2.845700      2\n",
       "1354 -3.392400   3.35640  -0.720040 -3.523300      2\n",
       "1355 -6.163200   8.70960  -0.216210 -3.634500      2\n",
       "1356 -4.078600   2.92390   0.870260 -0.653890      2\n",
       "1357 -2.589900  -0.39110   0.934520  0.429720      2\n",
       "1358 -1.011600  -0.19038  -0.905970  0.003003      2\n",
       "1359  0.066129   2.49140  -2.940100 -0.621560      2\n",
       "1360 -0.247450   1.93680  -2.469700 -0.805180      2\n",
       "1361 -1.573200   1.06360  -0.712320 -0.838800      2\n",
       "1362 -2.166800   1.59330   0.045122 -1.678000      2\n",
       "1363 -1.166700  -1.42370   2.924100  0.661190      2\n",
       "1364 -2.839100  -6.63000  10.484900 -0.421130      2\n",
       "1365 -4.504600  -5.81260  10.886700 -0.528460      2\n",
       "1366 -2.410000   3.74330  -0.402150 -1.295300      2\n",
       "1367  0.406140   1.34920  -1.450100 -0.559490      2\n",
       "1368 -1.388700  -4.87730   6.477400  0.341790      2\n",
       "1369 -3.750300 -13.45860  17.593200 -2.777100      2\n",
       "1370 -3.563700  -8.38270  12.393000 -1.282300      2\n",
       "1371 -2.541900  -0.65804   2.684200  1.195200      2\n",
       "\n",
       "[1372 rows x 5 columns]"
      ]
     },
     "execution_count": 95,
     "metadata": {},
     "output_type": "execute_result"
    }
   ],
   "source": [
    "data2"
   ]
  },
  {
   "cell_type": "code",
   "execution_count": 96,
   "metadata": {},
   "outputs": [
    {
     "data": {
      "text/html": [
       "<div>\n",
       "<style scoped>\n",
       "    .dataframe tbody tr th:only-of-type {\n",
       "        vertical-align: middle;\n",
       "    }\n",
       "\n",
       "    .dataframe tbody tr th {\n",
       "        vertical-align: top;\n",
       "    }\n",
       "\n",
       "    .dataframe thead th {\n",
       "        text-align: right;\n",
       "    }\n",
       "</style>\n",
       "<table border=\"1\" class=\"dataframe\">\n",
       "  <thead>\n",
       "    <tr style=\"text-align: right;\">\n",
       "      <th></th>\n",
       "      <th>V1</th>\n",
       "      <th>V2</th>\n",
       "      <th>V3</th>\n",
       "      <th>V4</th>\n",
       "      <th>Class</th>\n",
       "    </tr>\n",
       "  </thead>\n",
       "  <tbody>\n",
       "    <tr>\n",
       "      <th>0</th>\n",
       "      <td>3.62160</td>\n",
       "      <td>8.6661</td>\n",
       "      <td>-2.8073</td>\n",
       "      <td>-0.44699</td>\n",
       "      <td>1</td>\n",
       "    </tr>\n",
       "    <tr>\n",
       "      <th>1</th>\n",
       "      <td>4.54590</td>\n",
       "      <td>8.1674</td>\n",
       "      <td>-2.4586</td>\n",
       "      <td>-1.46210</td>\n",
       "      <td>1</td>\n",
       "    </tr>\n",
       "    <tr>\n",
       "      <th>2</th>\n",
       "      <td>3.86600</td>\n",
       "      <td>-2.6383</td>\n",
       "      <td>1.9242</td>\n",
       "      <td>0.10645</td>\n",
       "      <td>1</td>\n",
       "    </tr>\n",
       "    <tr>\n",
       "      <th>3</th>\n",
       "      <td>3.45660</td>\n",
       "      <td>9.5228</td>\n",
       "      <td>-4.0112</td>\n",
       "      <td>-3.59440</td>\n",
       "      <td>1</td>\n",
       "    </tr>\n",
       "    <tr>\n",
       "      <th>4</th>\n",
       "      <td>0.32924</td>\n",
       "      <td>-4.4552</td>\n",
       "      <td>4.5718</td>\n",
       "      <td>-0.98880</td>\n",
       "      <td>1</td>\n",
       "    </tr>\n",
       "  </tbody>\n",
       "</table>\n",
       "</div>"
      ],
      "text/plain": [
       "        V1      V2      V3       V4  Class\n",
       "0  3.62160  8.6661 -2.8073 -0.44699      1\n",
       "1  4.54590  8.1674 -2.4586 -1.46210      1\n",
       "2  3.86600 -2.6383  1.9242  0.10645      1\n",
       "3  3.45660  9.5228 -4.0112 -3.59440      1\n",
       "4  0.32924 -4.4552  4.5718 -0.98880      1"
      ]
     },
     "execution_count": 96,
     "metadata": {},
     "output_type": "execute_result"
    }
   ],
   "source": [
    "data2.head()"
   ]
  },
  {
   "cell_type": "code",
   "execution_count": 97,
   "metadata": {},
   "outputs": [
    {
     "data": {
      "text/html": [
       "<div>\n",
       "<style scoped>\n",
       "    .dataframe tbody tr th:only-of-type {\n",
       "        vertical-align: middle;\n",
       "    }\n",
       "\n",
       "    .dataframe tbody tr th {\n",
       "        vertical-align: top;\n",
       "    }\n",
       "\n",
       "    .dataframe thead th {\n",
       "        text-align: right;\n",
       "    }\n",
       "</style>\n",
       "<table border=\"1\" class=\"dataframe\">\n",
       "  <thead>\n",
       "    <tr style=\"text-align: right;\">\n",
       "      <th></th>\n",
       "      <th>V1</th>\n",
       "      <th>V2</th>\n",
       "      <th>V3</th>\n",
       "      <th>V4</th>\n",
       "      <th>Class</th>\n",
       "    </tr>\n",
       "  </thead>\n",
       "  <tbody>\n",
       "    <tr>\n",
       "      <th>1367</th>\n",
       "      <td>0.40614</td>\n",
       "      <td>1.34920</td>\n",
       "      <td>-1.4501</td>\n",
       "      <td>-0.55949</td>\n",
       "      <td>2</td>\n",
       "    </tr>\n",
       "    <tr>\n",
       "      <th>1368</th>\n",
       "      <td>-1.38870</td>\n",
       "      <td>-4.87730</td>\n",
       "      <td>6.4774</td>\n",
       "      <td>0.34179</td>\n",
       "      <td>2</td>\n",
       "    </tr>\n",
       "    <tr>\n",
       "      <th>1369</th>\n",
       "      <td>-3.75030</td>\n",
       "      <td>-13.45860</td>\n",
       "      <td>17.5932</td>\n",
       "      <td>-2.77710</td>\n",
       "      <td>2</td>\n",
       "    </tr>\n",
       "    <tr>\n",
       "      <th>1370</th>\n",
       "      <td>-3.56370</td>\n",
       "      <td>-8.38270</td>\n",
       "      <td>12.3930</td>\n",
       "      <td>-1.28230</td>\n",
       "      <td>2</td>\n",
       "    </tr>\n",
       "    <tr>\n",
       "      <th>1371</th>\n",
       "      <td>-2.54190</td>\n",
       "      <td>-0.65804</td>\n",
       "      <td>2.6842</td>\n",
       "      <td>1.19520</td>\n",
       "      <td>2</td>\n",
       "    </tr>\n",
       "  </tbody>\n",
       "</table>\n",
       "</div>"
      ],
      "text/plain": [
       "           V1        V2       V3       V4  Class\n",
       "1367  0.40614   1.34920  -1.4501 -0.55949      2\n",
       "1368 -1.38870  -4.87730   6.4774  0.34179      2\n",
       "1369 -3.75030 -13.45860  17.5932 -2.77710      2\n",
       "1370 -3.56370  -8.38270  12.3930 -1.28230      2\n",
       "1371 -2.54190  -0.65804   2.6842  1.19520      2"
      ]
     },
     "execution_count": 97,
     "metadata": {},
     "output_type": "execute_result"
    }
   ],
   "source": [
    "data2.tail()"
   ]
  },
  {
   "cell_type": "code",
   "execution_count": 98,
   "metadata": {},
   "outputs": [
    {
     "data": {
      "text/html": [
       "<div>\n",
       "<style scoped>\n",
       "    .dataframe tbody tr th:only-of-type {\n",
       "        vertical-align: middle;\n",
       "    }\n",
       "\n",
       "    .dataframe tbody tr th {\n",
       "        vertical-align: top;\n",
       "    }\n",
       "\n",
       "    .dataframe thead th {\n",
       "        text-align: right;\n",
       "    }\n",
       "</style>\n",
       "<table border=\"1\" class=\"dataframe\">\n",
       "  <thead>\n",
       "    <tr style=\"text-align: right;\">\n",
       "      <th></th>\n",
       "      <th>V1</th>\n",
       "      <th>V2</th>\n",
       "      <th>V3</th>\n",
       "      <th>V4</th>\n",
       "      <th>Class</th>\n",
       "    </tr>\n",
       "  </thead>\n",
       "  <tbody>\n",
       "    <tr>\n",
       "      <th>0</th>\n",
       "      <td>3.62160</td>\n",
       "      <td>8.6661</td>\n",
       "      <td>-2.80730</td>\n",
       "      <td>-0.44699</td>\n",
       "      <td>1</td>\n",
       "    </tr>\n",
       "    <tr>\n",
       "      <th>1</th>\n",
       "      <td>4.54590</td>\n",
       "      <td>8.1674</td>\n",
       "      <td>-2.45860</td>\n",
       "      <td>-1.46210</td>\n",
       "      <td>1</td>\n",
       "    </tr>\n",
       "    <tr>\n",
       "      <th>2</th>\n",
       "      <td>3.86600</td>\n",
       "      <td>-2.6383</td>\n",
       "      <td>1.92420</td>\n",
       "      <td>0.10645</td>\n",
       "      <td>1</td>\n",
       "    </tr>\n",
       "    <tr>\n",
       "      <th>3</th>\n",
       "      <td>3.45660</td>\n",
       "      <td>9.5228</td>\n",
       "      <td>-4.01120</td>\n",
       "      <td>-3.59440</td>\n",
       "      <td>1</td>\n",
       "    </tr>\n",
       "    <tr>\n",
       "      <th>4</th>\n",
       "      <td>0.32924</td>\n",
       "      <td>-4.4552</td>\n",
       "      <td>4.57180</td>\n",
       "      <td>-0.98880</td>\n",
       "      <td>1</td>\n",
       "    </tr>\n",
       "    <tr>\n",
       "      <th>5</th>\n",
       "      <td>4.36840</td>\n",
       "      <td>9.6718</td>\n",
       "      <td>-3.96060</td>\n",
       "      <td>-3.16250</td>\n",
       "      <td>1</td>\n",
       "    </tr>\n",
       "    <tr>\n",
       "      <th>6</th>\n",
       "      <td>3.59120</td>\n",
       "      <td>3.0129</td>\n",
       "      <td>0.72888</td>\n",
       "      <td>0.56421</td>\n",
       "      <td>1</td>\n",
       "    </tr>\n",
       "    <tr>\n",
       "      <th>7</th>\n",
       "      <td>2.09220</td>\n",
       "      <td>-6.8100</td>\n",
       "      <td>8.46360</td>\n",
       "      <td>-0.60216</td>\n",
       "      <td>1</td>\n",
       "    </tr>\n",
       "    <tr>\n",
       "      <th>8</th>\n",
       "      <td>3.20320</td>\n",
       "      <td>5.7588</td>\n",
       "      <td>-0.75345</td>\n",
       "      <td>-0.61251</td>\n",
       "      <td>1</td>\n",
       "    </tr>\n",
       "    <tr>\n",
       "      <th>9</th>\n",
       "      <td>1.53560</td>\n",
       "      <td>9.1772</td>\n",
       "      <td>-2.27180</td>\n",
       "      <td>-0.73535</td>\n",
       "      <td>1</td>\n",
       "    </tr>\n",
       "  </tbody>\n",
       "</table>\n",
       "</div>"
      ],
      "text/plain": [
       "        V1      V2       V3       V4  Class\n",
       "0  3.62160  8.6661 -2.80730 -0.44699      1\n",
       "1  4.54590  8.1674 -2.45860 -1.46210      1\n",
       "2  3.86600 -2.6383  1.92420  0.10645      1\n",
       "3  3.45660  9.5228 -4.01120 -3.59440      1\n",
       "4  0.32924 -4.4552  4.57180 -0.98880      1\n",
       "5  4.36840  9.6718 -3.96060 -3.16250      1\n",
       "6  3.59120  3.0129  0.72888  0.56421      1\n",
       "7  2.09220 -6.8100  8.46360 -0.60216      1\n",
       "8  3.20320  5.7588 -0.75345 -0.61251      1\n",
       "9  1.53560  9.1772 -2.27180 -0.73535      1"
      ]
     },
     "execution_count": 98,
     "metadata": {},
     "output_type": "execute_result"
    }
   ],
   "source": [
    "data2.head(10)"
   ]
  },
  {
   "cell_type": "code",
   "execution_count": 99,
   "metadata": {},
   "outputs": [
    {
     "data": {
      "text/html": [
       "<div>\n",
       "<style scoped>\n",
       "    .dataframe tbody tr th:only-of-type {\n",
       "        vertical-align: middle;\n",
       "    }\n",
       "\n",
       "    .dataframe tbody tr th {\n",
       "        vertical-align: top;\n",
       "    }\n",
       "\n",
       "    .dataframe thead th {\n",
       "        text-align: right;\n",
       "    }\n",
       "</style>\n",
       "<table border=\"1\" class=\"dataframe\">\n",
       "  <thead>\n",
       "    <tr style=\"text-align: right;\">\n",
       "      <th></th>\n",
       "      <th>V1</th>\n",
       "      <th>V2</th>\n",
       "      <th>V3</th>\n",
       "      <th>V4</th>\n",
       "      <th>Class</th>\n",
       "    </tr>\n",
       "  </thead>\n",
       "  <tbody>\n",
       "    <tr>\n",
       "      <th>count</th>\n",
       "      <td>1372.000000</td>\n",
       "      <td>1372.000000</td>\n",
       "      <td>1372.000000</td>\n",
       "      <td>1372.000000</td>\n",
       "      <td>1372.000000</td>\n",
       "    </tr>\n",
       "    <tr>\n",
       "      <th>mean</th>\n",
       "      <td>0.433735</td>\n",
       "      <td>1.922353</td>\n",
       "      <td>1.397627</td>\n",
       "      <td>-1.191657</td>\n",
       "      <td>1.444606</td>\n",
       "    </tr>\n",
       "    <tr>\n",
       "      <th>std</th>\n",
       "      <td>2.842763</td>\n",
       "      <td>5.869047</td>\n",
       "      <td>4.310030</td>\n",
       "      <td>2.101013</td>\n",
       "      <td>0.497103</td>\n",
       "    </tr>\n",
       "    <tr>\n",
       "      <th>min</th>\n",
       "      <td>-7.042100</td>\n",
       "      <td>-13.773100</td>\n",
       "      <td>-5.286100</td>\n",
       "      <td>-8.548200</td>\n",
       "      <td>1.000000</td>\n",
       "    </tr>\n",
       "    <tr>\n",
       "      <th>25%</th>\n",
       "      <td>-1.773000</td>\n",
       "      <td>-1.708200</td>\n",
       "      <td>-1.574975</td>\n",
       "      <td>-2.413450</td>\n",
       "      <td>1.000000</td>\n",
       "    </tr>\n",
       "    <tr>\n",
       "      <th>50%</th>\n",
       "      <td>0.496180</td>\n",
       "      <td>2.319650</td>\n",
       "      <td>0.616630</td>\n",
       "      <td>-0.586650</td>\n",
       "      <td>1.000000</td>\n",
       "    </tr>\n",
       "    <tr>\n",
       "      <th>75%</th>\n",
       "      <td>2.821475</td>\n",
       "      <td>6.814625</td>\n",
       "      <td>3.179250</td>\n",
       "      <td>0.394810</td>\n",
       "      <td>2.000000</td>\n",
       "    </tr>\n",
       "    <tr>\n",
       "      <th>max</th>\n",
       "      <td>6.824800</td>\n",
       "      <td>12.951600</td>\n",
       "      <td>17.927400</td>\n",
       "      <td>2.449500</td>\n",
       "      <td>2.000000</td>\n",
       "    </tr>\n",
       "  </tbody>\n",
       "</table>\n",
       "</div>"
      ],
      "text/plain": [
       "                V1           V2           V3           V4        Class\n",
       "count  1372.000000  1372.000000  1372.000000  1372.000000  1372.000000\n",
       "mean      0.433735     1.922353     1.397627    -1.191657     1.444606\n",
       "std       2.842763     5.869047     4.310030     2.101013     0.497103\n",
       "min      -7.042100   -13.773100    -5.286100    -8.548200     1.000000\n",
       "25%      -1.773000    -1.708200    -1.574975    -2.413450     1.000000\n",
       "50%       0.496180     2.319650     0.616630    -0.586650     1.000000\n",
       "75%       2.821475     6.814625     3.179250     0.394810     2.000000\n",
       "max       6.824800    12.951600    17.927400     2.449500     2.000000"
      ]
     },
     "execution_count": 99,
     "metadata": {},
     "output_type": "execute_result"
    }
   ],
   "source": [
    "data2.describe()"
   ]
  },
  {
   "cell_type": "code",
   "execution_count": 100,
   "metadata": {},
   "outputs": [
    {
     "name": "stdout",
     "output_type": "stream",
     "text": [
      "<class 'pandas.core.frame.DataFrame'>\n",
      "RangeIndex: 1372 entries, 0 to 1371\n",
      "Data columns (total 5 columns):\n",
      "V1       1372 non-null float64\n",
      "V2       1372 non-null float64\n",
      "V3       1372 non-null float64\n",
      "V4       1372 non-null float64\n",
      "Class    1372 non-null int64\n",
      "dtypes: float64(4), int64(1)\n",
      "memory usage: 53.7 KB\n"
     ]
    }
   ],
   "source": [
    "data2.info()"
   ]
  },
  {
   "cell_type": "code",
   "execution_count": 101,
   "metadata": {},
   "outputs": [],
   "source": [
    "import numpy as np"
   ]
  },
  {
   "cell_type": "code",
   "execution_count": 102,
   "metadata": {
    "scrolled": true
   },
   "outputs": [],
   "source": [
    "frame4 = pd.DataFrame(np.arange(9).reshape(3,3), index = [1, 2, 3], columns = ['Karachi', 'Lahore', 'Multan'])"
   ]
  },
  {
   "cell_type": "code",
   "execution_count": 103,
   "metadata": {},
   "outputs": [
    {
     "data": {
      "text/html": [
       "<div>\n",
       "<style scoped>\n",
       "    .dataframe tbody tr th:only-of-type {\n",
       "        vertical-align: middle;\n",
       "    }\n",
       "\n",
       "    .dataframe tbody tr th {\n",
       "        vertical-align: top;\n",
       "    }\n",
       "\n",
       "    .dataframe thead th {\n",
       "        text-align: right;\n",
       "    }\n",
       "</style>\n",
       "<table border=\"1\" class=\"dataframe\">\n",
       "  <thead>\n",
       "    <tr style=\"text-align: right;\">\n",
       "      <th></th>\n",
       "      <th>Karachi</th>\n",
       "      <th>Lahore</th>\n",
       "      <th>Multan</th>\n",
       "    </tr>\n",
       "  </thead>\n",
       "  <tbody>\n",
       "    <tr>\n",
       "      <th>1</th>\n",
       "      <td>0</td>\n",
       "      <td>1</td>\n",
       "      <td>2</td>\n",
       "    </tr>\n",
       "    <tr>\n",
       "      <th>2</th>\n",
       "      <td>3</td>\n",
       "      <td>4</td>\n",
       "      <td>5</td>\n",
       "    </tr>\n",
       "    <tr>\n",
       "      <th>3</th>\n",
       "      <td>6</td>\n",
       "      <td>7</td>\n",
       "      <td>8</td>\n",
       "    </tr>\n",
       "  </tbody>\n",
       "</table>\n",
       "</div>"
      ],
      "text/plain": [
       "   Karachi  Lahore  Multan\n",
       "1        0       1       2\n",
       "2        3       4       5\n",
       "3        6       7       8"
      ]
     },
     "execution_count": 103,
     "metadata": {},
     "output_type": "execute_result"
    }
   ],
   "source": [
    "frame4"
   ]
  },
  {
   "cell_type": "code",
   "execution_count": 104,
   "metadata": {},
   "outputs": [],
   "source": [
    "frame5 = frame4.reindex([0, 1, 2, 3, 4,])"
   ]
  },
  {
   "cell_type": "code",
   "execution_count": 105,
   "metadata": {},
   "outputs": [
    {
     "data": {
      "text/html": [
       "<div>\n",
       "<style scoped>\n",
       "    .dataframe tbody tr th:only-of-type {\n",
       "        vertical-align: middle;\n",
       "    }\n",
       "\n",
       "    .dataframe tbody tr th {\n",
       "        vertical-align: top;\n",
       "    }\n",
       "\n",
       "    .dataframe thead th {\n",
       "        text-align: right;\n",
       "    }\n",
       "</style>\n",
       "<table border=\"1\" class=\"dataframe\">\n",
       "  <thead>\n",
       "    <tr style=\"text-align: right;\">\n",
       "      <th></th>\n",
       "      <th>Karachi</th>\n",
       "      <th>Lahore</th>\n",
       "      <th>Multan</th>\n",
       "    </tr>\n",
       "  </thead>\n",
       "  <tbody>\n",
       "    <tr>\n",
       "      <th>0</th>\n",
       "      <td>NaN</td>\n",
       "      <td>NaN</td>\n",
       "      <td>NaN</td>\n",
       "    </tr>\n",
       "    <tr>\n",
       "      <th>1</th>\n",
       "      <td>0.0</td>\n",
       "      <td>1.0</td>\n",
       "      <td>2.0</td>\n",
       "    </tr>\n",
       "    <tr>\n",
       "      <th>2</th>\n",
       "      <td>3.0</td>\n",
       "      <td>4.0</td>\n",
       "      <td>5.0</td>\n",
       "    </tr>\n",
       "    <tr>\n",
       "      <th>3</th>\n",
       "      <td>6.0</td>\n",
       "      <td>7.0</td>\n",
       "      <td>8.0</td>\n",
       "    </tr>\n",
       "    <tr>\n",
       "      <th>4</th>\n",
       "      <td>NaN</td>\n",
       "      <td>NaN</td>\n",
       "      <td>NaN</td>\n",
       "    </tr>\n",
       "  </tbody>\n",
       "</table>\n",
       "</div>"
      ],
      "text/plain": [
       "   Karachi  Lahore  Multan\n",
       "0      NaN     NaN     NaN\n",
       "1      0.0     1.0     2.0\n",
       "2      3.0     4.0     5.0\n",
       "3      6.0     7.0     8.0\n",
       "4      NaN     NaN     NaN"
      ]
     },
     "execution_count": 105,
     "metadata": {},
     "output_type": "execute_result"
    }
   ],
   "source": [
    "frame5"
   ]
  },
  {
   "cell_type": "code",
   "execution_count": 106,
   "metadata": {},
   "outputs": [],
   "source": [
    "cities = ('Haydarbad', 'Islamabad', 'Karachi')"
   ]
  },
  {
   "cell_type": "code",
   "execution_count": 107,
   "metadata": {},
   "outputs": [
    {
     "data": {
      "text/html": [
       "<div>\n",
       "<style scoped>\n",
       "    .dataframe tbody tr th:only-of-type {\n",
       "        vertical-align: middle;\n",
       "    }\n",
       "\n",
       "    .dataframe tbody tr th {\n",
       "        vertical-align: top;\n",
       "    }\n",
       "\n",
       "    .dataframe thead th {\n",
       "        text-align: right;\n",
       "    }\n",
       "</style>\n",
       "<table border=\"1\" class=\"dataframe\">\n",
       "  <thead>\n",
       "    <tr style=\"text-align: right;\">\n",
       "      <th></th>\n",
       "      <th>Haydarbad</th>\n",
       "      <th>Islamabad</th>\n",
       "      <th>Karachi</th>\n",
       "    </tr>\n",
       "  </thead>\n",
       "  <tbody>\n",
       "    <tr>\n",
       "      <th>0</th>\n",
       "      <td>NaN</td>\n",
       "      <td>NaN</td>\n",
       "      <td>NaN</td>\n",
       "    </tr>\n",
       "    <tr>\n",
       "      <th>1</th>\n",
       "      <td>NaN</td>\n",
       "      <td>NaN</td>\n",
       "      <td>0.0</td>\n",
       "    </tr>\n",
       "    <tr>\n",
       "      <th>2</th>\n",
       "      <td>NaN</td>\n",
       "      <td>NaN</td>\n",
       "      <td>3.0</td>\n",
       "    </tr>\n",
       "    <tr>\n",
       "      <th>3</th>\n",
       "      <td>NaN</td>\n",
       "      <td>NaN</td>\n",
       "      <td>6.0</td>\n",
       "    </tr>\n",
       "    <tr>\n",
       "      <th>4</th>\n",
       "      <td>NaN</td>\n",
       "      <td>NaN</td>\n",
       "      <td>NaN</td>\n",
       "    </tr>\n",
       "  </tbody>\n",
       "</table>\n",
       "</div>"
      ],
      "text/plain": [
       "   Haydarbad  Islamabad  Karachi\n",
       "0        NaN        NaN      NaN\n",
       "1        NaN        NaN      0.0\n",
       "2        NaN        NaN      3.0\n",
       "3        NaN        NaN      6.0\n",
       "4        NaN        NaN      NaN"
      ]
     },
     "execution_count": 107,
     "metadata": {},
     "output_type": "execute_result"
    }
   ],
   "source": [
    "frame5.reindex(columns = cities)"
   ]
  },
  {
   "cell_type": "code",
   "execution_count": 108,
   "metadata": {},
   "outputs": [],
   "source": [
    "val = pd.Series([-1.2, -3.3, -2.2], index = ['i', 'iii', 'iv'])"
   ]
  },
  {
   "cell_type": "code",
   "execution_count": 109,
   "metadata": {},
   "outputs": [
    {
     "data": {
      "text/plain": [
       "i     -1.2\n",
       "iii   -3.3\n",
       "iv    -2.2\n",
       "dtype: float64"
      ]
     },
     "execution_count": 109,
     "metadata": {},
     "output_type": "execute_result"
    }
   ],
   "source": [
    "val"
   ]
  },
  {
   "cell_type": "code",
   "execution_count": 110,
   "metadata": {},
   "outputs": [
    {
     "data": {
      "text/html": [
       "<div>\n",
       "<style scoped>\n",
       "    .dataframe tbody tr th:only-of-type {\n",
       "        vertical-align: middle;\n",
       "    }\n",
       "\n",
       "    .dataframe tbody tr th {\n",
       "        vertical-align: top;\n",
       "    }\n",
       "\n",
       "    .dataframe thead th {\n",
       "        text-align: right;\n",
       "    }\n",
       "</style>\n",
       "<table border=\"1\" class=\"dataframe\">\n",
       "  <thead>\n",
       "    <tr style=\"text-align: right;\">\n",
       "      <th></th>\n",
       "      <th>Serial</th>\n",
       "      <th>City</th>\n",
       "      <th>Population</th>\n",
       "      <th>Year</th>\n",
       "      <th>Location</th>\n",
       "    </tr>\n",
       "  </thead>\n",
       "  <tbody>\n",
       "    <tr>\n",
       "      <th>i</th>\n",
       "      <td>1</td>\n",
       "      <td>Karachi</td>\n",
       "      <td>4.0</td>\n",
       "      <td>2019</td>\n",
       "      <td>Pakistan</td>\n",
       "    </tr>\n",
       "    <tr>\n",
       "      <th>ii</th>\n",
       "      <td>2</td>\n",
       "      <td>Lahore</td>\n",
       "      <td>1.5</td>\n",
       "      <td>2019</td>\n",
       "      <td>Pakistan</td>\n",
       "    </tr>\n",
       "    <tr>\n",
       "      <th>iii</th>\n",
       "      <td>3</td>\n",
       "      <td>Islamabad</td>\n",
       "      <td>1.0</td>\n",
       "      <td>2019</td>\n",
       "      <td>Pakistan</td>\n",
       "    </tr>\n",
       "    <tr>\n",
       "      <th>iv</th>\n",
       "      <td>4</td>\n",
       "      <td>Multan</td>\n",
       "      <td>0.8</td>\n",
       "      <td>2019</td>\n",
       "      <td>Pakistan</td>\n",
       "    </tr>\n",
       "  </tbody>\n",
       "</table>\n",
       "</div>"
      ],
      "text/plain": [
       "     Serial       City  Population  Year  Location\n",
       "i         1    Karachi         4.0  2019  Pakistan\n",
       "ii        2     Lahore         1.5  2019  Pakistan\n",
       "iii       3  Islamabad         1.0  2019  Pakistan\n",
       "iv        4     Multan         0.8  2019  Pakistan"
      ]
     },
     "execution_count": 110,
     "metadata": {},
     "output_type": "execute_result"
    }
   ],
   "source": [
    "frame3"
   ]
  },
  {
   "cell_type": "code",
   "execution_count": 111,
   "metadata": {},
   "outputs": [],
   "source": [
    "frame3.Serial = val"
   ]
  },
  {
   "cell_type": "code",
   "execution_count": 112,
   "metadata": {},
   "outputs": [
    {
     "data": {
      "text/html": [
       "<div>\n",
       "<style scoped>\n",
       "    .dataframe tbody tr th:only-of-type {\n",
       "        vertical-align: middle;\n",
       "    }\n",
       "\n",
       "    .dataframe tbody tr th {\n",
       "        vertical-align: top;\n",
       "    }\n",
       "\n",
       "    .dataframe thead th {\n",
       "        text-align: right;\n",
       "    }\n",
       "</style>\n",
       "<table border=\"1\" class=\"dataframe\">\n",
       "  <thead>\n",
       "    <tr style=\"text-align: right;\">\n",
       "      <th></th>\n",
       "      <th>Serial</th>\n",
       "      <th>City</th>\n",
       "      <th>Population</th>\n",
       "      <th>Year</th>\n",
       "      <th>Location</th>\n",
       "    </tr>\n",
       "  </thead>\n",
       "  <tbody>\n",
       "    <tr>\n",
       "      <th>i</th>\n",
       "      <td>-1.2</td>\n",
       "      <td>Karachi</td>\n",
       "      <td>4.0</td>\n",
       "      <td>2019</td>\n",
       "      <td>Pakistan</td>\n",
       "    </tr>\n",
       "    <tr>\n",
       "      <th>ii</th>\n",
       "      <td>NaN</td>\n",
       "      <td>Lahore</td>\n",
       "      <td>1.5</td>\n",
       "      <td>2019</td>\n",
       "      <td>Pakistan</td>\n",
       "    </tr>\n",
       "    <tr>\n",
       "      <th>iii</th>\n",
       "      <td>-3.3</td>\n",
       "      <td>Islamabad</td>\n",
       "      <td>1.0</td>\n",
       "      <td>2019</td>\n",
       "      <td>Pakistan</td>\n",
       "    </tr>\n",
       "    <tr>\n",
       "      <th>iv</th>\n",
       "      <td>-2.2</td>\n",
       "      <td>Multan</td>\n",
       "      <td>0.8</td>\n",
       "      <td>2019</td>\n",
       "      <td>Pakistan</td>\n",
       "    </tr>\n",
       "  </tbody>\n",
       "</table>\n",
       "</div>"
      ],
      "text/plain": [
       "     Serial       City  Population  Year  Location\n",
       "i      -1.2    Karachi         4.0  2019  Pakistan\n",
       "ii      NaN     Lahore         1.5  2019  Pakistan\n",
       "iii    -3.3  Islamabad         1.0  2019  Pakistan\n",
       "iv     -2.2     Multan         0.8  2019  Pakistan"
      ]
     },
     "execution_count": 112,
     "metadata": {},
     "output_type": "execute_result"
    }
   ],
   "source": [
    "frame3"
   ]
  },
  {
   "cell_type": "code",
   "execution_count": 115,
   "metadata": {},
   "outputs": [
    {
     "name": "stderr",
     "output_type": "stream",
     "text": [
      "C:\\Users\\HP\\Anaconda3\\lib\\site-packages\\ipykernel_launcher.py:1: SettingWithCopyWarning: \n",
      "A value is trying to be set on a copy of a slice from a DataFrame\n",
      "\n",
      "See the caveats in the documentation: http://pandas.pydata.org/pandas-docs/stable/indexing.html#indexing-view-versus-copy\n",
      "  \"\"\"Entry point for launching an IPython kernel.\n"
     ]
    }
   ],
   "source": [
    "frame3.Serial['i', 'ii', 'iv'] = [1,2,3]"
   ]
  },
  {
   "cell_type": "code",
   "execution_count": 116,
   "metadata": {},
   "outputs": [
    {
     "data": {
      "text/html": [
       "<div>\n",
       "<style scoped>\n",
       "    .dataframe tbody tr th:only-of-type {\n",
       "        vertical-align: middle;\n",
       "    }\n",
       "\n",
       "    .dataframe tbody tr th {\n",
       "        vertical-align: top;\n",
       "    }\n",
       "\n",
       "    .dataframe thead th {\n",
       "        text-align: right;\n",
       "    }\n",
       "</style>\n",
       "<table border=\"1\" class=\"dataframe\">\n",
       "  <thead>\n",
       "    <tr style=\"text-align: right;\">\n",
       "      <th></th>\n",
       "      <th>Serial</th>\n",
       "      <th>City</th>\n",
       "      <th>Population</th>\n",
       "      <th>Year</th>\n",
       "      <th>Location</th>\n",
       "    </tr>\n",
       "  </thead>\n",
       "  <tbody>\n",
       "    <tr>\n",
       "      <th>i</th>\n",
       "      <td>1.0</td>\n",
       "      <td>Karachi</td>\n",
       "      <td>4.0</td>\n",
       "      <td>2019</td>\n",
       "      <td>Pakistan</td>\n",
       "    </tr>\n",
       "    <tr>\n",
       "      <th>ii</th>\n",
       "      <td>2.0</td>\n",
       "      <td>Lahore</td>\n",
       "      <td>1.5</td>\n",
       "      <td>2019</td>\n",
       "      <td>Pakistan</td>\n",
       "    </tr>\n",
       "    <tr>\n",
       "      <th>iii</th>\n",
       "      <td>-3.3</td>\n",
       "      <td>Islamabad</td>\n",
       "      <td>1.0</td>\n",
       "      <td>2019</td>\n",
       "      <td>Pakistan</td>\n",
       "    </tr>\n",
       "    <tr>\n",
       "      <th>iv</th>\n",
       "      <td>3.0</td>\n",
       "      <td>Multan</td>\n",
       "      <td>0.8</td>\n",
       "      <td>2019</td>\n",
       "      <td>Pakistan</td>\n",
       "    </tr>\n",
       "  </tbody>\n",
       "</table>\n",
       "</div>"
      ],
      "text/plain": [
       "     Serial       City  Population  Year  Location\n",
       "i       1.0    Karachi         4.0  2019  Pakistan\n",
       "ii      2.0     Lahore         1.5  2019  Pakistan\n",
       "iii    -3.3  Islamabad         1.0  2019  Pakistan\n",
       "iv      3.0     Multan         0.8  2019  Pakistan"
      ]
     },
     "execution_count": 116,
     "metadata": {},
     "output_type": "execute_result"
    }
   ],
   "source": [
    "frame3"
   ]
  },
  {
   "cell_type": "code",
   "execution_count": 117,
   "metadata": {},
   "outputs": [],
   "source": [
    "frame3['Eastern'] = frame3.City == 'Karachi'"
   ]
  },
  {
   "cell_type": "code",
   "execution_count": 118,
   "metadata": {
    "scrolled": true
   },
   "outputs": [
    {
     "data": {
      "text/html": [
       "<div>\n",
       "<style scoped>\n",
       "    .dataframe tbody tr th:only-of-type {\n",
       "        vertical-align: middle;\n",
       "    }\n",
       "\n",
       "    .dataframe tbody tr th {\n",
       "        vertical-align: top;\n",
       "    }\n",
       "\n",
       "    .dataframe thead th {\n",
       "        text-align: right;\n",
       "    }\n",
       "</style>\n",
       "<table border=\"1\" class=\"dataframe\">\n",
       "  <thead>\n",
       "    <tr style=\"text-align: right;\">\n",
       "      <th></th>\n",
       "      <th>Serial</th>\n",
       "      <th>City</th>\n",
       "      <th>Population</th>\n",
       "      <th>Year</th>\n",
       "      <th>Location</th>\n",
       "      <th>Eastern</th>\n",
       "    </tr>\n",
       "  </thead>\n",
       "  <tbody>\n",
       "    <tr>\n",
       "      <th>i</th>\n",
       "      <td>1.0</td>\n",
       "      <td>Karachi</td>\n",
       "      <td>4.0</td>\n",
       "      <td>2019</td>\n",
       "      <td>Pakistan</td>\n",
       "      <td>True</td>\n",
       "    </tr>\n",
       "    <tr>\n",
       "      <th>ii</th>\n",
       "      <td>2.0</td>\n",
       "      <td>Lahore</td>\n",
       "      <td>1.5</td>\n",
       "      <td>2019</td>\n",
       "      <td>Pakistan</td>\n",
       "      <td>False</td>\n",
       "    </tr>\n",
       "    <tr>\n",
       "      <th>iii</th>\n",
       "      <td>-3.3</td>\n",
       "      <td>Islamabad</td>\n",
       "      <td>1.0</td>\n",
       "      <td>2019</td>\n",
       "      <td>Pakistan</td>\n",
       "      <td>False</td>\n",
       "    </tr>\n",
       "    <tr>\n",
       "      <th>iv</th>\n",
       "      <td>3.0</td>\n",
       "      <td>Multan</td>\n",
       "      <td>0.8</td>\n",
       "      <td>2019</td>\n",
       "      <td>Pakistan</td>\n",
       "      <td>False</td>\n",
       "    </tr>\n",
       "  </tbody>\n",
       "</table>\n",
       "</div>"
      ],
      "text/plain": [
       "     Serial       City  Population  Year  Location  Eastern\n",
       "i       1.0    Karachi         4.0  2019  Pakistan     True\n",
       "ii      2.0     Lahore         1.5  2019  Pakistan    False\n",
       "iii    -3.3  Islamabad         1.0  2019  Pakistan    False\n",
       "iv      3.0     Multan         0.8  2019  Pakistan    False"
      ]
     },
     "execution_count": 118,
     "metadata": {},
     "output_type": "execute_result"
    }
   ],
   "source": [
    "frame3"
   ]
  },
  {
   "cell_type": "code",
   "execution_count": 119,
   "metadata": {},
   "outputs": [],
   "source": [
    "data3 = {'Name':['Saad', 'Ali', 'Amim', 'Mushtaq', 'Umair'],\n",
    "         'Marks_In_AI':[99,18,77,66,55],\n",
    "         'Marks_In_Python':[98,47,76,65,54],\n",
    "         'Marks_In_Numpy':[97,56,75,64,13]}"
   ]
  },
  {
   "cell_type": "code",
   "execution_count": 120,
   "metadata": {},
   "outputs": [],
   "source": [
    "score = pd.DataFrame(data3)"
   ]
  },
  {
   "cell_type": "code",
   "execution_count": 121,
   "metadata": {},
   "outputs": [
    {
     "data": {
      "text/html": [
       "<div>\n",
       "<style scoped>\n",
       "    .dataframe tbody tr th:only-of-type {\n",
       "        vertical-align: middle;\n",
       "    }\n",
       "\n",
       "    .dataframe tbody tr th {\n",
       "        vertical-align: top;\n",
       "    }\n",
       "\n",
       "    .dataframe thead th {\n",
       "        text-align: right;\n",
       "    }\n",
       "</style>\n",
       "<table border=\"1\" class=\"dataframe\">\n",
       "  <thead>\n",
       "    <tr style=\"text-align: right;\">\n",
       "      <th></th>\n",
       "      <th>Name</th>\n",
       "      <th>Marks_In_AI</th>\n",
       "      <th>Marks_In_Python</th>\n",
       "      <th>Marks_In_Numpy</th>\n",
       "    </tr>\n",
       "  </thead>\n",
       "  <tbody>\n",
       "    <tr>\n",
       "      <th>0</th>\n",
       "      <td>Saad</td>\n",
       "      <td>99</td>\n",
       "      <td>98</td>\n",
       "      <td>97</td>\n",
       "    </tr>\n",
       "    <tr>\n",
       "      <th>1</th>\n",
       "      <td>Ali</td>\n",
       "      <td>18</td>\n",
       "      <td>47</td>\n",
       "      <td>56</td>\n",
       "    </tr>\n",
       "    <tr>\n",
       "      <th>2</th>\n",
       "      <td>Amim</td>\n",
       "      <td>77</td>\n",
       "      <td>76</td>\n",
       "      <td>75</td>\n",
       "    </tr>\n",
       "    <tr>\n",
       "      <th>3</th>\n",
       "      <td>Mushtaq</td>\n",
       "      <td>66</td>\n",
       "      <td>65</td>\n",
       "      <td>64</td>\n",
       "    </tr>\n",
       "    <tr>\n",
       "      <th>4</th>\n",
       "      <td>Umair</td>\n",
       "      <td>55</td>\n",
       "      <td>54</td>\n",
       "      <td>13</td>\n",
       "    </tr>\n",
       "  </tbody>\n",
       "</table>\n",
       "</div>"
      ],
      "text/plain": [
       "      Name  Marks_In_AI  Marks_In_Python  Marks_In_Numpy\n",
       "0     Saad           99               98              97\n",
       "1      Ali           18               47              56\n",
       "2     Amim           77               76              75\n",
       "3  Mushtaq           66               65              64\n",
       "4    Umair           55               54              13"
      ]
     },
     "execution_count": 121,
     "metadata": {},
     "output_type": "execute_result"
    }
   ],
   "source": [
    "score"
   ]
  },
  {
   "cell_type": "code",
   "execution_count": 122,
   "metadata": {},
   "outputs": [],
   "source": [
    "score['Total_Marks'] = 300"
   ]
  },
  {
   "cell_type": "code",
   "execution_count": 123,
   "metadata": {},
   "outputs": [
    {
     "data": {
      "text/html": [
       "<div>\n",
       "<style scoped>\n",
       "    .dataframe tbody tr th:only-of-type {\n",
       "        vertical-align: middle;\n",
       "    }\n",
       "\n",
       "    .dataframe tbody tr th {\n",
       "        vertical-align: top;\n",
       "    }\n",
       "\n",
       "    .dataframe thead th {\n",
       "        text-align: right;\n",
       "    }\n",
       "</style>\n",
       "<table border=\"1\" class=\"dataframe\">\n",
       "  <thead>\n",
       "    <tr style=\"text-align: right;\">\n",
       "      <th></th>\n",
       "      <th>Name</th>\n",
       "      <th>Marks_In_AI</th>\n",
       "      <th>Marks_In_Python</th>\n",
       "      <th>Marks_In_Numpy</th>\n",
       "      <th>Total_Marks</th>\n",
       "    </tr>\n",
       "  </thead>\n",
       "  <tbody>\n",
       "    <tr>\n",
       "      <th>0</th>\n",
       "      <td>Saad</td>\n",
       "      <td>99</td>\n",
       "      <td>98</td>\n",
       "      <td>97</td>\n",
       "      <td>300</td>\n",
       "    </tr>\n",
       "    <tr>\n",
       "      <th>1</th>\n",
       "      <td>Ali</td>\n",
       "      <td>18</td>\n",
       "      <td>47</td>\n",
       "      <td>56</td>\n",
       "      <td>300</td>\n",
       "    </tr>\n",
       "    <tr>\n",
       "      <th>2</th>\n",
       "      <td>Amim</td>\n",
       "      <td>77</td>\n",
       "      <td>76</td>\n",
       "      <td>75</td>\n",
       "      <td>300</td>\n",
       "    </tr>\n",
       "    <tr>\n",
       "      <th>3</th>\n",
       "      <td>Mushtaq</td>\n",
       "      <td>66</td>\n",
       "      <td>65</td>\n",
       "      <td>64</td>\n",
       "      <td>300</td>\n",
       "    </tr>\n",
       "    <tr>\n",
       "      <th>4</th>\n",
       "      <td>Umair</td>\n",
       "      <td>55</td>\n",
       "      <td>54</td>\n",
       "      <td>13</td>\n",
       "      <td>300</td>\n",
       "    </tr>\n",
       "  </tbody>\n",
       "</table>\n",
       "</div>"
      ],
      "text/plain": [
       "      Name  Marks_In_AI  Marks_In_Python  Marks_In_Numpy  Total_Marks\n",
       "0     Saad           99               98              97          300\n",
       "1      Ali           18               47              56          300\n",
       "2     Amim           77               76              75          300\n",
       "3  Mushtaq           66               65              64          300\n",
       "4    Umair           55               54              13          300"
      ]
     },
     "execution_count": 123,
     "metadata": {},
     "output_type": "execute_result"
    }
   ],
   "source": [
    "score"
   ]
  },
  {
   "cell_type": "code",
   "execution_count": 124,
   "metadata": {},
   "outputs": [],
   "source": [
    "score['Obtained_Marks'] = score['Marks_In_AI']+score['Marks_In_Python']+score['Marks_In_Numpy']"
   ]
  },
  {
   "cell_type": "code",
   "execution_count": 125,
   "metadata": {},
   "outputs": [
    {
     "data": {
      "text/html": [
       "<div>\n",
       "<style scoped>\n",
       "    .dataframe tbody tr th:only-of-type {\n",
       "        vertical-align: middle;\n",
       "    }\n",
       "\n",
       "    .dataframe tbody tr th {\n",
       "        vertical-align: top;\n",
       "    }\n",
       "\n",
       "    .dataframe thead th {\n",
       "        text-align: right;\n",
       "    }\n",
       "</style>\n",
       "<table border=\"1\" class=\"dataframe\">\n",
       "  <thead>\n",
       "    <tr style=\"text-align: right;\">\n",
       "      <th></th>\n",
       "      <th>Name</th>\n",
       "      <th>Marks_In_AI</th>\n",
       "      <th>Marks_In_Python</th>\n",
       "      <th>Marks_In_Numpy</th>\n",
       "      <th>Total_Marks</th>\n",
       "      <th>Obtained_Marks</th>\n",
       "    </tr>\n",
       "  </thead>\n",
       "  <tbody>\n",
       "    <tr>\n",
       "      <th>0</th>\n",
       "      <td>Saad</td>\n",
       "      <td>99</td>\n",
       "      <td>98</td>\n",
       "      <td>97</td>\n",
       "      <td>300</td>\n",
       "      <td>294</td>\n",
       "    </tr>\n",
       "    <tr>\n",
       "      <th>1</th>\n",
       "      <td>Ali</td>\n",
       "      <td>18</td>\n",
       "      <td>47</td>\n",
       "      <td>56</td>\n",
       "      <td>300</td>\n",
       "      <td>121</td>\n",
       "    </tr>\n",
       "    <tr>\n",
       "      <th>2</th>\n",
       "      <td>Amim</td>\n",
       "      <td>77</td>\n",
       "      <td>76</td>\n",
       "      <td>75</td>\n",
       "      <td>300</td>\n",
       "      <td>228</td>\n",
       "    </tr>\n",
       "    <tr>\n",
       "      <th>3</th>\n",
       "      <td>Mushtaq</td>\n",
       "      <td>66</td>\n",
       "      <td>65</td>\n",
       "      <td>64</td>\n",
       "      <td>300</td>\n",
       "      <td>195</td>\n",
       "    </tr>\n",
       "    <tr>\n",
       "      <th>4</th>\n",
       "      <td>Umair</td>\n",
       "      <td>55</td>\n",
       "      <td>54</td>\n",
       "      <td>13</td>\n",
       "      <td>300</td>\n",
       "      <td>122</td>\n",
       "    </tr>\n",
       "  </tbody>\n",
       "</table>\n",
       "</div>"
      ],
      "text/plain": [
       "      Name  Marks_In_AI  Marks_In_Python  Marks_In_Numpy  Total_Marks  \\\n",
       "0     Saad           99               98              97          300   \n",
       "1      Ali           18               47              56          300   \n",
       "2     Amim           77               76              75          300   \n",
       "3  Mushtaq           66               65              64          300   \n",
       "4    Umair           55               54              13          300   \n",
       "\n",
       "   Obtained_Marks  \n",
       "0             294  \n",
       "1             121  \n",
       "2             228  \n",
       "3             195  \n",
       "4             122  "
      ]
     },
     "execution_count": 125,
     "metadata": {},
     "output_type": "execute_result"
    }
   ],
   "source": [
    "score"
   ]
  },
  {
   "cell_type": "code",
   "execution_count": 126,
   "metadata": {},
   "outputs": [],
   "source": [
    "score['Percentage'] = score['Obtained_Marks']/score['Total_Marks']*100"
   ]
  },
  {
   "cell_type": "code",
   "execution_count": 127,
   "metadata": {},
   "outputs": [
    {
     "data": {
      "text/html": [
       "<div>\n",
       "<style scoped>\n",
       "    .dataframe tbody tr th:only-of-type {\n",
       "        vertical-align: middle;\n",
       "    }\n",
       "\n",
       "    .dataframe tbody tr th {\n",
       "        vertical-align: top;\n",
       "    }\n",
       "\n",
       "    .dataframe thead th {\n",
       "        text-align: right;\n",
       "    }\n",
       "</style>\n",
       "<table border=\"1\" class=\"dataframe\">\n",
       "  <thead>\n",
       "    <tr style=\"text-align: right;\">\n",
       "      <th></th>\n",
       "      <th>Name</th>\n",
       "      <th>Marks_In_AI</th>\n",
       "      <th>Marks_In_Python</th>\n",
       "      <th>Marks_In_Numpy</th>\n",
       "      <th>Total_Marks</th>\n",
       "      <th>Obtained_Marks</th>\n",
       "      <th>Percentage</th>\n",
       "    </tr>\n",
       "  </thead>\n",
       "  <tbody>\n",
       "    <tr>\n",
       "      <th>0</th>\n",
       "      <td>Saad</td>\n",
       "      <td>99</td>\n",
       "      <td>98</td>\n",
       "      <td>97</td>\n",
       "      <td>300</td>\n",
       "      <td>294</td>\n",
       "      <td>98.000000</td>\n",
       "    </tr>\n",
       "    <tr>\n",
       "      <th>1</th>\n",
       "      <td>Ali</td>\n",
       "      <td>18</td>\n",
       "      <td>47</td>\n",
       "      <td>56</td>\n",
       "      <td>300</td>\n",
       "      <td>121</td>\n",
       "      <td>40.333333</td>\n",
       "    </tr>\n",
       "    <tr>\n",
       "      <th>2</th>\n",
       "      <td>Amim</td>\n",
       "      <td>77</td>\n",
       "      <td>76</td>\n",
       "      <td>75</td>\n",
       "      <td>300</td>\n",
       "      <td>228</td>\n",
       "      <td>76.000000</td>\n",
       "    </tr>\n",
       "    <tr>\n",
       "      <th>3</th>\n",
       "      <td>Mushtaq</td>\n",
       "      <td>66</td>\n",
       "      <td>65</td>\n",
       "      <td>64</td>\n",
       "      <td>300</td>\n",
       "      <td>195</td>\n",
       "      <td>65.000000</td>\n",
       "    </tr>\n",
       "    <tr>\n",
       "      <th>4</th>\n",
       "      <td>Umair</td>\n",
       "      <td>55</td>\n",
       "      <td>54</td>\n",
       "      <td>13</td>\n",
       "      <td>300</td>\n",
       "      <td>122</td>\n",
       "      <td>40.666667</td>\n",
       "    </tr>\n",
       "  </tbody>\n",
       "</table>\n",
       "</div>"
      ],
      "text/plain": [
       "      Name  Marks_In_AI  Marks_In_Python  Marks_In_Numpy  Total_Marks  \\\n",
       "0     Saad           99               98              97          300   \n",
       "1      Ali           18               47              56          300   \n",
       "2     Amim           77               76              75          300   \n",
       "3  Mushtaq           66               65              64          300   \n",
       "4    Umair           55               54              13          300   \n",
       "\n",
       "   Obtained_Marks  Percentage  \n",
       "0             294   98.000000  \n",
       "1             121   40.333333  \n",
       "2             228   76.000000  \n",
       "3             195   65.000000  \n",
       "4             122   40.666667  "
      ]
     },
     "execution_count": 127,
     "metadata": {},
     "output_type": "execute_result"
    }
   ],
   "source": [
    "score"
   ]
  },
  {
   "cell_type": "code",
   "execution_count": 128,
   "metadata": {},
   "outputs": [],
   "source": [
    "score['Status'] = ['Passed' if percent>=50 else 'Failed' for percent in score['Percentage']]"
   ]
  },
  {
   "cell_type": "code",
   "execution_count": 129,
   "metadata": {},
   "outputs": [
    {
     "data": {
      "text/html": [
       "<div>\n",
       "<style scoped>\n",
       "    .dataframe tbody tr th:only-of-type {\n",
       "        vertical-align: middle;\n",
       "    }\n",
       "\n",
       "    .dataframe tbody tr th {\n",
       "        vertical-align: top;\n",
       "    }\n",
       "\n",
       "    .dataframe thead th {\n",
       "        text-align: right;\n",
       "    }\n",
       "</style>\n",
       "<table border=\"1\" class=\"dataframe\">\n",
       "  <thead>\n",
       "    <tr style=\"text-align: right;\">\n",
       "      <th></th>\n",
       "      <th>Name</th>\n",
       "      <th>Marks_In_AI</th>\n",
       "      <th>Marks_In_Python</th>\n",
       "      <th>Marks_In_Numpy</th>\n",
       "      <th>Total_Marks</th>\n",
       "      <th>Obtained_Marks</th>\n",
       "      <th>Percentage</th>\n",
       "      <th>Status</th>\n",
       "    </tr>\n",
       "  </thead>\n",
       "  <tbody>\n",
       "    <tr>\n",
       "      <th>0</th>\n",
       "      <td>Saad</td>\n",
       "      <td>99</td>\n",
       "      <td>98</td>\n",
       "      <td>97</td>\n",
       "      <td>300</td>\n",
       "      <td>294</td>\n",
       "      <td>98.000000</td>\n",
       "      <td>Passed</td>\n",
       "    </tr>\n",
       "    <tr>\n",
       "      <th>1</th>\n",
       "      <td>Ali</td>\n",
       "      <td>18</td>\n",
       "      <td>47</td>\n",
       "      <td>56</td>\n",
       "      <td>300</td>\n",
       "      <td>121</td>\n",
       "      <td>40.333333</td>\n",
       "      <td>Failed</td>\n",
       "    </tr>\n",
       "    <tr>\n",
       "      <th>2</th>\n",
       "      <td>Amim</td>\n",
       "      <td>77</td>\n",
       "      <td>76</td>\n",
       "      <td>75</td>\n",
       "      <td>300</td>\n",
       "      <td>228</td>\n",
       "      <td>76.000000</td>\n",
       "      <td>Passed</td>\n",
       "    </tr>\n",
       "    <tr>\n",
       "      <th>3</th>\n",
       "      <td>Mushtaq</td>\n",
       "      <td>66</td>\n",
       "      <td>65</td>\n",
       "      <td>64</td>\n",
       "      <td>300</td>\n",
       "      <td>195</td>\n",
       "      <td>65.000000</td>\n",
       "      <td>Passed</td>\n",
       "    </tr>\n",
       "    <tr>\n",
       "      <th>4</th>\n",
       "      <td>Umair</td>\n",
       "      <td>55</td>\n",
       "      <td>54</td>\n",
       "      <td>13</td>\n",
       "      <td>300</td>\n",
       "      <td>122</td>\n",
       "      <td>40.666667</td>\n",
       "      <td>Failed</td>\n",
       "    </tr>\n",
       "  </tbody>\n",
       "</table>\n",
       "</div>"
      ],
      "text/plain": [
       "      Name  Marks_In_AI  Marks_In_Python  Marks_In_Numpy  Total_Marks  \\\n",
       "0     Saad           99               98              97          300   \n",
       "1      Ali           18               47              56          300   \n",
       "2     Amim           77               76              75          300   \n",
       "3  Mushtaq           66               65              64          300   \n",
       "4    Umair           55               54              13          300   \n",
       "\n",
       "   Obtained_Marks  Percentage  Status  \n",
       "0             294   98.000000  Passed  \n",
       "1             121   40.333333  Failed  \n",
       "2             228   76.000000  Passed  \n",
       "3             195   65.000000  Passed  \n",
       "4             122   40.666667  Failed  "
      ]
     },
     "execution_count": 129,
     "metadata": {},
     "output_type": "execute_result"
    }
   ],
   "source": [
    "score"
   ]
  },
  {
   "cell_type": "code",
   "execution_count": 130,
   "metadata": {},
   "outputs": [],
   "source": [
    "score['Final_Status'] = ['Passed' if ai>=50 and py>=50 and np>=50 else 'Failed' \n",
    "                         for ai,py,np in zip(score.Marks_In_AI, score.Marks_In_Numpy, score.Marks_In_Python)]"
   ]
  },
  {
   "cell_type": "code",
   "execution_count": 131,
   "metadata": {
    "scrolled": true
   },
   "outputs": [
    {
     "data": {
      "text/html": [
       "<div>\n",
       "<style scoped>\n",
       "    .dataframe tbody tr th:only-of-type {\n",
       "        vertical-align: middle;\n",
       "    }\n",
       "\n",
       "    .dataframe tbody tr th {\n",
       "        vertical-align: top;\n",
       "    }\n",
       "\n",
       "    .dataframe thead th {\n",
       "        text-align: right;\n",
       "    }\n",
       "</style>\n",
       "<table border=\"1\" class=\"dataframe\">\n",
       "  <thead>\n",
       "    <tr style=\"text-align: right;\">\n",
       "      <th></th>\n",
       "      <th>Name</th>\n",
       "      <th>Marks_In_AI</th>\n",
       "      <th>Marks_In_Python</th>\n",
       "      <th>Marks_In_Numpy</th>\n",
       "      <th>Total_Marks</th>\n",
       "      <th>Obtained_Marks</th>\n",
       "      <th>Percentage</th>\n",
       "      <th>Status</th>\n",
       "      <th>Final_Status</th>\n",
       "    </tr>\n",
       "  </thead>\n",
       "  <tbody>\n",
       "    <tr>\n",
       "      <th>0</th>\n",
       "      <td>Saad</td>\n",
       "      <td>99</td>\n",
       "      <td>98</td>\n",
       "      <td>97</td>\n",
       "      <td>300</td>\n",
       "      <td>294</td>\n",
       "      <td>98.000000</td>\n",
       "      <td>Passed</td>\n",
       "      <td>Passed</td>\n",
       "    </tr>\n",
       "    <tr>\n",
       "      <th>1</th>\n",
       "      <td>Ali</td>\n",
       "      <td>18</td>\n",
       "      <td>47</td>\n",
       "      <td>56</td>\n",
       "      <td>300</td>\n",
       "      <td>121</td>\n",
       "      <td>40.333333</td>\n",
       "      <td>Failed</td>\n",
       "      <td>Failed</td>\n",
       "    </tr>\n",
       "    <tr>\n",
       "      <th>2</th>\n",
       "      <td>Amim</td>\n",
       "      <td>77</td>\n",
       "      <td>76</td>\n",
       "      <td>75</td>\n",
       "      <td>300</td>\n",
       "      <td>228</td>\n",
       "      <td>76.000000</td>\n",
       "      <td>Passed</td>\n",
       "      <td>Passed</td>\n",
       "    </tr>\n",
       "    <tr>\n",
       "      <th>3</th>\n",
       "      <td>Mushtaq</td>\n",
       "      <td>66</td>\n",
       "      <td>65</td>\n",
       "      <td>64</td>\n",
       "      <td>300</td>\n",
       "      <td>195</td>\n",
       "      <td>65.000000</td>\n",
       "      <td>Passed</td>\n",
       "      <td>Passed</td>\n",
       "    </tr>\n",
       "    <tr>\n",
       "      <th>4</th>\n",
       "      <td>Umair</td>\n",
       "      <td>55</td>\n",
       "      <td>54</td>\n",
       "      <td>13</td>\n",
       "      <td>300</td>\n",
       "      <td>122</td>\n",
       "      <td>40.666667</td>\n",
       "      <td>Failed</td>\n",
       "      <td>Failed</td>\n",
       "    </tr>\n",
       "  </tbody>\n",
       "</table>\n",
       "</div>"
      ],
      "text/plain": [
       "      Name  Marks_In_AI  Marks_In_Python  Marks_In_Numpy  Total_Marks  \\\n",
       "0     Saad           99               98              97          300   \n",
       "1      Ali           18               47              56          300   \n",
       "2     Amim           77               76              75          300   \n",
       "3  Mushtaq           66               65              64          300   \n",
       "4    Umair           55               54              13          300   \n",
       "\n",
       "   Obtained_Marks  Percentage  Status Final_Status  \n",
       "0             294   98.000000  Passed       Passed  \n",
       "1             121   40.333333  Failed       Failed  \n",
       "2             228   76.000000  Passed       Passed  \n",
       "3             195   65.000000  Passed       Passed  \n",
       "4             122   40.666667  Failed       Failed  "
      ]
     },
     "execution_count": 131,
     "metadata": {},
     "output_type": "execute_result"
    }
   ],
   "source": [
    "score"
   ]
  },
  {
   "cell_type": "code",
   "execution_count": 132,
   "metadata": {},
   "outputs": [],
   "source": [
    "pop = {'Karachi':{2000:1.5, 2010:3.0, 2019:4.0},\n",
    "       'Lahore':{2000:0.5, 2011:1.0, 2019:1.5}}"
   ]
  },
  {
   "cell_type": "code",
   "execution_count": 133,
   "metadata": {},
   "outputs": [],
   "source": [
    "frame6 = pd.DataFrame(pop)"
   ]
  },
  {
   "cell_type": "code",
   "execution_count": 134,
   "metadata": {},
   "outputs": [
    {
     "data": {
      "text/html": [
       "<div>\n",
       "<style scoped>\n",
       "    .dataframe tbody tr th:only-of-type {\n",
       "        vertical-align: middle;\n",
       "    }\n",
       "\n",
       "    .dataframe tbody tr th {\n",
       "        vertical-align: top;\n",
       "    }\n",
       "\n",
       "    .dataframe thead th {\n",
       "        text-align: right;\n",
       "    }\n",
       "</style>\n",
       "<table border=\"1\" class=\"dataframe\">\n",
       "  <thead>\n",
       "    <tr style=\"text-align: right;\">\n",
       "      <th></th>\n",
       "      <th>Karachi</th>\n",
       "      <th>Lahore</th>\n",
       "    </tr>\n",
       "  </thead>\n",
       "  <tbody>\n",
       "    <tr>\n",
       "      <th>2000</th>\n",
       "      <td>1.5</td>\n",
       "      <td>0.5</td>\n",
       "    </tr>\n",
       "    <tr>\n",
       "      <th>2010</th>\n",
       "      <td>3.0</td>\n",
       "      <td>NaN</td>\n",
       "    </tr>\n",
       "    <tr>\n",
       "      <th>2011</th>\n",
       "      <td>NaN</td>\n",
       "      <td>1.0</td>\n",
       "    </tr>\n",
       "    <tr>\n",
       "      <th>2019</th>\n",
       "      <td>4.0</td>\n",
       "      <td>1.5</td>\n",
       "    </tr>\n",
       "  </tbody>\n",
       "</table>\n",
       "</div>"
      ],
      "text/plain": [
       "      Karachi  Lahore\n",
       "2000      1.5     0.5\n",
       "2010      3.0     NaN\n",
       "2011      NaN     1.0\n",
       "2019      4.0     1.5"
      ]
     },
     "execution_count": 134,
     "metadata": {},
     "output_type": "execute_result"
    }
   ],
   "source": [
    "frame6"
   ]
  },
  {
   "cell_type": "code",
   "execution_count": 135,
   "metadata": {},
   "outputs": [
    {
     "data": {
      "text/html": [
       "<div>\n",
       "<style scoped>\n",
       "    .dataframe tbody tr th:only-of-type {\n",
       "        vertical-align: middle;\n",
       "    }\n",
       "\n",
       "    .dataframe tbody tr th {\n",
       "        vertical-align: top;\n",
       "    }\n",
       "\n",
       "    .dataframe thead th {\n",
       "        text-align: right;\n",
       "    }\n",
       "</style>\n",
       "<table border=\"1\" class=\"dataframe\">\n",
       "  <thead>\n",
       "    <tr style=\"text-align: right;\">\n",
       "      <th></th>\n",
       "      <th>2000</th>\n",
       "      <th>2010</th>\n",
       "      <th>2011</th>\n",
       "      <th>2019</th>\n",
       "    </tr>\n",
       "  </thead>\n",
       "  <tbody>\n",
       "    <tr>\n",
       "      <th>Karachi</th>\n",
       "      <td>1.5</td>\n",
       "      <td>3.0</td>\n",
       "      <td>NaN</td>\n",
       "      <td>4.0</td>\n",
       "    </tr>\n",
       "    <tr>\n",
       "      <th>Lahore</th>\n",
       "      <td>0.5</td>\n",
       "      <td>NaN</td>\n",
       "      <td>1.0</td>\n",
       "      <td>1.5</td>\n",
       "    </tr>\n",
       "  </tbody>\n",
       "</table>\n",
       "</div>"
      ],
      "text/plain": [
       "         2000  2010  2011  2019\n",
       "Karachi   1.5   3.0   NaN   4.0\n",
       "Lahore    0.5   NaN   1.0   1.5"
      ]
     },
     "execution_count": 135,
     "metadata": {},
     "output_type": "execute_result"
    }
   ],
   "source": [
    "frame6.T"
   ]
  },
  {
   "cell_type": "code",
   "execution_count": 136,
   "metadata": {},
   "outputs": [
    {
     "data": {
      "text/html": [
       "<div>\n",
       "<style scoped>\n",
       "    .dataframe tbody tr th:only-of-type {\n",
       "        vertical-align: middle;\n",
       "    }\n",
       "\n",
       "    .dataframe tbody tr th {\n",
       "        vertical-align: top;\n",
       "    }\n",
       "\n",
       "    .dataframe thead th {\n",
       "        text-align: right;\n",
       "    }\n",
       "</style>\n",
       "<table border=\"1\" class=\"dataframe\">\n",
       "  <thead>\n",
       "    <tr style=\"text-align: right;\">\n",
       "      <th></th>\n",
       "      <th>Karachi</th>\n",
       "      <th>Lahore</th>\n",
       "    </tr>\n",
       "  </thead>\n",
       "  <tbody>\n",
       "    <tr>\n",
       "      <th>2000</th>\n",
       "      <td>1.5</td>\n",
       "      <td>0.5</td>\n",
       "    </tr>\n",
       "    <tr>\n",
       "      <th>2002</th>\n",
       "      <td>NaN</td>\n",
       "      <td>NaN</td>\n",
       "    </tr>\n",
       "    <tr>\n",
       "      <th>2019</th>\n",
       "      <td>4.0</td>\n",
       "      <td>1.5</td>\n",
       "    </tr>\n",
       "  </tbody>\n",
       "</table>\n",
       "</div>"
      ],
      "text/plain": [
       "      Karachi  Lahore\n",
       "2000      1.5     0.5\n",
       "2002      NaN     NaN\n",
       "2019      4.0     1.5"
      ]
     },
     "execution_count": 136,
     "metadata": {},
     "output_type": "execute_result"
    }
   ],
   "source": [
    "pd.DataFrame(pop, index = [2000, 2002, 2019])"
   ]
  },
  {
   "cell_type": "markdown",
   "metadata": {},
   "source": [
    "# Index Objects"
   ]
  },
  {
   "cell_type": "code",
   "execution_count": 137,
   "metadata": {},
   "outputs": [],
   "source": [
    "obj7= pd.Series(range(3), index = ['a', 'b', 'c'])"
   ]
  },
  {
   "cell_type": "code",
   "execution_count": 138,
   "metadata": {},
   "outputs": [
    {
     "data": {
      "text/plain": [
       "a    0\n",
       "b    1\n",
       "c    2\n",
       "dtype: int64"
      ]
     },
     "execution_count": 138,
     "metadata": {},
     "output_type": "execute_result"
    }
   ],
   "source": [
    "obj7"
   ]
  },
  {
   "cell_type": "code",
   "execution_count": 139,
   "metadata": {},
   "outputs": [],
   "source": [
    "index = obj7.index"
   ]
  },
  {
   "cell_type": "code",
   "execution_count": 140,
   "metadata": {},
   "outputs": [
    {
     "data": {
      "text/plain": [
       "Index(['a', 'b', 'c'], dtype='object')"
      ]
     },
     "execution_count": 140,
     "metadata": {},
     "output_type": "execute_result"
    }
   ],
   "source": [
    "index"
   ]
  },
  {
   "cell_type": "code",
   "execution_count": 141,
   "metadata": {},
   "outputs": [],
   "source": [
    "index2 = obj7.values"
   ]
  },
  {
   "cell_type": "code",
   "execution_count": 142,
   "metadata": {},
   "outputs": [
    {
     "data": {
      "text/plain": [
       "array([0, 1, 2], dtype=int64)"
      ]
     },
     "execution_count": 142,
     "metadata": {},
     "output_type": "execute_result"
    }
   ],
   "source": [
    "index2"
   ]
  },
  {
   "cell_type": "code",
   "execution_count": 143,
   "metadata": {},
   "outputs": [
    {
     "data": {
      "text/plain": [
       "Index(['b', 'c'], dtype='object')"
      ]
     },
     "execution_count": 143,
     "metadata": {},
     "output_type": "execute_result"
    }
   ],
   "source": [
    "index[1:]"
   ]
  },
  {
   "cell_type": "code",
   "execution_count": 144,
   "metadata": {},
   "outputs": [
    {
     "data": {
      "text/plain": [
       "Index(['a', 'b'], dtype='object')"
      ]
     },
     "execution_count": 144,
     "metadata": {},
     "output_type": "execute_result"
    }
   ],
   "source": [
    "index[:2]"
   ]
  },
  {
   "cell_type": "code",
   "execution_count": 145,
   "metadata": {},
   "outputs": [
    {
     "data": {
      "text/plain": [
       "'b'"
      ]
     },
     "execution_count": 145,
     "metadata": {},
     "output_type": "execute_result"
    }
   ],
   "source": [
    "index[1]"
   ]
  },
  {
   "cell_type": "code",
   "execution_count": 146,
   "metadata": {},
   "outputs": [],
   "source": [
    "labels = pd.Index(np.arange(3))"
   ]
  },
  {
   "cell_type": "code",
   "execution_count": 147,
   "metadata": {},
   "outputs": [
    {
     "data": {
      "text/plain": [
       "Int64Index([0, 1, 2], dtype='int64')"
      ]
     },
     "execution_count": 147,
     "metadata": {},
     "output_type": "execute_result"
    }
   ],
   "source": [
    "labels"
   ]
  },
  {
   "cell_type": "code",
   "execution_count": 148,
   "metadata": {},
   "outputs": [],
   "source": [
    "obj8 = pd.Series([1.2, 2.2, 3.3], index = labels)"
   ]
  },
  {
   "cell_type": "code",
   "execution_count": 149,
   "metadata": {},
   "outputs": [
    {
     "data": {
      "text/plain": [
       "0    1.2\n",
       "1    2.2\n",
       "2    3.3\n",
       "dtype: float64"
      ]
     },
     "execution_count": 149,
     "metadata": {},
     "output_type": "execute_result"
    }
   ],
   "source": [
    "obj8"
   ]
  },
  {
   "cell_type": "code",
   "execution_count": 150,
   "metadata": {},
   "outputs": [
    {
     "data": {
      "text/plain": [
       "True"
      ]
     },
     "execution_count": 150,
     "metadata": {},
     "output_type": "execute_result"
    }
   ],
   "source": [
    "obj8.index is labels"
   ]
  },
  {
   "cell_type": "code",
   "execution_count": 151,
   "metadata": {},
   "outputs": [
    {
     "data": {
      "text/plain": [
       "False"
      ]
     },
     "execution_count": 151,
     "metadata": {},
     "output_type": "execute_result"
    }
   ],
   "source": [
    "obj8.index is obj5"
   ]
  },
  {
   "cell_type": "markdown",
   "metadata": {},
   "source": [
    "# Dropping Entries From An Axis"
   ]
  },
  {
   "cell_type": "code",
   "execution_count": 152,
   "metadata": {},
   "outputs": [],
   "source": [
    "obj9 = pd.Series(np.arange(5.), index = ['a', 'b', 'c', 'd', 'e'])"
   ]
  },
  {
   "cell_type": "code",
   "execution_count": 153,
   "metadata": {},
   "outputs": [
    {
     "data": {
      "text/plain": [
       "a    0.0\n",
       "b    1.0\n",
       "c    2.0\n",
       "d    3.0\n",
       "e    4.0\n",
       "dtype: float64"
      ]
     },
     "execution_count": 153,
     "metadata": {},
     "output_type": "execute_result"
    }
   ],
   "source": [
    "obj9"
   ]
  },
  {
   "cell_type": "code",
   "execution_count": 154,
   "metadata": {},
   "outputs": [],
   "source": [
    "new_obj = obj9.drop('c')"
   ]
  },
  {
   "cell_type": "code",
   "execution_count": 155,
   "metadata": {},
   "outputs": [
    {
     "data": {
      "text/plain": [
       "a    0.0\n",
       "b    1.0\n",
       "d    3.0\n",
       "e    4.0\n",
       "dtype: float64"
      ]
     },
     "execution_count": 155,
     "metadata": {},
     "output_type": "execute_result"
    }
   ],
   "source": [
    "new_obj"
   ]
  },
  {
   "cell_type": "code",
   "execution_count": 156,
   "metadata": {},
   "outputs": [],
   "source": [
    "new_obj2 = obj9.drop(['a', 'c'])"
   ]
  },
  {
   "cell_type": "code",
   "execution_count": 157,
   "metadata": {},
   "outputs": [
    {
     "data": {
      "text/plain": [
       "b    1.0\n",
       "d    3.0\n",
       "e    4.0\n",
       "dtype: float64"
      ]
     },
     "execution_count": 157,
     "metadata": {},
     "output_type": "execute_result"
    }
   ],
   "source": [
    "new_obj2"
   ]
  },
  {
   "cell_type": "code",
   "execution_count": 158,
   "metadata": {},
   "outputs": [],
   "source": [
    "data4 = pd.DataFrame(np.arange(16).reshape(4,4),\n",
    "                     index = ['Karachi', 'Lahore', 'Multan', 'Peshawar'],\n",
    "                     columns = [1,2,3,4])"
   ]
  },
  {
   "cell_type": "code",
   "execution_count": 159,
   "metadata": {},
   "outputs": [
    {
     "data": {
      "text/html": [
       "<div>\n",
       "<style scoped>\n",
       "    .dataframe tbody tr th:only-of-type {\n",
       "        vertical-align: middle;\n",
       "    }\n",
       "\n",
       "    .dataframe tbody tr th {\n",
       "        vertical-align: top;\n",
       "    }\n",
       "\n",
       "    .dataframe thead th {\n",
       "        text-align: right;\n",
       "    }\n",
       "</style>\n",
       "<table border=\"1\" class=\"dataframe\">\n",
       "  <thead>\n",
       "    <tr style=\"text-align: right;\">\n",
       "      <th></th>\n",
       "      <th>1</th>\n",
       "      <th>2</th>\n",
       "      <th>3</th>\n",
       "      <th>4</th>\n",
       "    </tr>\n",
       "  </thead>\n",
       "  <tbody>\n",
       "    <tr>\n",
       "      <th>Karachi</th>\n",
       "      <td>0</td>\n",
       "      <td>1</td>\n",
       "      <td>2</td>\n",
       "      <td>3</td>\n",
       "    </tr>\n",
       "    <tr>\n",
       "      <th>Lahore</th>\n",
       "      <td>4</td>\n",
       "      <td>5</td>\n",
       "      <td>6</td>\n",
       "      <td>7</td>\n",
       "    </tr>\n",
       "    <tr>\n",
       "      <th>Multan</th>\n",
       "      <td>8</td>\n",
       "      <td>9</td>\n",
       "      <td>10</td>\n",
       "      <td>11</td>\n",
       "    </tr>\n",
       "    <tr>\n",
       "      <th>Peshawar</th>\n",
       "      <td>12</td>\n",
       "      <td>13</td>\n",
       "      <td>14</td>\n",
       "      <td>15</td>\n",
       "    </tr>\n",
       "  </tbody>\n",
       "</table>\n",
       "</div>"
      ],
      "text/plain": [
       "           1   2   3   4\n",
       "Karachi    0   1   2   3\n",
       "Lahore     4   5   6   7\n",
       "Multan     8   9  10  11\n",
       "Peshawar  12  13  14  15"
      ]
     },
     "execution_count": 159,
     "metadata": {},
     "output_type": "execute_result"
    }
   ],
   "source": [
    "data4"
   ]
  },
  {
   "cell_type": "code",
   "execution_count": 160,
   "metadata": {},
   "outputs": [
    {
     "data": {
      "text/html": [
       "<div>\n",
       "<style scoped>\n",
       "    .dataframe tbody tr th:only-of-type {\n",
       "        vertical-align: middle;\n",
       "    }\n",
       "\n",
       "    .dataframe tbody tr th {\n",
       "        vertical-align: top;\n",
       "    }\n",
       "\n",
       "    .dataframe thead th {\n",
       "        text-align: right;\n",
       "    }\n",
       "</style>\n",
       "<table border=\"1\" class=\"dataframe\">\n",
       "  <thead>\n",
       "    <tr style=\"text-align: right;\">\n",
       "      <th></th>\n",
       "      <th>1</th>\n",
       "      <th>2</th>\n",
       "      <th>3</th>\n",
       "      <th>4</th>\n",
       "    </tr>\n",
       "  </thead>\n",
       "  <tbody>\n",
       "    <tr>\n",
       "      <th>Karachi</th>\n",
       "      <td>0</td>\n",
       "      <td>1</td>\n",
       "      <td>2</td>\n",
       "      <td>3</td>\n",
       "    </tr>\n",
       "    <tr>\n",
       "      <th>Peshawar</th>\n",
       "      <td>12</td>\n",
       "      <td>13</td>\n",
       "      <td>14</td>\n",
       "      <td>15</td>\n",
       "    </tr>\n",
       "  </tbody>\n",
       "</table>\n",
       "</div>"
      ],
      "text/plain": [
       "           1   2   3   4\n",
       "Karachi    0   1   2   3\n",
       "Peshawar  12  13  14  15"
      ]
     },
     "execution_count": 160,
     "metadata": {},
     "output_type": "execute_result"
    }
   ],
   "source": [
    "data4.drop(['Lahore', 'Multan'])"
   ]
  },
  {
   "cell_type": "code",
   "execution_count": 161,
   "metadata": {},
   "outputs": [
    {
     "data": {
      "text/html": [
       "<div>\n",
       "<style scoped>\n",
       "    .dataframe tbody tr th:only-of-type {\n",
       "        vertical-align: middle;\n",
       "    }\n",
       "\n",
       "    .dataframe tbody tr th {\n",
       "        vertical-align: top;\n",
       "    }\n",
       "\n",
       "    .dataframe thead th {\n",
       "        text-align: right;\n",
       "    }\n",
       "</style>\n",
       "<table border=\"1\" class=\"dataframe\">\n",
       "  <thead>\n",
       "    <tr style=\"text-align: right;\">\n",
       "      <th></th>\n",
       "      <th>1</th>\n",
       "      <th>3</th>\n",
       "      <th>4</th>\n",
       "    </tr>\n",
       "  </thead>\n",
       "  <tbody>\n",
       "    <tr>\n",
       "      <th>Karachi</th>\n",
       "      <td>0</td>\n",
       "      <td>2</td>\n",
       "      <td>3</td>\n",
       "    </tr>\n",
       "    <tr>\n",
       "      <th>Lahore</th>\n",
       "      <td>4</td>\n",
       "      <td>6</td>\n",
       "      <td>7</td>\n",
       "    </tr>\n",
       "    <tr>\n",
       "      <th>Multan</th>\n",
       "      <td>8</td>\n",
       "      <td>10</td>\n",
       "      <td>11</td>\n",
       "    </tr>\n",
       "    <tr>\n",
       "      <th>Peshawar</th>\n",
       "      <td>12</td>\n",
       "      <td>14</td>\n",
       "      <td>15</td>\n",
       "    </tr>\n",
       "  </tbody>\n",
       "</table>\n",
       "</div>"
      ],
      "text/plain": [
       "           1   3   4\n",
       "Karachi    0   2   3\n",
       "Lahore     4   6   7\n",
       "Multan     8  10  11\n",
       "Peshawar  12  14  15"
      ]
     },
     "execution_count": 161,
     "metadata": {},
     "output_type": "execute_result"
    }
   ],
   "source": [
    "data4.drop(2, axis = 1)"
   ]
  },
  {
   "cell_type": "markdown",
   "metadata": {},
   "source": [
    "OR"
   ]
  },
  {
   "cell_type": "code",
   "execution_count": 162,
   "metadata": {},
   "outputs": [
    {
     "data": {
      "text/html": [
       "<div>\n",
       "<style scoped>\n",
       "    .dataframe tbody tr th:only-of-type {\n",
       "        vertical-align: middle;\n",
       "    }\n",
       "\n",
       "    .dataframe tbody tr th {\n",
       "        vertical-align: top;\n",
       "    }\n",
       "\n",
       "    .dataframe thead th {\n",
       "        text-align: right;\n",
       "    }\n",
       "</style>\n",
       "<table border=\"1\" class=\"dataframe\">\n",
       "  <thead>\n",
       "    <tr style=\"text-align: right;\">\n",
       "      <th></th>\n",
       "      <th>1</th>\n",
       "      <th>4</th>\n",
       "    </tr>\n",
       "  </thead>\n",
       "  <tbody>\n",
       "    <tr>\n",
       "      <th>Karachi</th>\n",
       "      <td>0</td>\n",
       "      <td>3</td>\n",
       "    </tr>\n",
       "    <tr>\n",
       "      <th>Lahore</th>\n",
       "      <td>4</td>\n",
       "      <td>7</td>\n",
       "    </tr>\n",
       "    <tr>\n",
       "      <th>Multan</th>\n",
       "      <td>8</td>\n",
       "      <td>11</td>\n",
       "    </tr>\n",
       "    <tr>\n",
       "      <th>Peshawar</th>\n",
       "      <td>12</td>\n",
       "      <td>15</td>\n",
       "    </tr>\n",
       "  </tbody>\n",
       "</table>\n",
       "</div>"
      ],
      "text/plain": [
       "           1   4\n",
       "Karachi    0   3\n",
       "Lahore     4   7\n",
       "Multan     8  11\n",
       "Peshawar  12  15"
      ]
     },
     "execution_count": 162,
     "metadata": {},
     "output_type": "execute_result"
    }
   ],
   "source": [
    "data4.drop([2, 3], axis = 'columns')"
   ]
  },
  {
   "cell_type": "code",
   "execution_count": 163,
   "metadata": {},
   "outputs": [
    {
     "data": {
      "text/html": [
       "<div>\n",
       "<style scoped>\n",
       "    .dataframe tbody tr th:only-of-type {\n",
       "        vertical-align: middle;\n",
       "    }\n",
       "\n",
       "    .dataframe tbody tr th {\n",
       "        vertical-align: top;\n",
       "    }\n",
       "\n",
       "    .dataframe thead th {\n",
       "        text-align: right;\n",
       "    }\n",
       "</style>\n",
       "<table border=\"1\" class=\"dataframe\">\n",
       "  <thead>\n",
       "    <tr style=\"text-align: right;\">\n",
       "      <th></th>\n",
       "      <th>1</th>\n",
       "      <th>2</th>\n",
       "      <th>3</th>\n",
       "      <th>4</th>\n",
       "    </tr>\n",
       "  </thead>\n",
       "  <tbody>\n",
       "    <tr>\n",
       "      <th>Karachi</th>\n",
       "      <td>0</td>\n",
       "      <td>1</td>\n",
       "      <td>2</td>\n",
       "      <td>3</td>\n",
       "    </tr>\n",
       "    <tr>\n",
       "      <th>Lahore</th>\n",
       "      <td>4</td>\n",
       "      <td>5</td>\n",
       "      <td>6</td>\n",
       "      <td>7</td>\n",
       "    </tr>\n",
       "    <tr>\n",
       "      <th>Multan</th>\n",
       "      <td>8</td>\n",
       "      <td>9</td>\n",
       "      <td>10</td>\n",
       "      <td>11</td>\n",
       "    </tr>\n",
       "    <tr>\n",
       "      <th>Peshawar</th>\n",
       "      <td>12</td>\n",
       "      <td>13</td>\n",
       "      <td>14</td>\n",
       "      <td>15</td>\n",
       "    </tr>\n",
       "  </tbody>\n",
       "</table>\n",
       "</div>"
      ],
      "text/plain": [
       "           1   2   3   4\n",
       "Karachi    0   1   2   3\n",
       "Lahore     4   5   6   7\n",
       "Multan     8   9  10  11\n",
       "Peshawar  12  13  14  15"
      ]
     },
     "execution_count": 163,
     "metadata": {},
     "output_type": "execute_result"
    }
   ],
   "source": [
    "data4"
   ]
  },
  {
   "cell_type": "code",
   "execution_count": 164,
   "metadata": {},
   "outputs": [],
   "source": [
    "data4.drop('Peshawar', inplace = True)"
   ]
  },
  {
   "cell_type": "code",
   "execution_count": 165,
   "metadata": {},
   "outputs": [
    {
     "data": {
      "text/html": [
       "<div>\n",
       "<style scoped>\n",
       "    .dataframe tbody tr th:only-of-type {\n",
       "        vertical-align: middle;\n",
       "    }\n",
       "\n",
       "    .dataframe tbody tr th {\n",
       "        vertical-align: top;\n",
       "    }\n",
       "\n",
       "    .dataframe thead th {\n",
       "        text-align: right;\n",
       "    }\n",
       "</style>\n",
       "<table border=\"1\" class=\"dataframe\">\n",
       "  <thead>\n",
       "    <tr style=\"text-align: right;\">\n",
       "      <th></th>\n",
       "      <th>1</th>\n",
       "      <th>2</th>\n",
       "      <th>3</th>\n",
       "      <th>4</th>\n",
       "    </tr>\n",
       "  </thead>\n",
       "  <tbody>\n",
       "    <tr>\n",
       "      <th>Karachi</th>\n",
       "      <td>0</td>\n",
       "      <td>1</td>\n",
       "      <td>2</td>\n",
       "      <td>3</td>\n",
       "    </tr>\n",
       "    <tr>\n",
       "      <th>Lahore</th>\n",
       "      <td>4</td>\n",
       "      <td>5</td>\n",
       "      <td>6</td>\n",
       "      <td>7</td>\n",
       "    </tr>\n",
       "    <tr>\n",
       "      <th>Multan</th>\n",
       "      <td>8</td>\n",
       "      <td>9</td>\n",
       "      <td>10</td>\n",
       "      <td>11</td>\n",
       "    </tr>\n",
       "  </tbody>\n",
       "</table>\n",
       "</div>"
      ],
      "text/plain": [
       "         1  2   3   4\n",
       "Karachi  0  1   2   3\n",
       "Lahore   4  5   6   7\n",
       "Multan   8  9  10  11"
      ]
     },
     "execution_count": 165,
     "metadata": {},
     "output_type": "execute_result"
    }
   ],
   "source": [
    "data4"
   ]
  },
  {
   "cell_type": "markdown",
   "metadata": {},
   "source": [
    "# Function Application And Mapping"
   ]
  },
  {
   "cell_type": "code",
   "execution_count": 166,
   "metadata": {},
   "outputs": [],
   "source": [
    "frame7 = pd.DataFrame(np.random.randn(4, 3), columns = list('bde'), index = ['Karachi', 'Lahore', 'Islamabad', 'Quetta'])"
   ]
  },
  {
   "cell_type": "code",
   "execution_count": 167,
   "metadata": {},
   "outputs": [
    {
     "data": {
      "text/html": [
       "<div>\n",
       "<style scoped>\n",
       "    .dataframe tbody tr th:only-of-type {\n",
       "        vertical-align: middle;\n",
       "    }\n",
       "\n",
       "    .dataframe tbody tr th {\n",
       "        vertical-align: top;\n",
       "    }\n",
       "\n",
       "    .dataframe thead th {\n",
       "        text-align: right;\n",
       "    }\n",
       "</style>\n",
       "<table border=\"1\" class=\"dataframe\">\n",
       "  <thead>\n",
       "    <tr style=\"text-align: right;\">\n",
       "      <th></th>\n",
       "      <th>b</th>\n",
       "      <th>d</th>\n",
       "      <th>e</th>\n",
       "    </tr>\n",
       "  </thead>\n",
       "  <tbody>\n",
       "    <tr>\n",
       "      <th>Karachi</th>\n",
       "      <td>1.523014</td>\n",
       "      <td>1.574411</td>\n",
       "      <td>0.129212</td>\n",
       "    </tr>\n",
       "    <tr>\n",
       "      <th>Lahore</th>\n",
       "      <td>0.476343</td>\n",
       "      <td>-1.572065</td>\n",
       "      <td>0.878976</td>\n",
       "    </tr>\n",
       "    <tr>\n",
       "      <th>Islamabad</th>\n",
       "      <td>1.169361</td>\n",
       "      <td>-0.710956</td>\n",
       "      <td>-0.520088</td>\n",
       "    </tr>\n",
       "    <tr>\n",
       "      <th>Quetta</th>\n",
       "      <td>-0.313400</td>\n",
       "      <td>0.640503</td>\n",
       "      <td>-0.502791</td>\n",
       "    </tr>\n",
       "  </tbody>\n",
       "</table>\n",
       "</div>"
      ],
      "text/plain": [
       "                  b         d         e\n",
       "Karachi    1.523014  1.574411  0.129212\n",
       "Lahore     0.476343 -1.572065  0.878976\n",
       "Islamabad  1.169361 -0.710956 -0.520088\n",
       "Quetta    -0.313400  0.640503 -0.502791"
      ]
     },
     "execution_count": 167,
     "metadata": {},
     "output_type": "execute_result"
    }
   ],
   "source": [
    "frame7"
   ]
  },
  {
   "cell_type": "code",
   "execution_count": 168,
   "metadata": {},
   "outputs": [],
   "source": [
    "frame7 = np.abs(frame7)  #'abs' function remoe -ve sign"
   ]
  },
  {
   "cell_type": "code",
   "execution_count": 169,
   "metadata": {},
   "outputs": [
    {
     "data": {
      "text/html": [
       "<div>\n",
       "<style scoped>\n",
       "    .dataframe tbody tr th:only-of-type {\n",
       "        vertical-align: middle;\n",
       "    }\n",
       "\n",
       "    .dataframe tbody tr th {\n",
       "        vertical-align: top;\n",
       "    }\n",
       "\n",
       "    .dataframe thead th {\n",
       "        text-align: right;\n",
       "    }\n",
       "</style>\n",
       "<table border=\"1\" class=\"dataframe\">\n",
       "  <thead>\n",
       "    <tr style=\"text-align: right;\">\n",
       "      <th></th>\n",
       "      <th>b</th>\n",
       "      <th>d</th>\n",
       "      <th>e</th>\n",
       "    </tr>\n",
       "  </thead>\n",
       "  <tbody>\n",
       "    <tr>\n",
       "      <th>Karachi</th>\n",
       "      <td>1.523014</td>\n",
       "      <td>1.574411</td>\n",
       "      <td>0.129212</td>\n",
       "    </tr>\n",
       "    <tr>\n",
       "      <th>Lahore</th>\n",
       "      <td>0.476343</td>\n",
       "      <td>1.572065</td>\n",
       "      <td>0.878976</td>\n",
       "    </tr>\n",
       "    <tr>\n",
       "      <th>Islamabad</th>\n",
       "      <td>1.169361</td>\n",
       "      <td>0.710956</td>\n",
       "      <td>0.520088</td>\n",
       "    </tr>\n",
       "    <tr>\n",
       "      <th>Quetta</th>\n",
       "      <td>0.313400</td>\n",
       "      <td>0.640503</td>\n",
       "      <td>0.502791</td>\n",
       "    </tr>\n",
       "  </tbody>\n",
       "</table>\n",
       "</div>"
      ],
      "text/plain": [
       "                  b         d         e\n",
       "Karachi    1.523014  1.574411  0.129212\n",
       "Lahore     0.476343  1.572065  0.878976\n",
       "Islamabad  1.169361  0.710956  0.520088\n",
       "Quetta     0.313400  0.640503  0.502791"
      ]
     },
     "execution_count": 169,
     "metadata": {},
     "output_type": "execute_result"
    }
   ],
   "source": [
    "frame7"
   ]
  },
  {
   "cell_type": "code",
   "execution_count": 170,
   "metadata": {},
   "outputs": [
    {
     "data": {
      "text/plain": [
       "b    1.209614\n",
       "d    0.933908\n",
       "e    0.749764\n",
       "dtype: float64"
      ]
     },
     "execution_count": 170,
     "metadata": {},
     "output_type": "execute_result"
    }
   ],
   "source": [
    "f = lambda x: x.max() - x.min()  #  by default perform operation raw wise mean column\n",
    "frame7.apply(f)"
   ]
  },
  {
   "cell_type": "code",
   "execution_count": 171,
   "metadata": {},
   "outputs": [
    {
     "data": {
      "text/plain": [
       "Karachi      1.445199\n",
       "Lahore       1.095722\n",
       "Islamabad    0.649273\n",
       "Quetta       0.327103\n",
       "dtype: float64"
      ]
     },
     "execution_count": 171,
     "metadata": {},
     "output_type": "execute_result"
    }
   ],
   "source": [
    "frame7.apply(f, axis = 'columns')  #  here we change the axis fromm raw to columns means raw"
   ]
  },
  {
   "cell_type": "markdown",
   "metadata": {},
   "source": [
    "# Soring And Ranking"
   ]
  },
  {
   "cell_type": "code",
   "execution_count": 172,
   "metadata": {},
   "outputs": [],
   "source": [
    "obj10 = pd.Series([1,0,3,2], index = ['d', 'a', 'b', 'c'])"
   ]
  },
  {
   "cell_type": "code",
   "execution_count": 173,
   "metadata": {},
   "outputs": [
    {
     "data": {
      "text/plain": [
       "d    1\n",
       "a    0\n",
       "b    3\n",
       "c    2\n",
       "dtype: int64"
      ]
     },
     "execution_count": 173,
     "metadata": {},
     "output_type": "execute_result"
    }
   ],
   "source": [
    "obj10"
   ]
  },
  {
   "cell_type": "code",
   "execution_count": 174,
   "metadata": {},
   "outputs": [
    {
     "data": {
      "text/plain": [
       "a    0\n",
       "b    3\n",
       "c    2\n",
       "d    1\n",
       "dtype: int64"
      ]
     },
     "execution_count": 174,
     "metadata": {},
     "output_type": "execute_result"
    }
   ],
   "source": [
    "obj10.sort_index()"
   ]
  },
  {
   "cell_type": "code",
   "execution_count": 175,
   "metadata": {},
   "outputs": [
    {
     "data": {
      "text/plain": [
       "a    0\n",
       "d    1\n",
       "c    2\n",
       "b    3\n",
       "dtype: int64"
      ]
     },
     "execution_count": 175,
     "metadata": {},
     "output_type": "execute_result"
    }
   ],
   "source": [
    "obj10.sort_values()"
   ]
  },
  {
   "cell_type": "code",
   "execution_count": 176,
   "metadata": {},
   "outputs": [],
   "source": [
    "frame8 = pd.DataFrame(np.arange(8).reshape(2,4), index = ['three', 'one'], columns = ['d', 'a', 'b', 'c'])"
   ]
  },
  {
   "cell_type": "code",
   "execution_count": 177,
   "metadata": {},
   "outputs": [
    {
     "data": {
      "text/html": [
       "<div>\n",
       "<style scoped>\n",
       "    .dataframe tbody tr th:only-of-type {\n",
       "        vertical-align: middle;\n",
       "    }\n",
       "\n",
       "    .dataframe tbody tr th {\n",
       "        vertical-align: top;\n",
       "    }\n",
       "\n",
       "    .dataframe thead th {\n",
       "        text-align: right;\n",
       "    }\n",
       "</style>\n",
       "<table border=\"1\" class=\"dataframe\">\n",
       "  <thead>\n",
       "    <tr style=\"text-align: right;\">\n",
       "      <th></th>\n",
       "      <th>d</th>\n",
       "      <th>a</th>\n",
       "      <th>b</th>\n",
       "      <th>c</th>\n",
       "    </tr>\n",
       "  </thead>\n",
       "  <tbody>\n",
       "    <tr>\n",
       "      <th>three</th>\n",
       "      <td>0</td>\n",
       "      <td>1</td>\n",
       "      <td>2</td>\n",
       "      <td>3</td>\n",
       "    </tr>\n",
       "    <tr>\n",
       "      <th>one</th>\n",
       "      <td>4</td>\n",
       "      <td>5</td>\n",
       "      <td>6</td>\n",
       "      <td>7</td>\n",
       "    </tr>\n",
       "  </tbody>\n",
       "</table>\n",
       "</div>"
      ],
      "text/plain": [
       "       d  a  b  c\n",
       "three  0  1  2  3\n",
       "one    4  5  6  7"
      ]
     },
     "execution_count": 177,
     "metadata": {},
     "output_type": "execute_result"
    }
   ],
   "source": [
    "frame8"
   ]
  },
  {
   "cell_type": "code",
   "execution_count": 178,
   "metadata": {},
   "outputs": [
    {
     "data": {
      "text/html": [
       "<div>\n",
       "<style scoped>\n",
       "    .dataframe tbody tr th:only-of-type {\n",
       "        vertical-align: middle;\n",
       "    }\n",
       "\n",
       "    .dataframe tbody tr th {\n",
       "        vertical-align: top;\n",
       "    }\n",
       "\n",
       "    .dataframe thead th {\n",
       "        text-align: right;\n",
       "    }\n",
       "</style>\n",
       "<table border=\"1\" class=\"dataframe\">\n",
       "  <thead>\n",
       "    <tr style=\"text-align: right;\">\n",
       "      <th></th>\n",
       "      <th>d</th>\n",
       "      <th>a</th>\n",
       "      <th>b</th>\n",
       "      <th>c</th>\n",
       "    </tr>\n",
       "  </thead>\n",
       "  <tbody>\n",
       "    <tr>\n",
       "      <th>one</th>\n",
       "      <td>4</td>\n",
       "      <td>5</td>\n",
       "      <td>6</td>\n",
       "      <td>7</td>\n",
       "    </tr>\n",
       "    <tr>\n",
       "      <th>three</th>\n",
       "      <td>0</td>\n",
       "      <td>1</td>\n",
       "      <td>2</td>\n",
       "      <td>3</td>\n",
       "    </tr>\n",
       "  </tbody>\n",
       "</table>\n",
       "</div>"
      ],
      "text/plain": [
       "       d  a  b  c\n",
       "one    4  5  6  7\n",
       "three  0  1  2  3"
      ]
     },
     "execution_count": 178,
     "metadata": {},
     "output_type": "execute_result"
    }
   ],
   "source": [
    "frame8.sort_index()"
   ]
  },
  {
   "cell_type": "code",
   "execution_count": 179,
   "metadata": {},
   "outputs": [
    {
     "data": {
      "text/html": [
       "<div>\n",
       "<style scoped>\n",
       "    .dataframe tbody tr th:only-of-type {\n",
       "        vertical-align: middle;\n",
       "    }\n",
       "\n",
       "    .dataframe tbody tr th {\n",
       "        vertical-align: top;\n",
       "    }\n",
       "\n",
       "    .dataframe thead th {\n",
       "        text-align: right;\n",
       "    }\n",
       "</style>\n",
       "<table border=\"1\" class=\"dataframe\">\n",
       "  <thead>\n",
       "    <tr style=\"text-align: right;\">\n",
       "      <th></th>\n",
       "      <th>a</th>\n",
       "      <th>b</th>\n",
       "      <th>c</th>\n",
       "      <th>d</th>\n",
       "    </tr>\n",
       "  </thead>\n",
       "  <tbody>\n",
       "    <tr>\n",
       "      <th>three</th>\n",
       "      <td>1</td>\n",
       "      <td>2</td>\n",
       "      <td>3</td>\n",
       "      <td>0</td>\n",
       "    </tr>\n",
       "    <tr>\n",
       "      <th>one</th>\n",
       "      <td>5</td>\n",
       "      <td>6</td>\n",
       "      <td>7</td>\n",
       "      <td>4</td>\n",
       "    </tr>\n",
       "  </tbody>\n",
       "</table>\n",
       "</div>"
      ],
      "text/plain": [
       "       a  b  c  d\n",
       "three  1  2  3  0\n",
       "one    5  6  7  4"
      ]
     },
     "execution_count": 179,
     "metadata": {},
     "output_type": "execute_result"
    }
   ],
   "source": [
    "frame8.sort_index(axis = 1)"
   ]
  },
  {
   "cell_type": "code",
   "execution_count": 180,
   "metadata": {},
   "outputs": [],
   "source": [
    "obj11 = pd.Series([4, 7, -3, 2])"
   ]
  },
  {
   "cell_type": "code",
   "execution_count": 181,
   "metadata": {},
   "outputs": [
    {
     "data": {
      "text/plain": [
       "0    4\n",
       "1    7\n",
       "2   -3\n",
       "3    2\n",
       "dtype: int64"
      ]
     },
     "execution_count": 181,
     "metadata": {},
     "output_type": "execute_result"
    }
   ],
   "source": [
    "obj11"
   ]
  },
  {
   "cell_type": "code",
   "execution_count": 182,
   "metadata": {},
   "outputs": [
    {
     "data": {
      "text/plain": [
       "2   -3\n",
       "3    2\n",
       "0    4\n",
       "1    7\n",
       "dtype: int64"
      ]
     },
     "execution_count": 182,
     "metadata": {},
     "output_type": "execute_result"
    }
   ],
   "source": [
    "obj11.sort_values()"
   ]
  },
  {
   "cell_type": "code",
   "execution_count": 183,
   "metadata": {},
   "outputs": [
    {
     "data": {
      "text/plain": [
       "0    4\n",
       "1    7\n",
       "2   -3\n",
       "3    2\n",
       "dtype: int64"
      ]
     },
     "execution_count": 183,
     "metadata": {},
     "output_type": "execute_result"
    }
   ],
   "source": [
    "obj11.sort_index()"
   ]
  },
  {
   "cell_type": "code",
   "execution_count": 184,
   "metadata": {},
   "outputs": [],
   "source": [
    "frame9 = pd.DataFrame({'b':[4, 7, -3, 2], 'a':[0, 1, 0, 1]})"
   ]
  },
  {
   "cell_type": "code",
   "execution_count": 185,
   "metadata": {},
   "outputs": [
    {
     "data": {
      "text/html": [
       "<div>\n",
       "<style scoped>\n",
       "    .dataframe tbody tr th:only-of-type {\n",
       "        vertical-align: middle;\n",
       "    }\n",
       "\n",
       "    .dataframe tbody tr th {\n",
       "        vertical-align: top;\n",
       "    }\n",
       "\n",
       "    .dataframe thead th {\n",
       "        text-align: right;\n",
       "    }\n",
       "</style>\n",
       "<table border=\"1\" class=\"dataframe\">\n",
       "  <thead>\n",
       "    <tr style=\"text-align: right;\">\n",
       "      <th></th>\n",
       "      <th>b</th>\n",
       "      <th>a</th>\n",
       "    </tr>\n",
       "  </thead>\n",
       "  <tbody>\n",
       "    <tr>\n",
       "      <th>0</th>\n",
       "      <td>4</td>\n",
       "      <td>0</td>\n",
       "    </tr>\n",
       "    <tr>\n",
       "      <th>1</th>\n",
       "      <td>7</td>\n",
       "      <td>1</td>\n",
       "    </tr>\n",
       "    <tr>\n",
       "      <th>2</th>\n",
       "      <td>-3</td>\n",
       "      <td>0</td>\n",
       "    </tr>\n",
       "    <tr>\n",
       "      <th>3</th>\n",
       "      <td>2</td>\n",
       "      <td>1</td>\n",
       "    </tr>\n",
       "  </tbody>\n",
       "</table>\n",
       "</div>"
      ],
      "text/plain": [
       "   b  a\n",
       "0  4  0\n",
       "1  7  1\n",
       "2 -3  0\n",
       "3  2  1"
      ]
     },
     "execution_count": 185,
     "metadata": {},
     "output_type": "execute_result"
    }
   ],
   "source": [
    "frame9"
   ]
  },
  {
   "cell_type": "code",
   "execution_count": 186,
   "metadata": {},
   "outputs": [
    {
     "data": {
      "text/html": [
       "<div>\n",
       "<style scoped>\n",
       "    .dataframe tbody tr th:only-of-type {\n",
       "        vertical-align: middle;\n",
       "    }\n",
       "\n",
       "    .dataframe tbody tr th {\n",
       "        vertical-align: top;\n",
       "    }\n",
       "\n",
       "    .dataframe thead th {\n",
       "        text-align: right;\n",
       "    }\n",
       "</style>\n",
       "<table border=\"1\" class=\"dataframe\">\n",
       "  <thead>\n",
       "    <tr style=\"text-align: right;\">\n",
       "      <th></th>\n",
       "      <th>b</th>\n",
       "      <th>a</th>\n",
       "    </tr>\n",
       "  </thead>\n",
       "  <tbody>\n",
       "    <tr>\n",
       "      <th>2</th>\n",
       "      <td>-3</td>\n",
       "      <td>0</td>\n",
       "    </tr>\n",
       "    <tr>\n",
       "      <th>3</th>\n",
       "      <td>2</td>\n",
       "      <td>1</td>\n",
       "    </tr>\n",
       "    <tr>\n",
       "      <th>0</th>\n",
       "      <td>4</td>\n",
       "      <td>0</td>\n",
       "    </tr>\n",
       "    <tr>\n",
       "      <th>1</th>\n",
       "      <td>7</td>\n",
       "      <td>1</td>\n",
       "    </tr>\n",
       "  </tbody>\n",
       "</table>\n",
       "</div>"
      ],
      "text/plain": [
       "   b  a\n",
       "2 -3  0\n",
       "3  2  1\n",
       "0  4  0\n",
       "1  7  1"
      ]
     },
     "execution_count": 186,
     "metadata": {},
     "output_type": "execute_result"
    }
   ],
   "source": [
    "frame9.sort_values(by = 'b')"
   ]
  },
  {
   "cell_type": "code",
   "execution_count": 187,
   "metadata": {},
   "outputs": [
    {
     "data": {
      "text/html": [
       "<div>\n",
       "<style scoped>\n",
       "    .dataframe tbody tr th:only-of-type {\n",
       "        vertical-align: middle;\n",
       "    }\n",
       "\n",
       "    .dataframe tbody tr th {\n",
       "        vertical-align: top;\n",
       "    }\n",
       "\n",
       "    .dataframe thead th {\n",
       "        text-align: right;\n",
       "    }\n",
       "</style>\n",
       "<table border=\"1\" class=\"dataframe\">\n",
       "  <thead>\n",
       "    <tr style=\"text-align: right;\">\n",
       "      <th></th>\n",
       "      <th>b</th>\n",
       "      <th>a</th>\n",
       "    </tr>\n",
       "  </thead>\n",
       "  <tbody>\n",
       "    <tr>\n",
       "      <th>0</th>\n",
       "      <td>4</td>\n",
       "      <td>0</td>\n",
       "    </tr>\n",
       "    <tr>\n",
       "      <th>2</th>\n",
       "      <td>-3</td>\n",
       "      <td>0</td>\n",
       "    </tr>\n",
       "    <tr>\n",
       "      <th>1</th>\n",
       "      <td>7</td>\n",
       "      <td>1</td>\n",
       "    </tr>\n",
       "    <tr>\n",
       "      <th>3</th>\n",
       "      <td>2</td>\n",
       "      <td>1</td>\n",
       "    </tr>\n",
       "  </tbody>\n",
       "</table>\n",
       "</div>"
      ],
      "text/plain": [
       "   b  a\n",
       "0  4  0\n",
       "2 -3  0\n",
       "1  7  1\n",
       "3  2  1"
      ]
     },
     "execution_count": 187,
     "metadata": {},
     "output_type": "execute_result"
    }
   ],
   "source": [
    "frame9.sort_values(by = 'a')"
   ]
  },
  {
   "cell_type": "code",
   "execution_count": 188,
   "metadata": {},
   "outputs": [
    {
     "data": {
      "text/html": [
       "<div>\n",
       "<style scoped>\n",
       "    .dataframe tbody tr th:only-of-type {\n",
       "        vertical-align: middle;\n",
       "    }\n",
       "\n",
       "    .dataframe tbody tr th {\n",
       "        vertical-align: top;\n",
       "    }\n",
       "\n",
       "    .dataframe thead th {\n",
       "        text-align: right;\n",
       "    }\n",
       "</style>\n",
       "<table border=\"1\" class=\"dataframe\">\n",
       "  <thead>\n",
       "    <tr style=\"text-align: right;\">\n",
       "      <th></th>\n",
       "      <th>b</th>\n",
       "      <th>a</th>\n",
       "    </tr>\n",
       "  </thead>\n",
       "  <tbody>\n",
       "    <tr>\n",
       "      <th>0</th>\n",
       "      <td>4</td>\n",
       "      <td>0</td>\n",
       "    </tr>\n",
       "    <tr>\n",
       "      <th>1</th>\n",
       "      <td>7</td>\n",
       "      <td>1</td>\n",
       "    </tr>\n",
       "    <tr>\n",
       "      <th>2</th>\n",
       "      <td>-3</td>\n",
       "      <td>0</td>\n",
       "    </tr>\n",
       "    <tr>\n",
       "      <th>3</th>\n",
       "      <td>2</td>\n",
       "      <td>1</td>\n",
       "    </tr>\n",
       "  </tbody>\n",
       "</table>\n",
       "</div>"
      ],
      "text/plain": [
       "   b  a\n",
       "0  4  0\n",
       "1  7  1\n",
       "2 -3  0\n",
       "3  2  1"
      ]
     },
     "execution_count": 188,
     "metadata": {},
     "output_type": "execute_result"
    }
   ],
   "source": [
    "frame9"
   ]
  },
  {
   "cell_type": "code",
   "execution_count": 189,
   "metadata": {},
   "outputs": [
    {
     "data": {
      "text/html": [
       "<div>\n",
       "<style scoped>\n",
       "    .dataframe tbody tr th:only-of-type {\n",
       "        vertical-align: middle;\n",
       "    }\n",
       "\n",
       "    .dataframe tbody tr th {\n",
       "        vertical-align: top;\n",
       "    }\n",
       "\n",
       "    .dataframe thead th {\n",
       "        text-align: right;\n",
       "    }\n",
       "</style>\n",
       "<table border=\"1\" class=\"dataframe\">\n",
       "  <thead>\n",
       "    <tr style=\"text-align: right;\">\n",
       "      <th></th>\n",
       "      <th>b</th>\n",
       "      <th>a</th>\n",
       "    </tr>\n",
       "  </thead>\n",
       "  <tbody>\n",
       "    <tr>\n",
       "      <th>2</th>\n",
       "      <td>-3</td>\n",
       "      <td>0</td>\n",
       "    </tr>\n",
       "    <tr>\n",
       "      <th>0</th>\n",
       "      <td>4</td>\n",
       "      <td>0</td>\n",
       "    </tr>\n",
       "    <tr>\n",
       "      <th>3</th>\n",
       "      <td>2</td>\n",
       "      <td>1</td>\n",
       "    </tr>\n",
       "    <tr>\n",
       "      <th>1</th>\n",
       "      <td>7</td>\n",
       "      <td>1</td>\n",
       "    </tr>\n",
       "  </tbody>\n",
       "</table>\n",
       "</div>"
      ],
      "text/plain": [
       "   b  a\n",
       "2 -3  0\n",
       "0  4  0\n",
       "3  2  1\n",
       "1  7  1"
      ]
     },
     "execution_count": 189,
     "metadata": {},
     "output_type": "execute_result"
    }
   ],
   "source": [
    "frame9.sort_values(by = ['a', 'b'])"
   ]
  },
  {
   "cell_type": "code",
   "execution_count": 190,
   "metadata": {},
   "outputs": [
    {
     "data": {
      "text/html": [
       "<div>\n",
       "<style scoped>\n",
       "    .dataframe tbody tr th:only-of-type {\n",
       "        vertical-align: middle;\n",
       "    }\n",
       "\n",
       "    .dataframe tbody tr th {\n",
       "        vertical-align: top;\n",
       "    }\n",
       "\n",
       "    .dataframe thead th {\n",
       "        text-align: right;\n",
       "    }\n",
       "</style>\n",
       "<table border=\"1\" class=\"dataframe\">\n",
       "  <thead>\n",
       "    <tr style=\"text-align: right;\">\n",
       "      <th></th>\n",
       "      <th>b</th>\n",
       "      <th>a</th>\n",
       "    </tr>\n",
       "  </thead>\n",
       "  <tbody>\n",
       "    <tr>\n",
       "      <th>2</th>\n",
       "      <td>-3</td>\n",
       "      <td>0</td>\n",
       "    </tr>\n",
       "    <tr>\n",
       "      <th>3</th>\n",
       "      <td>2</td>\n",
       "      <td>1</td>\n",
       "    </tr>\n",
       "    <tr>\n",
       "      <th>0</th>\n",
       "      <td>4</td>\n",
       "      <td>0</td>\n",
       "    </tr>\n",
       "    <tr>\n",
       "      <th>1</th>\n",
       "      <td>7</td>\n",
       "      <td>1</td>\n",
       "    </tr>\n",
       "  </tbody>\n",
       "</table>\n",
       "</div>"
      ],
      "text/plain": [
       "   b  a\n",
       "2 -3  0\n",
       "3  2  1\n",
       "0  4  0\n",
       "1  7  1"
      ]
     },
     "execution_count": 190,
     "metadata": {},
     "output_type": "execute_result"
    }
   ],
   "source": [
    "frame9.sort_values(by = ['b', 'a'])"
   ]
  },
  {
   "cell_type": "code",
   "execution_count": 191,
   "metadata": {},
   "outputs": [],
   "source": [
    "obj12 = pd.Series([7, -5, 7, 4, 2, 0, 4])"
   ]
  },
  {
   "cell_type": "code",
   "execution_count": 192,
   "metadata": {},
   "outputs": [
    {
     "data": {
      "text/plain": [
       "0    7\n",
       "1   -5\n",
       "2    7\n",
       "3    4\n",
       "4    2\n",
       "5    0\n",
       "6    4\n",
       "dtype: int64"
      ]
     },
     "execution_count": 192,
     "metadata": {},
     "output_type": "execute_result"
    }
   ],
   "source": [
    "obj12"
   ]
  },
  {
   "cell_type": "code",
   "execution_count": 193,
   "metadata": {},
   "outputs": [
    {
     "data": {
      "text/plain": [
       "0    6.5\n",
       "1    1.0\n",
       "2    6.5\n",
       "3    4.5\n",
       "4    3.0\n",
       "5    2.0\n",
       "6    4.5\n",
       "dtype: float64"
      ]
     },
     "execution_count": 193,
     "metadata": {},
     "output_type": "execute_result"
    }
   ],
   "source": [
    "obj12.rank()"
   ]
  },
  {
   "cell_type": "code",
   "execution_count": 194,
   "metadata": {},
   "outputs": [],
   "source": [
    "obj13 = pd.Series([2,2,4,5,7,8])"
   ]
  },
  {
   "cell_type": "code",
   "execution_count": 195,
   "metadata": {},
   "outputs": [
    {
     "data": {
      "text/plain": [
       "0    2\n",
       "1    2\n",
       "2    4\n",
       "3    5\n",
       "4    7\n",
       "5    8\n",
       "dtype: int64"
      ]
     },
     "execution_count": 195,
     "metadata": {},
     "output_type": "execute_result"
    }
   ],
   "source": [
    "obj13"
   ]
  },
  {
   "cell_type": "code",
   "execution_count": 196,
   "metadata": {},
   "outputs": [
    {
     "data": {
      "text/plain": [
       "0    1.5\n",
       "1    1.5\n",
       "2    3.0\n",
       "3    4.0\n",
       "4    5.0\n",
       "5    6.0\n",
       "dtype: float64"
      ]
     },
     "execution_count": 196,
     "metadata": {},
     "output_type": "execute_result"
    }
   ],
   "source": [
    "obj13.rank()"
   ]
  },
  {
   "cell_type": "code",
   "execution_count": 197,
   "metadata": {},
   "outputs": [
    {
     "data": {
      "text/plain": [
       "0    1.0\n",
       "1    2.0\n",
       "2    3.0\n",
       "3    4.0\n",
       "4    5.0\n",
       "5    6.0\n",
       "dtype: float64"
      ]
     },
     "execution_count": 197,
     "metadata": {},
     "output_type": "execute_result"
    }
   ],
   "source": [
    "obj13.rank(method = 'first')"
   ]
  },
  {
   "cell_type": "code",
   "execution_count": 198,
   "metadata": {},
   "outputs": [
    {
     "data": {
      "text/plain": [
       "0    7\n",
       "1   -5\n",
       "2    7\n",
       "3    4\n",
       "4    2\n",
       "5    0\n",
       "6    4\n",
       "dtype: int64"
      ]
     },
     "execution_count": 198,
     "metadata": {},
     "output_type": "execute_result"
    }
   ],
   "source": [
    "obj12"
   ]
  },
  {
   "cell_type": "code",
   "execution_count": 199,
   "metadata": {},
   "outputs": [
    {
     "data": {
      "text/plain": [
       "0    6.0\n",
       "1    1.0\n",
       "2    7.0\n",
       "3    4.0\n",
       "4    3.0\n",
       "5    2.0\n",
       "6    5.0\n",
       "dtype: float64"
      ]
     },
     "execution_count": 199,
     "metadata": {},
     "output_type": "execute_result"
    }
   ],
   "source": [
    "obj12.rank(method = 'first')"
   ]
  },
  {
   "cell_type": "markdown",
   "metadata": {},
   "source": [
    "# Summarizing And Computing Descriptive Statistics"
   ]
  },
  {
   "cell_type": "code",
   "execution_count": 200,
   "metadata": {},
   "outputs": [],
   "source": [
    "df = pd.DataFrame([[1.4, np.nan], [7.1, -4.5], [np.nan, np.nan], [0.75, -1.3]],\n",
    "                   index = ['a', 'b', 'c', 'd'],\n",
    "                   columns = ['one', 'two'])"
   ]
  },
  {
   "cell_type": "code",
   "execution_count": 201,
   "metadata": {},
   "outputs": [
    {
     "data": {
      "text/html": [
       "<div>\n",
       "<style scoped>\n",
       "    .dataframe tbody tr th:only-of-type {\n",
       "        vertical-align: middle;\n",
       "    }\n",
       "\n",
       "    .dataframe tbody tr th {\n",
       "        vertical-align: top;\n",
       "    }\n",
       "\n",
       "    .dataframe thead th {\n",
       "        text-align: right;\n",
       "    }\n",
       "</style>\n",
       "<table border=\"1\" class=\"dataframe\">\n",
       "  <thead>\n",
       "    <tr style=\"text-align: right;\">\n",
       "      <th></th>\n",
       "      <th>one</th>\n",
       "      <th>two</th>\n",
       "    </tr>\n",
       "  </thead>\n",
       "  <tbody>\n",
       "    <tr>\n",
       "      <th>a</th>\n",
       "      <td>1.40</td>\n",
       "      <td>NaN</td>\n",
       "    </tr>\n",
       "    <tr>\n",
       "      <th>b</th>\n",
       "      <td>7.10</td>\n",
       "      <td>-4.5</td>\n",
       "    </tr>\n",
       "    <tr>\n",
       "      <th>c</th>\n",
       "      <td>NaN</td>\n",
       "      <td>NaN</td>\n",
       "    </tr>\n",
       "    <tr>\n",
       "      <th>d</th>\n",
       "      <td>0.75</td>\n",
       "      <td>-1.3</td>\n",
       "    </tr>\n",
       "  </tbody>\n",
       "</table>\n",
       "</div>"
      ],
      "text/plain": [
       "    one  two\n",
       "a  1.40  NaN\n",
       "b  7.10 -4.5\n",
       "c   NaN  NaN\n",
       "d  0.75 -1.3"
      ]
     },
     "execution_count": 201,
     "metadata": {},
     "output_type": "execute_result"
    }
   ],
   "source": [
    "df"
   ]
  },
  {
   "cell_type": "code",
   "execution_count": 202,
   "metadata": {},
   "outputs": [
    {
     "data": {
      "text/plain": [
       "one    9.25\n",
       "two   -5.80\n",
       "dtype: float64"
      ]
     },
     "execution_count": 202,
     "metadata": {},
     "output_type": "execute_result"
    }
   ],
   "source": [
    "df.sum()   # by default operation perform raw wise means column and NaN values will be neglegted"
   ]
  },
  {
   "cell_type": "code",
   "execution_count": 203,
   "metadata": {},
   "outputs": [
    {
     "data": {
      "text/plain": [
       "a    1.40\n",
       "b    2.60\n",
       "c    0.00\n",
       "d   -0.55\n",
       "dtype: float64"
      ]
     },
     "execution_count": 203,
     "metadata": {},
     "output_type": "execute_result"
    }
   ],
   "source": [
    "df.sum(axis = 'columns')  # operation perform column wise means raw and NaN values will be neglegted"
   ]
  },
  {
   "cell_type": "code",
   "execution_count": 204,
   "metadata": {},
   "outputs": [
    {
     "data": {
      "text/plain": [
       "one   NaN\n",
       "two   NaN\n",
       "dtype: float64"
      ]
     },
     "execution_count": 204,
     "metadata": {},
     "output_type": "execute_result"
    }
   ],
   "source": [
    "df.sum(skipna = False)"
   ]
  },
  {
   "cell_type": "code",
   "execution_count": 205,
   "metadata": {},
   "outputs": [
    {
     "data": {
      "text/plain": [
       "a     NaN\n",
       "b    2.60\n",
       "c     NaN\n",
       "d   -0.55\n",
       "dtype: float64"
      ]
     },
     "execution_count": 205,
     "metadata": {},
     "output_type": "execute_result"
    }
   ],
   "source": [
    "df.sum(axis = 'columns', skipna = False)"
   ]
  },
  {
   "cell_type": "code",
   "execution_count": 206,
   "metadata": {},
   "outputs": [
    {
     "data": {
      "text/plain": [
       "one    3.083333\n",
       "two   -2.900000\n",
       "dtype: float64"
      ]
     },
     "execution_count": 206,
     "metadata": {},
     "output_type": "execute_result"
    }
   ],
   "source": [
    "df.mean()    # by default operation perform raw wise means column and NaN values will be neglegted"
   ]
  },
  {
   "cell_type": "code",
   "execution_count": 207,
   "metadata": {},
   "outputs": [
    {
     "data": {
      "text/plain": [
       "a    1.400\n",
       "b    1.300\n",
       "c      NaN\n",
       "d   -0.275\n",
       "dtype: float64"
      ]
     },
     "execution_count": 207,
     "metadata": {},
     "output_type": "execute_result"
    }
   ],
   "source": [
    "df.mean(axis = 'columns')   # operation perform column wise means raw and NaN values will be neglegted"
   ]
  },
  {
   "cell_type": "code",
   "execution_count": 208,
   "metadata": {},
   "outputs": [
    {
     "data": {
      "text/plain": [
       "one   NaN\n",
       "two   NaN\n",
       "dtype: float64"
      ]
     },
     "execution_count": 208,
     "metadata": {},
     "output_type": "execute_result"
    }
   ],
   "source": [
    "df.mean(skipna = False)"
   ]
  },
  {
   "cell_type": "code",
   "execution_count": 209,
   "metadata": {},
   "outputs": [
    {
     "data": {
      "text/plain": [
       "a      NaN\n",
       "b    1.300\n",
       "c      NaN\n",
       "d   -0.275\n",
       "dtype: float64"
      ]
     },
     "execution_count": 209,
     "metadata": {},
     "output_type": "execute_result"
    }
   ],
   "source": [
    "df.mean(axis = 'columns', skipna = False)"
   ]
  },
  {
   "cell_type": "code",
   "execution_count": 210,
   "metadata": {},
   "outputs": [],
   "source": [
    "frame10 = pd.DataFrame({'b':[1,0], 'a':[0,1]})"
   ]
  },
  {
   "cell_type": "code",
   "execution_count": 211,
   "metadata": {},
   "outputs": [
    {
     "data": {
      "text/html": [
       "<div>\n",
       "<style scoped>\n",
       "    .dataframe tbody tr th:only-of-type {\n",
       "        vertical-align: middle;\n",
       "    }\n",
       "\n",
       "    .dataframe tbody tr th {\n",
       "        vertical-align: top;\n",
       "    }\n",
       "\n",
       "    .dataframe thead th {\n",
       "        text-align: right;\n",
       "    }\n",
       "</style>\n",
       "<table border=\"1\" class=\"dataframe\">\n",
       "  <thead>\n",
       "    <tr style=\"text-align: right;\">\n",
       "      <th></th>\n",
       "      <th>b</th>\n",
       "      <th>a</th>\n",
       "    </tr>\n",
       "  </thead>\n",
       "  <tbody>\n",
       "    <tr>\n",
       "      <th>0</th>\n",
       "      <td>1</td>\n",
       "      <td>0</td>\n",
       "    </tr>\n",
       "    <tr>\n",
       "      <th>1</th>\n",
       "      <td>0</td>\n",
       "      <td>1</td>\n",
       "    </tr>\n",
       "  </tbody>\n",
       "</table>\n",
       "</div>"
      ],
      "text/plain": [
       "   b  a\n",
       "0  1  0\n",
       "1  0  1"
      ]
     },
     "execution_count": 211,
     "metadata": {},
     "output_type": "execute_result"
    }
   ],
   "source": [
    "frame10"
   ]
  },
  {
   "cell_type": "code",
   "execution_count": 212,
   "metadata": {},
   "outputs": [
    {
     "data": {
      "text/html": [
       "<div>\n",
       "<style scoped>\n",
       "    .dataframe tbody tr th:only-of-type {\n",
       "        vertical-align: middle;\n",
       "    }\n",
       "\n",
       "    .dataframe tbody tr th {\n",
       "        vertical-align: top;\n",
       "    }\n",
       "\n",
       "    .dataframe thead th {\n",
       "        text-align: right;\n",
       "    }\n",
       "</style>\n",
       "<table border=\"1\" class=\"dataframe\">\n",
       "  <thead>\n",
       "    <tr style=\"text-align: right;\">\n",
       "      <th></th>\n",
       "      <th>b</th>\n",
       "      <th>a</th>\n",
       "    </tr>\n",
       "  </thead>\n",
       "  <tbody>\n",
       "    <tr>\n",
       "      <th>b</th>\n",
       "      <td>1.0</td>\n",
       "      <td>-1.0</td>\n",
       "    </tr>\n",
       "    <tr>\n",
       "      <th>a</th>\n",
       "      <td>-1.0</td>\n",
       "      <td>1.0</td>\n",
       "    </tr>\n",
       "  </tbody>\n",
       "</table>\n",
       "</div>"
      ],
      "text/plain": [
       "     b    a\n",
       "b  1.0 -1.0\n",
       "a -1.0  1.0"
      ]
     },
     "execution_count": 212,
     "metadata": {},
     "output_type": "execute_result"
    }
   ],
   "source": [
    "frame10.corr()"
   ]
  },
  {
   "cell_type": "code",
   "execution_count": 213,
   "metadata": {},
   "outputs": [
    {
     "data": {
      "text/html": [
       "<div>\n",
       "<style scoped>\n",
       "    .dataframe tbody tr th:only-of-type {\n",
       "        vertical-align: middle;\n",
       "    }\n",
       "\n",
       "    .dataframe tbody tr th {\n",
       "        vertical-align: top;\n",
       "    }\n",
       "\n",
       "    .dataframe thead th {\n",
       "        text-align: right;\n",
       "    }\n",
       "</style>\n",
       "<table border=\"1\" class=\"dataframe\">\n",
       "  <thead>\n",
       "    <tr style=\"text-align: right;\">\n",
       "      <th></th>\n",
       "      <th>b</th>\n",
       "      <th>a</th>\n",
       "    </tr>\n",
       "  </thead>\n",
       "  <tbody>\n",
       "    <tr>\n",
       "      <th>b</th>\n",
       "      <td>0.5</td>\n",
       "      <td>-0.5</td>\n",
       "    </tr>\n",
       "    <tr>\n",
       "      <th>a</th>\n",
       "      <td>-0.5</td>\n",
       "      <td>0.5</td>\n",
       "    </tr>\n",
       "  </tbody>\n",
       "</table>\n",
       "</div>"
      ],
      "text/plain": [
       "     b    a\n",
       "b  0.5 -0.5\n",
       "a -0.5  0.5"
      ]
     },
     "execution_count": 213,
     "metadata": {},
     "output_type": "execute_result"
    }
   ],
   "source": [
    "frame10.cov()"
   ]
  },
  {
   "cell_type": "code",
   "execution_count": 214,
   "metadata": {},
   "outputs": [],
   "source": [
    "import pandas_datareader.data as web"
   ]
  },
  {
   "cell_type": "code",
   "execution_count": 216,
   "metadata": {},
   "outputs": [],
   "source": [
    "all_data = {ticker: web.get_data_yahoo(ticker)\n",
    "                       for ticker in ['AAPL', 'IBM', 'MSFT', 'GOOG']}"
   ]
  },
  {
   "cell_type": "code",
   "execution_count": 217,
   "metadata": {},
   "outputs": [],
   "source": [
    "price = pd.DataFrame({ticker: data['Adj Close'] for ticker, data in all_data.items()})"
   ]
  },
  {
   "cell_type": "code",
   "execution_count": 218,
   "metadata": {},
   "outputs": [],
   "source": [
    "volume = pd.DataFrame({ticker: data['Volume'] for ticker, data in all_data.items()})"
   ]
  },
  {
   "cell_type": "code",
   "execution_count": 219,
   "metadata": {},
   "outputs": [
    {
     "data": {
      "text/plain": [
       "{'AAPL':                   High         Low        Open       Close       Volume  \\\n",
       " Date                                                                      \n",
       " 2015-01-08  112.150002  108.699997  109.230003  111.889999   59364500.0   \n",
       " 2015-01-09  113.250000  110.209999  112.669998  112.010002   53699500.0   \n",
       " 2015-01-12  112.629997  108.800003  112.599998  109.250000   49650800.0   \n",
       " 2015-01-13  112.800003  108.910004  111.430000  110.220001   67091900.0   \n",
       " 2015-01-14  110.489998  108.500000  109.040001  109.800003   48956600.0   \n",
       " 2015-01-15  110.059998  106.660004  110.000000  106.820000   60014000.0   \n",
       " 2015-01-16  107.580002  105.199997  107.029999  105.989998   78513300.0   \n",
       " 2015-01-20  108.970001  106.500000  107.839996  108.720001   49899900.0   \n",
       " 2015-01-21  111.059998  108.269997  108.949997  109.550003   48575900.0   \n",
       " 2015-01-22  112.470001  109.720001  110.260002  112.400002   53796400.0   \n",
       " 2015-01-23  113.750000  111.529999  112.300003  112.980003   46464800.0   \n",
       " 2015-01-26  114.360001  112.800003  113.739998  113.099998   55615000.0   \n",
       " 2015-01-27  112.480003  109.029999  112.419998  109.139999   95568700.0   \n",
       " 2015-01-28  118.120003  115.309998  117.629997  115.309998  146477100.0   \n",
       " 2015-01-29  119.190002  115.559998  116.320000  118.900002   84436400.0   \n",
       " 2015-01-30  120.000000  116.849998  118.400002  117.160004   83745500.0   \n",
       " 2015-02-02  119.169998  116.080002  118.050003  118.629997   62739100.0   \n",
       " 2015-02-03  119.089996  117.610001  118.500000  118.650002   51915700.0   \n",
       " 2015-02-04  120.510002  118.309998  118.500000  119.559998   70149700.0   \n",
       " 2015-02-05  120.230003  119.250000  120.019997  119.940002   42246200.0   \n",
       " 2015-02-06  120.250000  118.449997  120.019997  118.930000   43706600.0   \n",
       " 2015-02-09  119.839996  118.430000  118.550003  119.720001   38889800.0   \n",
       " 2015-02-10  122.150002  120.160004  120.169998  122.019997   62008500.0   \n",
       " 2015-02-11  124.919998  122.500000  122.769997  124.879997   73561800.0   \n",
       " 2015-02-12  127.480003  125.570000  126.059998  126.459999   74474500.0   \n",
       " 2015-02-13  127.279999  125.650002  127.279999  127.080002   54272200.0   \n",
       " 2015-02-17  128.880005  126.919998  127.489998  127.830002   63152400.0   \n",
       " 2015-02-18  128.779999  127.449997  127.629997  128.720001   44891700.0   \n",
       " 2015-02-19  129.029999  128.330002  128.479996  128.449997   37362400.0   \n",
       " 2015-02-20  129.500000  128.050003  128.619995  129.500000   48948400.0   \n",
       " ...                ...         ...         ...         ...          ...   \n",
       " 2019-11-22  263.179993  260.839996  262.589996  261.779999   16331300.0   \n",
       " 2019-11-25  266.440002  262.519989  262.709991  266.369995   21005100.0   \n",
       " 2019-11-26  267.160004  262.500000  266.940002  264.290009   26301900.0   \n",
       " 2019-11-27  267.980011  265.309998  265.579987  267.839996   16308900.0   \n",
       " 2019-11-29  268.000000  265.899994  266.600006  267.250000   11654400.0   \n",
       " 2019-12-02  268.250000  263.450012  267.269989  264.160004   23621800.0   \n",
       " 2019-12-03  259.529999  256.290009  258.309998  259.450012   28607600.0   \n",
       " 2019-12-04  263.309998  260.679993  261.070007  261.739990   16795400.0   \n",
       " 2019-12-05  265.890015  262.730011  263.790009  265.579987   18606100.0   \n",
       " 2019-12-06  271.000000  267.299988  267.480011  270.709991   26518900.0   \n",
       " 2019-12-09  270.799988  264.910004  270.000000  266.920013   32010600.0   \n",
       " 2019-12-10  270.070007  265.859985  268.600006  268.480011   22605100.0   \n",
       " 2019-12-11  271.100006  268.500000  268.809998  270.769989   19689200.0   \n",
       " 2019-12-12  272.559998  267.320007  267.779999  271.459991   34327600.0   \n",
       " 2019-12-13  275.299988  270.929993  271.459991  275.149994   33396900.0   \n",
       " 2019-12-16  280.790009  276.980011  277.000000  279.859985   32046500.0   \n",
       " 2019-12-17  281.769989  278.799988  279.570007  280.410004   28539600.0   \n",
       " 2019-12-18  281.899994  279.119995  279.799988  279.739990   29007100.0   \n",
       " 2019-12-19  281.179993  278.950012  279.500000  280.019989   24592300.0   \n",
       " 2019-12-20  282.649994  278.559998  282.230011  279.440002   68994500.0   \n",
       " 2019-12-23  284.250000  280.369995  280.529999  284.000000   24643000.0   \n",
       " 2019-12-24  284.890015  282.920013  284.690002  284.269989   12119700.0   \n",
       " 2019-12-26  289.980011  284.700012  284.820007  289.910004   23280300.0   \n",
       " 2019-12-27  293.970001  288.119995  291.119995  289.799988   36566500.0   \n",
       " 2019-12-30  292.690002  285.220001  289.459991  291.519989   36028600.0   \n",
       " 2019-12-31  293.679993  289.519989  289.929993  293.649994   25201400.0   \n",
       " 2020-01-02  300.600006  295.190002  296.239990  300.350006   33870100.0   \n",
       " 2020-01-03  300.579987  296.500000  297.149994  297.429993   36580700.0   \n",
       " 2020-01-06  299.959991  292.750000  293.790009  299.799988   29596800.0   \n",
       " 2020-01-07  300.899994  297.480011  299.839996  298.390015   27218000.0   \n",
       " \n",
       "              Adj Close  \n",
       " Date                    \n",
       " 2015-01-08  102.806480  \n",
       " 2015-01-09  102.916725  \n",
       " 2015-01-12  100.380791  \n",
       " 2015-01-13  101.272049  \n",
       " 2015-01-14  100.886154  \n",
       " 2015-01-15   98.148056  \n",
       " 2015-01-16   97.385445  \n",
       " 2015-01-20   99.893822  \n",
       " 2015-01-21  100.656441  \n",
       " 2015-01-22  103.275063  \n",
       " 2015-01-23  103.807991  \n",
       " 2015-01-26  103.918228  \n",
       " 2015-01-27  100.279716  \n",
       " 2015-01-28  105.948822  \n",
       " 2015-01-29  109.247391  \n",
       " 2015-01-30  107.648643  \n",
       " 2015-02-02  108.999298  \n",
       " 2015-02-03  109.017654  \n",
       " 2015-02-04  109.853806  \n",
       " 2015-02-05  110.637886  \n",
       " 2015-02-06  109.706200  \n",
       " 2015-02-09  110.434944  \n",
       " 2015-02-10  112.556557  \n",
       " 2015-02-11  115.194748  \n",
       " 2015-02-12  116.652199  \n",
       " 2015-02-13  117.224121  \n",
       " 2015-02-17  117.915962  \n",
       " 2015-02-18  118.736946  \n",
       " 2015-02-19  118.487869  \n",
       " 2015-02-20  119.456444  \n",
       " ...                ...  \n",
       " 2019-11-22  261.779999  \n",
       " 2019-11-25  266.369995  \n",
       " 2019-11-26  264.290009  \n",
       " 2019-11-27  267.839996  \n",
       " 2019-11-29  267.250000  \n",
       " 2019-12-02  264.160004  \n",
       " 2019-12-03  259.450012  \n",
       " 2019-12-04  261.739990  \n",
       " 2019-12-05  265.579987  \n",
       " 2019-12-06  270.709991  \n",
       " 2019-12-09  266.920013  \n",
       " 2019-12-10  268.480011  \n",
       " 2019-12-11  270.769989  \n",
       " 2019-12-12  271.459991  \n",
       " 2019-12-13  275.149994  \n",
       " 2019-12-16  279.859985  \n",
       " 2019-12-17  280.410004  \n",
       " 2019-12-18  279.739990  \n",
       " 2019-12-19  280.019989  \n",
       " 2019-12-20  279.440002  \n",
       " 2019-12-23  284.000000  \n",
       " 2019-12-24  284.269989  \n",
       " 2019-12-26  289.910004  \n",
       " 2019-12-27  289.799988  \n",
       " 2019-12-30  291.519989  \n",
       " 2019-12-31  293.649994  \n",
       " 2020-01-02  300.350006  \n",
       " 2020-01-03  297.429993  \n",
       " 2020-01-06  299.799988  \n",
       " 2020-01-07  298.390015  \n",
       " \n",
       " [1258 rows x 6 columns],\n",
       " 'IBM':                   High         Low        Open       Close      Volume  \\\n",
       " Date                                                                     \n",
       " 2015-01-08  159.039993  155.550003  156.240005  158.419998   4236800.0   \n",
       " 2015-01-09  160.339996  157.250000  158.419998  159.110001   4488300.0   \n",
       " 2015-01-12  159.250000  155.759995  159.000000  156.440002   4187600.0   \n",
       " 2015-01-13  159.970001  155.679993  157.259995  156.809998   4377500.0   \n",
       " 2015-01-14  156.490005  153.740005  154.860001  155.800003   4690300.0   \n",
       " 2015-01-15  156.970001  154.160004  156.690002  154.570007   4248400.0   \n",
       " 2015-01-16  157.630005  153.820007  153.820007  157.139999   5756000.0   \n",
       " 2015-01-20  157.330002  154.029999  156.699997  156.949997   8392800.0   \n",
       " 2015-01-21  154.500000  151.070007  153.029999  152.089996  11897100.0   \n",
       " 2015-01-22  155.720001  151.759995  151.940002  155.389999   6120100.0   \n",
       " 2015-01-23  157.600006  154.889999  155.029999  155.869995   4834800.0   \n",
       " 2015-01-26  159.460007  155.770004  158.259995  156.360001   7888100.0   \n",
       " 2015-01-27  155.089996  152.589996  154.940002  153.669998   5659600.0   \n",
       " 2015-01-28  154.529999  151.550003  154.000000  151.550003   4495900.0   \n",
       " 2015-01-29  155.580002  149.520004  151.380005  155.479996   8320800.0   \n",
       " 2015-01-30  155.240005  153.039993  153.910004  153.309998   6563600.0   \n",
       " 2015-02-02  154.660004  151.509995  154.000000  154.660004   4712200.0   \n",
       " 2015-02-03  158.600006  154.750000  154.750000  158.470001   5539400.0   \n",
       " 2015-02-04  158.710007  156.699997  157.210007  156.960007   3678500.0   \n",
       " 2015-02-05  158.589996  157.149994  157.289993  157.910004   5253600.0   \n",
       " 2015-02-06  158.080002  156.229996  157.339996  156.720001   3256500.0   \n",
       " 2015-02-09  157.500000  155.399994  156.000000  155.750000   3057700.0   \n",
       " 2015-02-10  158.559998  155.080002  156.740005  158.559998   4440600.0   \n",
       " 2015-02-11  159.089996  157.169998  157.759995  158.199997   3626700.0   \n",
       " 2015-02-12  159.500000  158.089996  158.720001  158.520004   3333100.0   \n",
       " 2015-02-13  160.800003  158.639999  158.779999  160.399994   3706900.0   \n",
       " 2015-02-17  161.410004  159.729996  159.750000  160.960007   2894500.0   \n",
       " 2015-02-18  162.470001  160.639999  161.860001  162.190002   4358400.0   \n",
       " 2015-02-19  164.490005  161.440002  162.050003  163.889999   3504400.0   \n",
       " 2015-02-20  164.339996  162.089996  163.639999  163.649994   3353000.0   \n",
       " ...                ...         ...         ...         ...         ...   \n",
       " 2019-11-22  134.649994  133.589996  134.190002  134.339996   3297500.0   \n",
       " 2019-11-25  136.000000  134.350006  134.470001  135.970001   2590100.0   \n",
       " 2019-11-26  136.149994  134.770004  136.149994  135.089996   3793200.0   \n",
       " 2019-11-27  135.710007  133.619995  135.350006  133.770004   3280900.0   \n",
       " 2019-11-29  134.520004  133.029999  133.600006  134.449997   1825300.0   \n",
       " 2019-12-02  134.500000  132.479996  134.449997  132.910004   3067100.0   \n",
       " 2019-12-03  132.440002  130.690002  132.000000  132.119995   3642500.0   \n",
       " 2019-12-04  133.679993  131.960007  132.860001  131.990005   3530000.0   \n",
       " 2019-12-05  133.240005  131.630005  132.990005  131.910004   3595400.0   \n",
       " 2019-12-06  133.889999  132.699997  132.750000  133.220001   3437500.0   \n",
       " 2019-12-09  134.589996  133.259995  133.350006  133.919998   2968500.0   \n",
       " 2019-12-10  134.839996  133.559998  133.919998  133.910004   3480400.0   \n",
       " 2019-12-11  134.509995  133.669998  134.110001  133.759995   3953300.0   \n",
       " 2019-12-12  135.660004  133.660004  133.699997  135.320007   4824100.0   \n",
       " 2019-12-13  135.500000  134.009995  134.750000  134.210007   2535000.0   \n",
       " 2019-12-16  135.449997  133.850006  134.940002  134.130005   3049200.0   \n",
       " 2019-12-17  134.690002  133.460007  134.279999  134.220001   2907200.0   \n",
       " 2019-12-18  135.000000  134.149994  134.550003  134.410004   3101800.0   \n",
       " 2019-12-19  134.729996  134.190002  134.460007  134.559998   3866500.0   \n",
       " 2019-12-20  136.419998  134.949997  135.740005  135.589996   7111800.0   \n",
       " 2019-12-23  136.149994  135.000000  135.779999  135.550003   2803200.0   \n",
       " 2019-12-24  135.619995  134.610001  135.610001  134.979996   1202100.0   \n",
       " 2019-12-26  135.309998  134.649994  134.979996  134.910004   2129700.0   \n",
       " 2019-12-27  135.750000  134.869995  135.000000  135.270004   2752200.0   \n",
       " 2019-12-30  135.300003  132.500000  135.199997  132.809998   4118900.0   \n",
       " 2019-12-31  134.119995  132.399994  132.529999  134.039993   3777500.0   \n",
       " 2020-01-02  135.919998  134.770004  135.000000  135.419998   3148600.0   \n",
       " 2020-01-03  134.860001  133.559998  133.570007  134.339996   2373700.0   \n",
       " 2020-01-06  134.240005  133.199997  133.419998  134.100006   2425500.0   \n",
       " 2020-01-07  134.960007  133.399994  133.690002  134.190002   3090800.0   \n",
       " \n",
       "              Adj Close  \n",
       " Date                    \n",
       " 2015-01-08  127.657913  \n",
       " 2015-01-09  128.213913  \n",
       " 2015-01-12  126.062386  \n",
       " 2015-01-13  126.360535  \n",
       " 2015-01-14  125.546654  \n",
       " 2015-01-15  124.555489  \n",
       " 2015-01-16  126.626427  \n",
       " 2015-01-20  126.473312  \n",
       " 2015-01-21  122.557053  \n",
       " 2015-01-22  125.216255  \n",
       " 2015-01-23  125.603058  \n",
       " 2015-01-26  125.997902  \n",
       " 2015-01-27  123.830261  \n",
       " 2015-01-28  122.121933  \n",
       " 2015-01-29  125.288780  \n",
       " 2015-01-30  123.540154  \n",
       " 2015-02-02  124.628014  \n",
       " 2015-02-03  127.698143  \n",
       " 2015-02-04  126.481407  \n",
       " 2015-02-05  127.246925  \n",
       " 2015-02-06  127.173882  \n",
       " 2015-02-09  126.386787  \n",
       " 2015-02-10  128.667007  \n",
       " 2015-02-11  128.374893  \n",
       " 2015-02-12  128.634552  \n",
       " 2015-02-13  130.160095  \n",
       " 2015-02-17  130.614532  \n",
       " 2015-02-18  131.612671  \n",
       " 2015-02-19  132.992111  \n",
       " 2015-02-20  132.797379  \n",
       " ...                ...  \n",
       " 2019-11-22  134.339996  \n",
       " 2019-11-25  135.970001  \n",
       " 2019-11-26  135.089996  \n",
       " 2019-11-27  133.770004  \n",
       " 2019-11-29  134.449997  \n",
       " 2019-12-02  132.910004  \n",
       " 2019-12-03  132.119995  \n",
       " 2019-12-04  131.990005  \n",
       " 2019-12-05  131.910004  \n",
       " 2019-12-06  133.220001  \n",
       " 2019-12-09  133.919998  \n",
       " 2019-12-10  133.910004  \n",
       " 2019-12-11  133.759995  \n",
       " 2019-12-12  135.320007  \n",
       " 2019-12-13  134.210007  \n",
       " 2019-12-16  134.130005  \n",
       " 2019-12-17  134.220001  \n",
       " 2019-12-18  134.410004  \n",
       " 2019-12-19  134.559998  \n",
       " 2019-12-20  135.589996  \n",
       " 2019-12-23  135.550003  \n",
       " 2019-12-24  134.979996  \n",
       " 2019-12-26  134.910004  \n",
       " 2019-12-27  135.270004  \n",
       " 2019-12-30  132.809998  \n",
       " 2019-12-31  134.039993  \n",
       " 2020-01-02  135.419998  \n",
       " 2020-01-03  134.339996  \n",
       " 2020-01-06  134.100006  \n",
       " 2020-01-07  134.190002  \n",
       " \n",
       " [1258 rows x 6 columns],\n",
       " 'MSFT':                   High         Low        Open       Close       Volume  \\\n",
       " Date                                                                      \n",
       " 2015-01-08   47.750000   46.720001   46.750000   47.590000   29645200.0   \n",
       " 2015-01-09   47.820000   46.900002   47.610001   47.189999   23944200.0   \n",
       " 2015-01-12   47.540001   46.360001   47.419998   46.599998   23651900.0   \n",
       " 2015-01-13   47.910000   46.060001   46.970001   46.360001   35270600.0   \n",
       " 2015-01-14   46.240002   45.619999   45.959999   45.959999   29719600.0   \n",
       " 2015-01-15   46.380001   45.410000   46.220001   45.480000   32750800.0   \n",
       " 2015-01-16   46.279999   45.169998   45.310001   46.240002   35695300.0   \n",
       " 2015-01-20   46.650002   45.570000   46.299999   46.389999   36161900.0   \n",
       " 2015-01-21   46.139999   45.480000   45.939999   45.919998   39081100.0   \n",
       " 2015-01-22   47.139999   46.080002   46.380001   47.130001   35898000.0   \n",
       " 2015-01-23   47.389999   46.799999   47.360001   47.180000   26211600.0   \n",
       " 2015-01-26   47.130001   46.240002   47.000000   47.009998   42525500.0   \n",
       " 2015-01-27   43.200001   42.110001   42.950001   42.660000  169164000.0   \n",
       " 2015-01-28   42.790001   41.160000   42.740002   41.189999   84507100.0   \n",
       " 2015-01-29   42.119999   40.790001   40.930000   42.009998   63585300.0   \n",
       " 2015-01-30   41.580002   40.349998   41.549999   40.400002   78004900.0   \n",
       " 2015-02-02   41.369999   40.230000   40.590000   41.279999   50352500.0   \n",
       " 2015-02-03   41.930000   41.049999   41.630001   41.599998   52082400.0   \n",
       " 2015-02-04   42.209999   41.360001   41.939999   41.840000   41614800.0   \n",
       " 2015-02-05   42.639999   41.860001   42.220001   42.450001   36548200.0   \n",
       " 2015-02-06   42.790001   42.150002   42.680000   42.410000   34616600.0   \n",
       " 2015-02-09   42.740002   42.209999   42.240002   42.360001   31381100.0   \n",
       " 2015-02-10   42.770000   42.180000   42.740002   42.599998   29670700.0   \n",
       " 2015-02-11   42.650002   42.209999   42.650002   42.380001   38262500.0   \n",
       " 2015-02-12   43.090000   42.509998   42.660000   43.090000   33268800.0   \n",
       " 2015-02-13   43.869999   43.150002   43.380001   43.869999   40264900.0   \n",
       " 2015-02-17   44.000000   43.189999   43.970001   43.580002   33695700.0   \n",
       " 2015-02-18   43.700001   43.389999   43.630001   43.529999   27111700.0   \n",
       " 2015-02-19   43.529999   43.049999   43.180000   43.500000   27603400.0   \n",
       " 2015-02-20   43.880001   43.290001   43.509998   43.860001   29721100.0   \n",
       " ...                ...         ...         ...         ...          ...   \n",
       " 2019-11-22  150.300003  148.820007  150.070007  149.589996   15901800.0   \n",
       " 2019-11-25  151.350006  149.919998  150.000000  151.229996   22420900.0   \n",
       " 2019-11-26  152.419998  151.320007  151.360001  152.029999   24620100.0   \n",
       " 2019-11-27  152.500000  151.520004  152.330002  152.320007   15184400.0   \n",
       " 2019-11-29  152.300003  151.279999  152.100006  151.380005   11977300.0   \n",
       " 2019-12-02  151.830002  148.320007  151.809998  149.550003   27418400.0   \n",
       " 2019-12-03  149.429993  146.649994  147.490005  149.309998   24066000.0   \n",
       " 2019-12-04  150.179993  149.199997  150.139999  149.850006   17574700.0   \n",
       " 2019-12-05  150.320007  149.479996  150.050003  149.929993   17869100.0   \n",
       " 2019-12-06  151.869995  150.270004  150.990005  151.750000   16403500.0   \n",
       " 2019-12-09  152.210007  150.910004  151.070007  151.360001   16687400.0   \n",
       " 2019-12-10  151.889999  150.759995  151.289993  151.130005   16476100.0   \n",
       " 2019-12-11  151.869995  150.330002  151.539993  151.699997   18856600.0   \n",
       " 2019-12-12  153.440002  151.020004  151.649994  153.240005   24612100.0   \n",
       " 2019-12-13  154.889999  152.830002  153.000000  154.529999   23845400.0   \n",
       " 2019-12-16  155.899994  154.820007  155.110001  155.529999   24144200.0   \n",
       " 2019-12-17  155.710007  154.449997  155.449997  154.690002   25425600.0   \n",
       " 2019-12-18  155.479996  154.179993  154.300003  154.369995   24129200.0   \n",
       " 2019-12-19  155.770004  153.750000  154.000000  155.710007   24958900.0   \n",
       " 2019-12-20  158.490005  156.289993  157.350006  157.410004   53477500.0   \n",
       " 2019-12-23  158.119995  157.270004  158.119995  157.410004   17718200.0   \n",
       " 2019-12-24  157.710007  157.119995  157.479996  157.380005    8989200.0   \n",
       " 2019-12-26  158.729996  157.399994  157.559998  158.669998   14520600.0   \n",
       " 2019-12-27  159.550003  158.220001  159.449997  158.960007   18412800.0   \n",
       " 2019-12-30  159.020004  156.729996  158.990005  157.589996   16348400.0   \n",
       " 2019-12-31  157.770004  156.449997  156.770004  157.699997   18369400.0   \n",
       " 2020-01-02  160.729996  158.330002  158.779999  160.619995   22622100.0   \n",
       " 2020-01-03  159.949997  158.059998  158.320007  158.619995   21116200.0   \n",
       " 2020-01-06  159.100006  156.509995  157.080002  159.029999   20813700.0   \n",
       " 2020-01-07  159.669998  157.320007  159.320007  157.580002   21634100.0   \n",
       " \n",
       "              Adj Close  \n",
       " Date                    \n",
       " 2015-01-08   42.724323  \n",
       " 2015-01-09   42.365219  \n",
       " 2015-01-12   41.835537  \n",
       " 2015-01-13   41.620083  \n",
       " 2015-01-14   41.260979  \n",
       " 2015-01-15   40.830055  \n",
       " 2015-01-16   41.512352  \n",
       " 2015-01-20   41.647015  \n",
       " 2015-01-21   41.225071  \n",
       " 2015-01-22   42.311356  \n",
       " 2015-01-23   42.356243  \n",
       " 2015-01-26   42.203625  \n",
       " 2015-01-27   38.298370  \n",
       " 2015-01-28   36.978668  \n",
       " 2015-01-29   37.714828  \n",
       " 2015-01-30   36.269444  \n",
       " 2015-02-02   37.059467  \n",
       " 2015-02-03   37.346756  \n",
       " 2015-02-04   37.562218  \n",
       " 2015-02-05   38.109848  \n",
       " 2015-02-06   38.073933  \n",
       " 2015-02-09   38.029053  \n",
       " 2015-02-10   38.244511  \n",
       " 2015-02-11   38.047009  \n",
       " 2015-02-12   38.684406  \n",
       " 2015-02-13   39.384666  \n",
       " 2015-02-17   39.402744  \n",
       " 2015-02-18   39.357540  \n",
       " 2015-02-19   39.330410  \n",
       " 2015-02-20   39.655910  \n",
       " ...                ...  \n",
       " 2019-11-22  149.589996  \n",
       " 2019-11-25  151.229996  \n",
       " 2019-11-26  152.029999  \n",
       " 2019-11-27  152.320007  \n",
       " 2019-11-29  151.380005  \n",
       " 2019-12-02  149.550003  \n",
       " 2019-12-03  149.309998  \n",
       " 2019-12-04  149.850006  \n",
       " 2019-12-05  149.929993  \n",
       " 2019-12-06  151.750000  \n",
       " 2019-12-09  151.360001  \n",
       " 2019-12-10  151.130005  \n",
       " 2019-12-11  151.699997  \n",
       " 2019-12-12  153.240005  \n",
       " 2019-12-13  154.529999  \n",
       " 2019-12-16  155.529999  \n",
       " 2019-12-17  154.690002  \n",
       " 2019-12-18  154.369995  \n",
       " 2019-12-19  155.710007  \n",
       " 2019-12-20  157.410004  \n",
       " 2019-12-23  157.410004  \n",
       " 2019-12-24  157.380005  \n",
       " 2019-12-26  158.669998  \n",
       " 2019-12-27  158.960007  \n",
       " 2019-12-30  157.589996  \n",
       " 2019-12-31  157.699997  \n",
       " 2020-01-02  160.619995  \n",
       " 2020-01-03  158.619995  \n",
       " 2020-01-06  159.029999  \n",
       " 2020-01-07  157.580002  \n",
       " \n",
       " [1258 rows x 6 columns],\n",
       " 'GOOG':                    High          Low         Open        Close     Volume  \\\n",
       " Date                                                                        \n",
       " 2015-01-08   502.101471   489.655640   496.626526   501.303680  3353500.0   \n",
       " 2015-01-09   503.537537   493.435272   503.377991   494.811493  2071300.0   \n",
       " 2015-01-12   494.618011   486.225067   493.584869   491.201416  2326700.0   \n",
       " 2015-01-13   501.602844   491.041840   497.474182   494.821472  2370400.0   \n",
       " 2015-01-14   501.852173   491.650177   493.295654   499.498627  2235700.0   \n",
       " 2015-01-15   504.295471   496.397156   504.185760   500.416107  2715800.0   \n",
       " 2015-01-16   506.798584   498.631012   498.640991   506.688873  2298200.0   \n",
       " 2015-01-20   511.096771   504.630524   509.600891   505.512115  2232000.0   \n",
       " 2015-01-21   517.858215   504.814026   505.861145   516.621643  2268700.0   \n",
       " 2015-01-22   534.861511   518.277100   520.052185   532.926819  2676900.0   \n",
       " 2015-01-23   540.685547   531.540649   534.123535   538.471619  2281700.0   \n",
       " 2015-01-26   537.524231   528.219788   537.055542   533.744629  1543700.0   \n",
       " 2015-01-27   529.246948   516.771179   528.518921   517.210022  1904000.0   \n",
       " 2015-01-28   521.558044   508.603638   521.348633   508.603638  1683800.0   \n",
       " 2015-01-29   509.690643   499.827728   509.600891   509.261810  4186300.0   \n",
       " 2015-01-30   538.391846   514.108521   514.447571   533.056519  5606300.0   \n",
       " 2015-02-02   531.540649   517.130249   530.274109   527.033020  2849800.0   \n",
       " 2015-02-03   531.939575   521.827332   526.554321   527.790955  2038600.0   \n",
       " 2015-02-04   531.213562   519.842773   527.790955   521.328674  1663600.0   \n",
       " 2015-02-05   527.052979   520.660522   522.355896   526.135498  1849700.0   \n",
       " 2015-02-06   535.729126   524.968689   526.195312   529.546143  1763500.0   \n",
       " 2015-02-09   530.543396   524.579773   526.554321   526.384827  1267700.0   \n",
       " 2015-02-10   536.227783   525.477295   527.850769   535.469849  1749800.0   \n",
       " 2015-02-11   536.975708   531.917603   533.834351   534.502502  1377700.0   \n",
       " 2015-02-12   543.328308   533.209045   535.778992   541.443481  1620200.0   \n",
       " 2015-02-13   548.404358   541.642944   541.862305   547.506836  1900300.0   \n",
       " 2015-02-17   548.494080   539.608521   545.332764   541.353699  1616800.0   \n",
       " 2015-02-18   543.996460   536.038330   539.917664   538.222290  1453000.0   \n",
       " 2015-02-19   541.622986   536.536926   536.566833   541.383606   989100.0   \n",
       " 2015-02-20   542.261230   534.333008   541.642944   537.474365  1444300.0   \n",
       " ...                 ...          ...          ...          ...        ...   \n",
       " 2019-11-22  1308.729980  1291.410034  1305.619995  1295.339966  1385700.0   \n",
       " 2019-11-25  1311.310059  1298.130005  1299.180054  1306.689941  1036200.0   \n",
       " 2019-11-26  1314.800049  1305.089966  1309.859985  1313.550049  1069700.0   \n",
       " 2019-11-27  1318.359985  1309.630005  1315.000000  1312.989990   995600.0   \n",
       " 2019-11-29  1310.204956  1303.969971  1307.119995  1304.959961   587000.0   \n",
       " 2019-12-02  1305.829956  1281.000000  1301.000000  1289.920044  1510900.0   \n",
       " 2019-12-03  1298.461060  1279.000000  1279.569946  1295.280029  1143800.0   \n",
       " 2019-12-04  1325.800049  1304.869995  1307.010010  1320.540039  1537500.0   \n",
       " 2019-12-05  1329.358032  1316.439941  1328.000000  1328.130005  1212700.0   \n",
       " 2019-12-06  1344.000000  1333.439941  1333.439941  1340.619995  1314800.0   \n",
       " 2019-12-09  1359.449951  1337.839966  1338.040039  1343.560059  1354300.0   \n",
       " 2019-12-10  1349.974976  1336.040039  1341.500000  1344.660034  1094100.0   \n",
       " 2019-12-11  1351.199951  1342.670044  1350.839966  1345.020020   850400.0   \n",
       " 2019-12-12  1355.775024  1340.500000  1345.939941  1350.270020  1281000.0   \n",
       " 2019-12-13  1353.093018  1343.869995  1347.949951  1347.829956  1549600.0   \n",
       " 2019-12-16  1364.680054  1352.670044  1356.500000  1361.170044  1397300.0   \n",
       " 2019-12-17  1365.000000  1351.322998  1362.890015  1355.119995  1854000.0   \n",
       " 2019-12-18  1360.469971  1351.000000  1356.599976  1352.619995  1522600.0   \n",
       " 2019-12-19  1358.099976  1348.984985  1351.819946  1356.040039  1469900.0   \n",
       " 2019-12-20  1363.640015  1349.000000  1363.349976  1349.589966  3315000.0   \n",
       " 2019-12-23  1359.800049  1346.510010  1355.869995  1348.839966   883100.0   \n",
       " 2019-12-24  1350.260010  1342.780029  1348.500000  1343.560059   347500.0   \n",
       " 2019-12-26  1361.327026  1344.469971  1346.170044  1360.400024   667500.0   \n",
       " 2019-12-27  1364.530029  1349.310059  1362.989990  1351.890015  1038400.0   \n",
       " 2019-12-30  1353.000000  1334.020020  1350.000000  1336.140015  1050900.0   \n",
       " 2019-12-31  1338.000000  1329.084961  1330.109985  1337.020020   961800.0   \n",
       " 2020-01-02  1368.140015  1341.550049  1341.550049  1367.369995  1406600.0   \n",
       " 2020-01-03  1372.500000  1345.543945  1347.859985  1360.660034  1186400.0   \n",
       " 2020-01-06  1396.500000  1350.000000  1350.000000  1394.209961  1732300.0   \n",
       " 2020-01-07  1402.989990  1390.380005  1397.939941  1393.339966  1502700.0   \n",
       " \n",
       "               Adj Close  \n",
       " Date                     \n",
       " 2015-01-08   501.303680  \n",
       " 2015-01-09   494.811493  \n",
       " 2015-01-12   491.201416  \n",
       " 2015-01-13   494.821472  \n",
       " 2015-01-14   499.498627  \n",
       " 2015-01-15   500.416107  \n",
       " 2015-01-16   506.688873  \n",
       " 2015-01-20   505.512115  \n",
       " 2015-01-21   516.621643  \n",
       " 2015-01-22   532.926819  \n",
       " 2015-01-23   538.471619  \n",
       " 2015-01-26   533.744629  \n",
       " 2015-01-27   517.210022  \n",
       " 2015-01-28   508.603638  \n",
       " 2015-01-29   509.261810  \n",
       " 2015-01-30   533.056519  \n",
       " 2015-02-02   527.033020  \n",
       " 2015-02-03   527.790955  \n",
       " 2015-02-04   521.328674  \n",
       " 2015-02-05   526.135498  \n",
       " 2015-02-06   529.546143  \n",
       " 2015-02-09   526.384827  \n",
       " 2015-02-10   535.469849  \n",
       " 2015-02-11   534.502502  \n",
       " 2015-02-12   541.443481  \n",
       " 2015-02-13   547.506836  \n",
       " 2015-02-17   541.353699  \n",
       " 2015-02-18   538.222290  \n",
       " 2015-02-19   541.383606  \n",
       " 2015-02-20   537.474365  \n",
       " ...                 ...  \n",
       " 2019-11-22  1295.339966  \n",
       " 2019-11-25  1306.689941  \n",
       " 2019-11-26  1313.550049  \n",
       " 2019-11-27  1312.989990  \n",
       " 2019-11-29  1304.959961  \n",
       " 2019-12-02  1289.920044  \n",
       " 2019-12-03  1295.280029  \n",
       " 2019-12-04  1320.540039  \n",
       " 2019-12-05  1328.130005  \n",
       " 2019-12-06  1340.619995  \n",
       " 2019-12-09  1343.560059  \n",
       " 2019-12-10  1344.660034  \n",
       " 2019-12-11  1345.020020  \n",
       " 2019-12-12  1350.270020  \n",
       " 2019-12-13  1347.829956  \n",
       " 2019-12-16  1361.170044  \n",
       " 2019-12-17  1355.119995  \n",
       " 2019-12-18  1352.619995  \n",
       " 2019-12-19  1356.040039  \n",
       " 2019-12-20  1349.589966  \n",
       " 2019-12-23  1348.839966  \n",
       " 2019-12-24  1343.560059  \n",
       " 2019-12-26  1360.400024  \n",
       " 2019-12-27  1351.890015  \n",
       " 2019-12-30  1336.140015  \n",
       " 2019-12-31  1337.020020  \n",
       " 2020-01-02  1367.369995  \n",
       " 2020-01-03  1360.660034  \n",
       " 2020-01-06  1394.209961  \n",
       " 2020-01-07  1393.339966  \n",
       " \n",
       " [1258 rows x 6 columns]}"
      ]
     },
     "execution_count": 219,
     "metadata": {},
     "output_type": "execute_result"
    }
   ],
   "source": [
    "all_data"
   ]
  },
  {
   "cell_type": "code",
   "execution_count": 220,
   "metadata": {},
   "outputs": [
    {
     "data": {
      "text/html": [
       "<div>\n",
       "<style scoped>\n",
       "    .dataframe tbody tr th:only-of-type {\n",
       "        vertical-align: middle;\n",
       "    }\n",
       "\n",
       "    .dataframe tbody tr th {\n",
       "        vertical-align: top;\n",
       "    }\n",
       "\n",
       "    .dataframe thead th {\n",
       "        text-align: right;\n",
       "    }\n",
       "</style>\n",
       "<table border=\"1\" class=\"dataframe\">\n",
       "  <thead>\n",
       "    <tr style=\"text-align: right;\">\n",
       "      <th></th>\n",
       "      <th>AAPL</th>\n",
       "      <th>IBM</th>\n",
       "      <th>MSFT</th>\n",
       "      <th>GOOG</th>\n",
       "    </tr>\n",
       "    <tr>\n",
       "      <th>Date</th>\n",
       "      <th></th>\n",
       "      <th></th>\n",
       "      <th></th>\n",
       "      <th></th>\n",
       "    </tr>\n",
       "  </thead>\n",
       "  <tbody>\n",
       "    <tr>\n",
       "      <th>2015-01-08</th>\n",
       "      <td>102.806480</td>\n",
       "      <td>127.657913</td>\n",
       "      <td>42.724323</td>\n",
       "      <td>501.303680</td>\n",
       "    </tr>\n",
       "    <tr>\n",
       "      <th>2015-01-09</th>\n",
       "      <td>102.916725</td>\n",
       "      <td>128.213913</td>\n",
       "      <td>42.365219</td>\n",
       "      <td>494.811493</td>\n",
       "    </tr>\n",
       "    <tr>\n",
       "      <th>2015-01-12</th>\n",
       "      <td>100.380791</td>\n",
       "      <td>126.062386</td>\n",
       "      <td>41.835537</td>\n",
       "      <td>491.201416</td>\n",
       "    </tr>\n",
       "    <tr>\n",
       "      <th>2015-01-13</th>\n",
       "      <td>101.272049</td>\n",
       "      <td>126.360535</td>\n",
       "      <td>41.620083</td>\n",
       "      <td>494.821472</td>\n",
       "    </tr>\n",
       "    <tr>\n",
       "      <th>2015-01-14</th>\n",
       "      <td>100.886154</td>\n",
       "      <td>125.546654</td>\n",
       "      <td>41.260979</td>\n",
       "      <td>499.498627</td>\n",
       "    </tr>\n",
       "    <tr>\n",
       "      <th>2015-01-15</th>\n",
       "      <td>98.148056</td>\n",
       "      <td>124.555489</td>\n",
       "      <td>40.830055</td>\n",
       "      <td>500.416107</td>\n",
       "    </tr>\n",
       "    <tr>\n",
       "      <th>2015-01-16</th>\n",
       "      <td>97.385445</td>\n",
       "      <td>126.626427</td>\n",
       "      <td>41.512352</td>\n",
       "      <td>506.688873</td>\n",
       "    </tr>\n",
       "    <tr>\n",
       "      <th>2015-01-20</th>\n",
       "      <td>99.893822</td>\n",
       "      <td>126.473312</td>\n",
       "      <td>41.647015</td>\n",
       "      <td>505.512115</td>\n",
       "    </tr>\n",
       "    <tr>\n",
       "      <th>2015-01-21</th>\n",
       "      <td>100.656441</td>\n",
       "      <td>122.557053</td>\n",
       "      <td>41.225071</td>\n",
       "      <td>516.621643</td>\n",
       "    </tr>\n",
       "    <tr>\n",
       "      <th>2015-01-22</th>\n",
       "      <td>103.275063</td>\n",
       "      <td>125.216255</td>\n",
       "      <td>42.311356</td>\n",
       "      <td>532.926819</td>\n",
       "    </tr>\n",
       "    <tr>\n",
       "      <th>2015-01-23</th>\n",
       "      <td>103.807991</td>\n",
       "      <td>125.603058</td>\n",
       "      <td>42.356243</td>\n",
       "      <td>538.471619</td>\n",
       "    </tr>\n",
       "    <tr>\n",
       "      <th>2015-01-26</th>\n",
       "      <td>103.918228</td>\n",
       "      <td>125.997902</td>\n",
       "      <td>42.203625</td>\n",
       "      <td>533.744629</td>\n",
       "    </tr>\n",
       "    <tr>\n",
       "      <th>2015-01-27</th>\n",
       "      <td>100.279716</td>\n",
       "      <td>123.830261</td>\n",
       "      <td>38.298370</td>\n",
       "      <td>517.210022</td>\n",
       "    </tr>\n",
       "    <tr>\n",
       "      <th>2015-01-28</th>\n",
       "      <td>105.948822</td>\n",
       "      <td>122.121933</td>\n",
       "      <td>36.978668</td>\n",
       "      <td>508.603638</td>\n",
       "    </tr>\n",
       "    <tr>\n",
       "      <th>2015-01-29</th>\n",
       "      <td>109.247391</td>\n",
       "      <td>125.288780</td>\n",
       "      <td>37.714828</td>\n",
       "      <td>509.261810</td>\n",
       "    </tr>\n",
       "    <tr>\n",
       "      <th>2015-01-30</th>\n",
       "      <td>107.648643</td>\n",
       "      <td>123.540154</td>\n",
       "      <td>36.269444</td>\n",
       "      <td>533.056519</td>\n",
       "    </tr>\n",
       "    <tr>\n",
       "      <th>2015-02-02</th>\n",
       "      <td>108.999298</td>\n",
       "      <td>124.628014</td>\n",
       "      <td>37.059467</td>\n",
       "      <td>527.033020</td>\n",
       "    </tr>\n",
       "    <tr>\n",
       "      <th>2015-02-03</th>\n",
       "      <td>109.017654</td>\n",
       "      <td>127.698143</td>\n",
       "      <td>37.346756</td>\n",
       "      <td>527.790955</td>\n",
       "    </tr>\n",
       "    <tr>\n",
       "      <th>2015-02-04</th>\n",
       "      <td>109.853806</td>\n",
       "      <td>126.481407</td>\n",
       "      <td>37.562218</td>\n",
       "      <td>521.328674</td>\n",
       "    </tr>\n",
       "    <tr>\n",
       "      <th>2015-02-05</th>\n",
       "      <td>110.637886</td>\n",
       "      <td>127.246925</td>\n",
       "      <td>38.109848</td>\n",
       "      <td>526.135498</td>\n",
       "    </tr>\n",
       "    <tr>\n",
       "      <th>2015-02-06</th>\n",
       "      <td>109.706200</td>\n",
       "      <td>127.173882</td>\n",
       "      <td>38.073933</td>\n",
       "      <td>529.546143</td>\n",
       "    </tr>\n",
       "    <tr>\n",
       "      <th>2015-02-09</th>\n",
       "      <td>110.434944</td>\n",
       "      <td>126.386787</td>\n",
       "      <td>38.029053</td>\n",
       "      <td>526.384827</td>\n",
       "    </tr>\n",
       "    <tr>\n",
       "      <th>2015-02-10</th>\n",
       "      <td>112.556557</td>\n",
       "      <td>128.667007</td>\n",
       "      <td>38.244511</td>\n",
       "      <td>535.469849</td>\n",
       "    </tr>\n",
       "    <tr>\n",
       "      <th>2015-02-11</th>\n",
       "      <td>115.194748</td>\n",
       "      <td>128.374893</td>\n",
       "      <td>38.047009</td>\n",
       "      <td>534.502502</td>\n",
       "    </tr>\n",
       "    <tr>\n",
       "      <th>2015-02-12</th>\n",
       "      <td>116.652199</td>\n",
       "      <td>128.634552</td>\n",
       "      <td>38.684406</td>\n",
       "      <td>541.443481</td>\n",
       "    </tr>\n",
       "    <tr>\n",
       "      <th>2015-02-13</th>\n",
       "      <td>117.224121</td>\n",
       "      <td>130.160095</td>\n",
       "      <td>39.384666</td>\n",
       "      <td>547.506836</td>\n",
       "    </tr>\n",
       "    <tr>\n",
       "      <th>2015-02-17</th>\n",
       "      <td>117.915962</td>\n",
       "      <td>130.614532</td>\n",
       "      <td>39.402744</td>\n",
       "      <td>541.353699</td>\n",
       "    </tr>\n",
       "    <tr>\n",
       "      <th>2015-02-18</th>\n",
       "      <td>118.736946</td>\n",
       "      <td>131.612671</td>\n",
       "      <td>39.357540</td>\n",
       "      <td>538.222290</td>\n",
       "    </tr>\n",
       "    <tr>\n",
       "      <th>2015-02-19</th>\n",
       "      <td>118.487869</td>\n",
       "      <td>132.992111</td>\n",
       "      <td>39.330410</td>\n",
       "      <td>541.383606</td>\n",
       "    </tr>\n",
       "    <tr>\n",
       "      <th>2015-02-20</th>\n",
       "      <td>119.456444</td>\n",
       "      <td>132.797379</td>\n",
       "      <td>39.655910</td>\n",
       "      <td>537.474365</td>\n",
       "    </tr>\n",
       "    <tr>\n",
       "      <th>...</th>\n",
       "      <td>...</td>\n",
       "      <td>...</td>\n",
       "      <td>...</td>\n",
       "      <td>...</td>\n",
       "    </tr>\n",
       "    <tr>\n",
       "      <th>2019-11-22</th>\n",
       "      <td>261.779999</td>\n",
       "      <td>134.339996</td>\n",
       "      <td>149.589996</td>\n",
       "      <td>1295.339966</td>\n",
       "    </tr>\n",
       "    <tr>\n",
       "      <th>2019-11-25</th>\n",
       "      <td>266.369995</td>\n",
       "      <td>135.970001</td>\n",
       "      <td>151.229996</td>\n",
       "      <td>1306.689941</td>\n",
       "    </tr>\n",
       "    <tr>\n",
       "      <th>2019-11-26</th>\n",
       "      <td>264.290009</td>\n",
       "      <td>135.089996</td>\n",
       "      <td>152.029999</td>\n",
       "      <td>1313.550049</td>\n",
       "    </tr>\n",
       "    <tr>\n",
       "      <th>2019-11-27</th>\n",
       "      <td>267.839996</td>\n",
       "      <td>133.770004</td>\n",
       "      <td>152.320007</td>\n",
       "      <td>1312.989990</td>\n",
       "    </tr>\n",
       "    <tr>\n",
       "      <th>2019-11-29</th>\n",
       "      <td>267.250000</td>\n",
       "      <td>134.449997</td>\n",
       "      <td>151.380005</td>\n",
       "      <td>1304.959961</td>\n",
       "    </tr>\n",
       "    <tr>\n",
       "      <th>2019-12-02</th>\n",
       "      <td>264.160004</td>\n",
       "      <td>132.910004</td>\n",
       "      <td>149.550003</td>\n",
       "      <td>1289.920044</td>\n",
       "    </tr>\n",
       "    <tr>\n",
       "      <th>2019-12-03</th>\n",
       "      <td>259.450012</td>\n",
       "      <td>132.119995</td>\n",
       "      <td>149.309998</td>\n",
       "      <td>1295.280029</td>\n",
       "    </tr>\n",
       "    <tr>\n",
       "      <th>2019-12-04</th>\n",
       "      <td>261.739990</td>\n",
       "      <td>131.990005</td>\n",
       "      <td>149.850006</td>\n",
       "      <td>1320.540039</td>\n",
       "    </tr>\n",
       "    <tr>\n",
       "      <th>2019-12-05</th>\n",
       "      <td>265.579987</td>\n",
       "      <td>131.910004</td>\n",
       "      <td>149.929993</td>\n",
       "      <td>1328.130005</td>\n",
       "    </tr>\n",
       "    <tr>\n",
       "      <th>2019-12-06</th>\n",
       "      <td>270.709991</td>\n",
       "      <td>133.220001</td>\n",
       "      <td>151.750000</td>\n",
       "      <td>1340.619995</td>\n",
       "    </tr>\n",
       "    <tr>\n",
       "      <th>2019-12-09</th>\n",
       "      <td>266.920013</td>\n",
       "      <td>133.919998</td>\n",
       "      <td>151.360001</td>\n",
       "      <td>1343.560059</td>\n",
       "    </tr>\n",
       "    <tr>\n",
       "      <th>2019-12-10</th>\n",
       "      <td>268.480011</td>\n",
       "      <td>133.910004</td>\n",
       "      <td>151.130005</td>\n",
       "      <td>1344.660034</td>\n",
       "    </tr>\n",
       "    <tr>\n",
       "      <th>2019-12-11</th>\n",
       "      <td>270.769989</td>\n",
       "      <td>133.759995</td>\n",
       "      <td>151.699997</td>\n",
       "      <td>1345.020020</td>\n",
       "    </tr>\n",
       "    <tr>\n",
       "      <th>2019-12-12</th>\n",
       "      <td>271.459991</td>\n",
       "      <td>135.320007</td>\n",
       "      <td>153.240005</td>\n",
       "      <td>1350.270020</td>\n",
       "    </tr>\n",
       "    <tr>\n",
       "      <th>2019-12-13</th>\n",
       "      <td>275.149994</td>\n",
       "      <td>134.210007</td>\n",
       "      <td>154.529999</td>\n",
       "      <td>1347.829956</td>\n",
       "    </tr>\n",
       "    <tr>\n",
       "      <th>2019-12-16</th>\n",
       "      <td>279.859985</td>\n",
       "      <td>134.130005</td>\n",
       "      <td>155.529999</td>\n",
       "      <td>1361.170044</td>\n",
       "    </tr>\n",
       "    <tr>\n",
       "      <th>2019-12-17</th>\n",
       "      <td>280.410004</td>\n",
       "      <td>134.220001</td>\n",
       "      <td>154.690002</td>\n",
       "      <td>1355.119995</td>\n",
       "    </tr>\n",
       "    <tr>\n",
       "      <th>2019-12-18</th>\n",
       "      <td>279.739990</td>\n",
       "      <td>134.410004</td>\n",
       "      <td>154.369995</td>\n",
       "      <td>1352.619995</td>\n",
       "    </tr>\n",
       "    <tr>\n",
       "      <th>2019-12-19</th>\n",
       "      <td>280.019989</td>\n",
       "      <td>134.559998</td>\n",
       "      <td>155.710007</td>\n",
       "      <td>1356.040039</td>\n",
       "    </tr>\n",
       "    <tr>\n",
       "      <th>2019-12-20</th>\n",
       "      <td>279.440002</td>\n",
       "      <td>135.589996</td>\n",
       "      <td>157.410004</td>\n",
       "      <td>1349.589966</td>\n",
       "    </tr>\n",
       "    <tr>\n",
       "      <th>2019-12-23</th>\n",
       "      <td>284.000000</td>\n",
       "      <td>135.550003</td>\n",
       "      <td>157.410004</td>\n",
       "      <td>1348.839966</td>\n",
       "    </tr>\n",
       "    <tr>\n",
       "      <th>2019-12-24</th>\n",
       "      <td>284.269989</td>\n",
       "      <td>134.979996</td>\n",
       "      <td>157.380005</td>\n",
       "      <td>1343.560059</td>\n",
       "    </tr>\n",
       "    <tr>\n",
       "      <th>2019-12-26</th>\n",
       "      <td>289.910004</td>\n",
       "      <td>134.910004</td>\n",
       "      <td>158.669998</td>\n",
       "      <td>1360.400024</td>\n",
       "    </tr>\n",
       "    <tr>\n",
       "      <th>2019-12-27</th>\n",
       "      <td>289.799988</td>\n",
       "      <td>135.270004</td>\n",
       "      <td>158.960007</td>\n",
       "      <td>1351.890015</td>\n",
       "    </tr>\n",
       "    <tr>\n",
       "      <th>2019-12-30</th>\n",
       "      <td>291.519989</td>\n",
       "      <td>132.809998</td>\n",
       "      <td>157.589996</td>\n",
       "      <td>1336.140015</td>\n",
       "    </tr>\n",
       "    <tr>\n",
       "      <th>2019-12-31</th>\n",
       "      <td>293.649994</td>\n",
       "      <td>134.039993</td>\n",
       "      <td>157.699997</td>\n",
       "      <td>1337.020020</td>\n",
       "    </tr>\n",
       "    <tr>\n",
       "      <th>2020-01-02</th>\n",
       "      <td>300.350006</td>\n",
       "      <td>135.419998</td>\n",
       "      <td>160.619995</td>\n",
       "      <td>1367.369995</td>\n",
       "    </tr>\n",
       "    <tr>\n",
       "      <th>2020-01-03</th>\n",
       "      <td>297.429993</td>\n",
       "      <td>134.339996</td>\n",
       "      <td>158.619995</td>\n",
       "      <td>1360.660034</td>\n",
       "    </tr>\n",
       "    <tr>\n",
       "      <th>2020-01-06</th>\n",
       "      <td>299.799988</td>\n",
       "      <td>134.100006</td>\n",
       "      <td>159.029999</td>\n",
       "      <td>1394.209961</td>\n",
       "    </tr>\n",
       "    <tr>\n",
       "      <th>2020-01-07</th>\n",
       "      <td>298.390015</td>\n",
       "      <td>134.190002</td>\n",
       "      <td>157.580002</td>\n",
       "      <td>1393.339966</td>\n",
       "    </tr>\n",
       "  </tbody>\n",
       "</table>\n",
       "<p>1258 rows × 4 columns</p>\n",
       "</div>"
      ],
      "text/plain": [
       "                  AAPL         IBM        MSFT         GOOG\n",
       "Date                                                       \n",
       "2015-01-08  102.806480  127.657913   42.724323   501.303680\n",
       "2015-01-09  102.916725  128.213913   42.365219   494.811493\n",
       "2015-01-12  100.380791  126.062386   41.835537   491.201416\n",
       "2015-01-13  101.272049  126.360535   41.620083   494.821472\n",
       "2015-01-14  100.886154  125.546654   41.260979   499.498627\n",
       "2015-01-15   98.148056  124.555489   40.830055   500.416107\n",
       "2015-01-16   97.385445  126.626427   41.512352   506.688873\n",
       "2015-01-20   99.893822  126.473312   41.647015   505.512115\n",
       "2015-01-21  100.656441  122.557053   41.225071   516.621643\n",
       "2015-01-22  103.275063  125.216255   42.311356   532.926819\n",
       "2015-01-23  103.807991  125.603058   42.356243   538.471619\n",
       "2015-01-26  103.918228  125.997902   42.203625   533.744629\n",
       "2015-01-27  100.279716  123.830261   38.298370   517.210022\n",
       "2015-01-28  105.948822  122.121933   36.978668   508.603638\n",
       "2015-01-29  109.247391  125.288780   37.714828   509.261810\n",
       "2015-01-30  107.648643  123.540154   36.269444   533.056519\n",
       "2015-02-02  108.999298  124.628014   37.059467   527.033020\n",
       "2015-02-03  109.017654  127.698143   37.346756   527.790955\n",
       "2015-02-04  109.853806  126.481407   37.562218   521.328674\n",
       "2015-02-05  110.637886  127.246925   38.109848   526.135498\n",
       "2015-02-06  109.706200  127.173882   38.073933   529.546143\n",
       "2015-02-09  110.434944  126.386787   38.029053   526.384827\n",
       "2015-02-10  112.556557  128.667007   38.244511   535.469849\n",
       "2015-02-11  115.194748  128.374893   38.047009   534.502502\n",
       "2015-02-12  116.652199  128.634552   38.684406   541.443481\n",
       "2015-02-13  117.224121  130.160095   39.384666   547.506836\n",
       "2015-02-17  117.915962  130.614532   39.402744   541.353699\n",
       "2015-02-18  118.736946  131.612671   39.357540   538.222290\n",
       "2015-02-19  118.487869  132.992111   39.330410   541.383606\n",
       "2015-02-20  119.456444  132.797379   39.655910   537.474365\n",
       "...                ...         ...         ...          ...\n",
       "2019-11-22  261.779999  134.339996  149.589996  1295.339966\n",
       "2019-11-25  266.369995  135.970001  151.229996  1306.689941\n",
       "2019-11-26  264.290009  135.089996  152.029999  1313.550049\n",
       "2019-11-27  267.839996  133.770004  152.320007  1312.989990\n",
       "2019-11-29  267.250000  134.449997  151.380005  1304.959961\n",
       "2019-12-02  264.160004  132.910004  149.550003  1289.920044\n",
       "2019-12-03  259.450012  132.119995  149.309998  1295.280029\n",
       "2019-12-04  261.739990  131.990005  149.850006  1320.540039\n",
       "2019-12-05  265.579987  131.910004  149.929993  1328.130005\n",
       "2019-12-06  270.709991  133.220001  151.750000  1340.619995\n",
       "2019-12-09  266.920013  133.919998  151.360001  1343.560059\n",
       "2019-12-10  268.480011  133.910004  151.130005  1344.660034\n",
       "2019-12-11  270.769989  133.759995  151.699997  1345.020020\n",
       "2019-12-12  271.459991  135.320007  153.240005  1350.270020\n",
       "2019-12-13  275.149994  134.210007  154.529999  1347.829956\n",
       "2019-12-16  279.859985  134.130005  155.529999  1361.170044\n",
       "2019-12-17  280.410004  134.220001  154.690002  1355.119995\n",
       "2019-12-18  279.739990  134.410004  154.369995  1352.619995\n",
       "2019-12-19  280.019989  134.559998  155.710007  1356.040039\n",
       "2019-12-20  279.440002  135.589996  157.410004  1349.589966\n",
       "2019-12-23  284.000000  135.550003  157.410004  1348.839966\n",
       "2019-12-24  284.269989  134.979996  157.380005  1343.560059\n",
       "2019-12-26  289.910004  134.910004  158.669998  1360.400024\n",
       "2019-12-27  289.799988  135.270004  158.960007  1351.890015\n",
       "2019-12-30  291.519989  132.809998  157.589996  1336.140015\n",
       "2019-12-31  293.649994  134.039993  157.699997  1337.020020\n",
       "2020-01-02  300.350006  135.419998  160.619995  1367.369995\n",
       "2020-01-03  297.429993  134.339996  158.619995  1360.660034\n",
       "2020-01-06  299.799988  134.100006  159.029999  1394.209961\n",
       "2020-01-07  298.390015  134.190002  157.580002  1393.339966\n",
       "\n",
       "[1258 rows x 4 columns]"
      ]
     },
     "execution_count": 220,
     "metadata": {},
     "output_type": "execute_result"
    }
   ],
   "source": [
    "price"
   ]
  },
  {
   "cell_type": "code",
   "execution_count": 221,
   "metadata": {},
   "outputs": [
    {
     "data": {
      "text/html": [
       "<div>\n",
       "<style scoped>\n",
       "    .dataframe tbody tr th:only-of-type {\n",
       "        vertical-align: middle;\n",
       "    }\n",
       "\n",
       "    .dataframe tbody tr th {\n",
       "        vertical-align: top;\n",
       "    }\n",
       "\n",
       "    .dataframe thead th {\n",
       "        text-align: right;\n",
       "    }\n",
       "</style>\n",
       "<table border=\"1\" class=\"dataframe\">\n",
       "  <thead>\n",
       "    <tr style=\"text-align: right;\">\n",
       "      <th></th>\n",
       "      <th>AAPL</th>\n",
       "      <th>IBM</th>\n",
       "      <th>MSFT</th>\n",
       "      <th>GOOG</th>\n",
       "    </tr>\n",
       "    <tr>\n",
       "      <th>Date</th>\n",
       "      <th></th>\n",
       "      <th></th>\n",
       "      <th></th>\n",
       "      <th></th>\n",
       "    </tr>\n",
       "  </thead>\n",
       "  <tbody>\n",
       "    <tr>\n",
       "      <th>2015-01-08</th>\n",
       "      <td>59364500.0</td>\n",
       "      <td>4236800.0</td>\n",
       "      <td>29645200.0</td>\n",
       "      <td>3353500.0</td>\n",
       "    </tr>\n",
       "    <tr>\n",
       "      <th>2015-01-09</th>\n",
       "      <td>53699500.0</td>\n",
       "      <td>4488300.0</td>\n",
       "      <td>23944200.0</td>\n",
       "      <td>2071300.0</td>\n",
       "    </tr>\n",
       "    <tr>\n",
       "      <th>2015-01-12</th>\n",
       "      <td>49650800.0</td>\n",
       "      <td>4187600.0</td>\n",
       "      <td>23651900.0</td>\n",
       "      <td>2326700.0</td>\n",
       "    </tr>\n",
       "    <tr>\n",
       "      <th>2015-01-13</th>\n",
       "      <td>67091900.0</td>\n",
       "      <td>4377500.0</td>\n",
       "      <td>35270600.0</td>\n",
       "      <td>2370400.0</td>\n",
       "    </tr>\n",
       "    <tr>\n",
       "      <th>2015-01-14</th>\n",
       "      <td>48956600.0</td>\n",
       "      <td>4690300.0</td>\n",
       "      <td>29719600.0</td>\n",
       "      <td>2235700.0</td>\n",
       "    </tr>\n",
       "    <tr>\n",
       "      <th>2015-01-15</th>\n",
       "      <td>60014000.0</td>\n",
       "      <td>4248400.0</td>\n",
       "      <td>32750800.0</td>\n",
       "      <td>2715800.0</td>\n",
       "    </tr>\n",
       "    <tr>\n",
       "      <th>2015-01-16</th>\n",
       "      <td>78513300.0</td>\n",
       "      <td>5756000.0</td>\n",
       "      <td>35695300.0</td>\n",
       "      <td>2298200.0</td>\n",
       "    </tr>\n",
       "    <tr>\n",
       "      <th>2015-01-20</th>\n",
       "      <td>49899900.0</td>\n",
       "      <td>8392800.0</td>\n",
       "      <td>36161900.0</td>\n",
       "      <td>2232000.0</td>\n",
       "    </tr>\n",
       "    <tr>\n",
       "      <th>2015-01-21</th>\n",
       "      <td>48575900.0</td>\n",
       "      <td>11897100.0</td>\n",
       "      <td>39081100.0</td>\n",
       "      <td>2268700.0</td>\n",
       "    </tr>\n",
       "    <tr>\n",
       "      <th>2015-01-22</th>\n",
       "      <td>53796400.0</td>\n",
       "      <td>6120100.0</td>\n",
       "      <td>35898000.0</td>\n",
       "      <td>2676900.0</td>\n",
       "    </tr>\n",
       "    <tr>\n",
       "      <th>2015-01-23</th>\n",
       "      <td>46464800.0</td>\n",
       "      <td>4834800.0</td>\n",
       "      <td>26211600.0</td>\n",
       "      <td>2281700.0</td>\n",
       "    </tr>\n",
       "    <tr>\n",
       "      <th>2015-01-26</th>\n",
       "      <td>55615000.0</td>\n",
       "      <td>7888100.0</td>\n",
       "      <td>42525500.0</td>\n",
       "      <td>1543700.0</td>\n",
       "    </tr>\n",
       "    <tr>\n",
       "      <th>2015-01-27</th>\n",
       "      <td>95568700.0</td>\n",
       "      <td>5659600.0</td>\n",
       "      <td>169164000.0</td>\n",
       "      <td>1904000.0</td>\n",
       "    </tr>\n",
       "    <tr>\n",
       "      <th>2015-01-28</th>\n",
       "      <td>146477100.0</td>\n",
       "      <td>4495900.0</td>\n",
       "      <td>84507100.0</td>\n",
       "      <td>1683800.0</td>\n",
       "    </tr>\n",
       "    <tr>\n",
       "      <th>2015-01-29</th>\n",
       "      <td>84436400.0</td>\n",
       "      <td>8320800.0</td>\n",
       "      <td>63585300.0</td>\n",
       "      <td>4186300.0</td>\n",
       "    </tr>\n",
       "    <tr>\n",
       "      <th>2015-01-30</th>\n",
       "      <td>83745500.0</td>\n",
       "      <td>6563600.0</td>\n",
       "      <td>78004900.0</td>\n",
       "      <td>5606300.0</td>\n",
       "    </tr>\n",
       "    <tr>\n",
       "      <th>2015-02-02</th>\n",
       "      <td>62739100.0</td>\n",
       "      <td>4712200.0</td>\n",
       "      <td>50352500.0</td>\n",
       "      <td>2849800.0</td>\n",
       "    </tr>\n",
       "    <tr>\n",
       "      <th>2015-02-03</th>\n",
       "      <td>51915700.0</td>\n",
       "      <td>5539400.0</td>\n",
       "      <td>52082400.0</td>\n",
       "      <td>2038600.0</td>\n",
       "    </tr>\n",
       "    <tr>\n",
       "      <th>2015-02-04</th>\n",
       "      <td>70149700.0</td>\n",
       "      <td>3678500.0</td>\n",
       "      <td>41614800.0</td>\n",
       "      <td>1663600.0</td>\n",
       "    </tr>\n",
       "    <tr>\n",
       "      <th>2015-02-05</th>\n",
       "      <td>42246200.0</td>\n",
       "      <td>5253600.0</td>\n",
       "      <td>36548200.0</td>\n",
       "      <td>1849700.0</td>\n",
       "    </tr>\n",
       "    <tr>\n",
       "      <th>2015-02-06</th>\n",
       "      <td>43706600.0</td>\n",
       "      <td>3256500.0</td>\n",
       "      <td>34616600.0</td>\n",
       "      <td>1763500.0</td>\n",
       "    </tr>\n",
       "    <tr>\n",
       "      <th>2015-02-09</th>\n",
       "      <td>38889800.0</td>\n",
       "      <td>3057700.0</td>\n",
       "      <td>31381100.0</td>\n",
       "      <td>1267700.0</td>\n",
       "    </tr>\n",
       "    <tr>\n",
       "      <th>2015-02-10</th>\n",
       "      <td>62008500.0</td>\n",
       "      <td>4440600.0</td>\n",
       "      <td>29670700.0</td>\n",
       "      <td>1749800.0</td>\n",
       "    </tr>\n",
       "    <tr>\n",
       "      <th>2015-02-11</th>\n",
       "      <td>73561800.0</td>\n",
       "      <td>3626700.0</td>\n",
       "      <td>38262500.0</td>\n",
       "      <td>1377700.0</td>\n",
       "    </tr>\n",
       "    <tr>\n",
       "      <th>2015-02-12</th>\n",
       "      <td>74474500.0</td>\n",
       "      <td>3333100.0</td>\n",
       "      <td>33268800.0</td>\n",
       "      <td>1620200.0</td>\n",
       "    </tr>\n",
       "    <tr>\n",
       "      <th>2015-02-13</th>\n",
       "      <td>54272200.0</td>\n",
       "      <td>3706900.0</td>\n",
       "      <td>40264900.0</td>\n",
       "      <td>1900300.0</td>\n",
       "    </tr>\n",
       "    <tr>\n",
       "      <th>2015-02-17</th>\n",
       "      <td>63152400.0</td>\n",
       "      <td>2894500.0</td>\n",
       "      <td>33695700.0</td>\n",
       "      <td>1616800.0</td>\n",
       "    </tr>\n",
       "    <tr>\n",
       "      <th>2015-02-18</th>\n",
       "      <td>44891700.0</td>\n",
       "      <td>4358400.0</td>\n",
       "      <td>27111700.0</td>\n",
       "      <td>1453000.0</td>\n",
       "    </tr>\n",
       "    <tr>\n",
       "      <th>2015-02-19</th>\n",
       "      <td>37362400.0</td>\n",
       "      <td>3504400.0</td>\n",
       "      <td>27603400.0</td>\n",
       "      <td>989100.0</td>\n",
       "    </tr>\n",
       "    <tr>\n",
       "      <th>2015-02-20</th>\n",
       "      <td>48948400.0</td>\n",
       "      <td>3353000.0</td>\n",
       "      <td>29721100.0</td>\n",
       "      <td>1444300.0</td>\n",
       "    </tr>\n",
       "    <tr>\n",
       "      <th>...</th>\n",
       "      <td>...</td>\n",
       "      <td>...</td>\n",
       "      <td>...</td>\n",
       "      <td>...</td>\n",
       "    </tr>\n",
       "    <tr>\n",
       "      <th>2019-11-22</th>\n",
       "      <td>16331300.0</td>\n",
       "      <td>3297500.0</td>\n",
       "      <td>15901800.0</td>\n",
       "      <td>1385700.0</td>\n",
       "    </tr>\n",
       "    <tr>\n",
       "      <th>2019-11-25</th>\n",
       "      <td>21005100.0</td>\n",
       "      <td>2590100.0</td>\n",
       "      <td>22420900.0</td>\n",
       "      <td>1036200.0</td>\n",
       "    </tr>\n",
       "    <tr>\n",
       "      <th>2019-11-26</th>\n",
       "      <td>26301900.0</td>\n",
       "      <td>3793200.0</td>\n",
       "      <td>24620100.0</td>\n",
       "      <td>1069700.0</td>\n",
       "    </tr>\n",
       "    <tr>\n",
       "      <th>2019-11-27</th>\n",
       "      <td>16308900.0</td>\n",
       "      <td>3280900.0</td>\n",
       "      <td>15184400.0</td>\n",
       "      <td>995600.0</td>\n",
       "    </tr>\n",
       "    <tr>\n",
       "      <th>2019-11-29</th>\n",
       "      <td>11654400.0</td>\n",
       "      <td>1825300.0</td>\n",
       "      <td>11977300.0</td>\n",
       "      <td>587000.0</td>\n",
       "    </tr>\n",
       "    <tr>\n",
       "      <th>2019-12-02</th>\n",
       "      <td>23621800.0</td>\n",
       "      <td>3067100.0</td>\n",
       "      <td>27418400.0</td>\n",
       "      <td>1510900.0</td>\n",
       "    </tr>\n",
       "    <tr>\n",
       "      <th>2019-12-03</th>\n",
       "      <td>28607600.0</td>\n",
       "      <td>3642500.0</td>\n",
       "      <td>24066000.0</td>\n",
       "      <td>1143800.0</td>\n",
       "    </tr>\n",
       "    <tr>\n",
       "      <th>2019-12-04</th>\n",
       "      <td>16795400.0</td>\n",
       "      <td>3530000.0</td>\n",
       "      <td>17574700.0</td>\n",
       "      <td>1537500.0</td>\n",
       "    </tr>\n",
       "    <tr>\n",
       "      <th>2019-12-05</th>\n",
       "      <td>18606100.0</td>\n",
       "      <td>3595400.0</td>\n",
       "      <td>17869100.0</td>\n",
       "      <td>1212700.0</td>\n",
       "    </tr>\n",
       "    <tr>\n",
       "      <th>2019-12-06</th>\n",
       "      <td>26518900.0</td>\n",
       "      <td>3437500.0</td>\n",
       "      <td>16403500.0</td>\n",
       "      <td>1314800.0</td>\n",
       "    </tr>\n",
       "    <tr>\n",
       "      <th>2019-12-09</th>\n",
       "      <td>32010600.0</td>\n",
       "      <td>2968500.0</td>\n",
       "      <td>16687400.0</td>\n",
       "      <td>1354300.0</td>\n",
       "    </tr>\n",
       "    <tr>\n",
       "      <th>2019-12-10</th>\n",
       "      <td>22605100.0</td>\n",
       "      <td>3480400.0</td>\n",
       "      <td>16476100.0</td>\n",
       "      <td>1094100.0</td>\n",
       "    </tr>\n",
       "    <tr>\n",
       "      <th>2019-12-11</th>\n",
       "      <td>19689200.0</td>\n",
       "      <td>3953300.0</td>\n",
       "      <td>18856600.0</td>\n",
       "      <td>850400.0</td>\n",
       "    </tr>\n",
       "    <tr>\n",
       "      <th>2019-12-12</th>\n",
       "      <td>34327600.0</td>\n",
       "      <td>4824100.0</td>\n",
       "      <td>24612100.0</td>\n",
       "      <td>1281000.0</td>\n",
       "    </tr>\n",
       "    <tr>\n",
       "      <th>2019-12-13</th>\n",
       "      <td>33396900.0</td>\n",
       "      <td>2535000.0</td>\n",
       "      <td>23845400.0</td>\n",
       "      <td>1549600.0</td>\n",
       "    </tr>\n",
       "    <tr>\n",
       "      <th>2019-12-16</th>\n",
       "      <td>32046500.0</td>\n",
       "      <td>3049200.0</td>\n",
       "      <td>24144200.0</td>\n",
       "      <td>1397300.0</td>\n",
       "    </tr>\n",
       "    <tr>\n",
       "      <th>2019-12-17</th>\n",
       "      <td>28539600.0</td>\n",
       "      <td>2907200.0</td>\n",
       "      <td>25425600.0</td>\n",
       "      <td>1854000.0</td>\n",
       "    </tr>\n",
       "    <tr>\n",
       "      <th>2019-12-18</th>\n",
       "      <td>29007100.0</td>\n",
       "      <td>3101800.0</td>\n",
       "      <td>24129200.0</td>\n",
       "      <td>1522600.0</td>\n",
       "    </tr>\n",
       "    <tr>\n",
       "      <th>2019-12-19</th>\n",
       "      <td>24592300.0</td>\n",
       "      <td>3866500.0</td>\n",
       "      <td>24958900.0</td>\n",
       "      <td>1469900.0</td>\n",
       "    </tr>\n",
       "    <tr>\n",
       "      <th>2019-12-20</th>\n",
       "      <td>68994500.0</td>\n",
       "      <td>7111800.0</td>\n",
       "      <td>53477500.0</td>\n",
       "      <td>3315000.0</td>\n",
       "    </tr>\n",
       "    <tr>\n",
       "      <th>2019-12-23</th>\n",
       "      <td>24643000.0</td>\n",
       "      <td>2803200.0</td>\n",
       "      <td>17718200.0</td>\n",
       "      <td>883100.0</td>\n",
       "    </tr>\n",
       "    <tr>\n",
       "      <th>2019-12-24</th>\n",
       "      <td>12119700.0</td>\n",
       "      <td>1202100.0</td>\n",
       "      <td>8989200.0</td>\n",
       "      <td>347500.0</td>\n",
       "    </tr>\n",
       "    <tr>\n",
       "      <th>2019-12-26</th>\n",
       "      <td>23280300.0</td>\n",
       "      <td>2129700.0</td>\n",
       "      <td>14520600.0</td>\n",
       "      <td>667500.0</td>\n",
       "    </tr>\n",
       "    <tr>\n",
       "      <th>2019-12-27</th>\n",
       "      <td>36566500.0</td>\n",
       "      <td>2752200.0</td>\n",
       "      <td>18412800.0</td>\n",
       "      <td>1038400.0</td>\n",
       "    </tr>\n",
       "    <tr>\n",
       "      <th>2019-12-30</th>\n",
       "      <td>36028600.0</td>\n",
       "      <td>4118900.0</td>\n",
       "      <td>16348400.0</td>\n",
       "      <td>1050900.0</td>\n",
       "    </tr>\n",
       "    <tr>\n",
       "      <th>2019-12-31</th>\n",
       "      <td>25201400.0</td>\n",
       "      <td>3777500.0</td>\n",
       "      <td>18369400.0</td>\n",
       "      <td>961800.0</td>\n",
       "    </tr>\n",
       "    <tr>\n",
       "      <th>2020-01-02</th>\n",
       "      <td>33870100.0</td>\n",
       "      <td>3148600.0</td>\n",
       "      <td>22622100.0</td>\n",
       "      <td>1406600.0</td>\n",
       "    </tr>\n",
       "    <tr>\n",
       "      <th>2020-01-03</th>\n",
       "      <td>36580700.0</td>\n",
       "      <td>2373700.0</td>\n",
       "      <td>21116200.0</td>\n",
       "      <td>1186400.0</td>\n",
       "    </tr>\n",
       "    <tr>\n",
       "      <th>2020-01-06</th>\n",
       "      <td>29596800.0</td>\n",
       "      <td>2425500.0</td>\n",
       "      <td>20813700.0</td>\n",
       "      <td>1732300.0</td>\n",
       "    </tr>\n",
       "    <tr>\n",
       "      <th>2020-01-07</th>\n",
       "      <td>27218000.0</td>\n",
       "      <td>3090800.0</td>\n",
       "      <td>21634100.0</td>\n",
       "      <td>1502700.0</td>\n",
       "    </tr>\n",
       "  </tbody>\n",
       "</table>\n",
       "<p>1258 rows × 4 columns</p>\n",
       "</div>"
      ],
      "text/plain": [
       "                   AAPL         IBM         MSFT       GOOG\n",
       "Date                                                       \n",
       "2015-01-08   59364500.0   4236800.0   29645200.0  3353500.0\n",
       "2015-01-09   53699500.0   4488300.0   23944200.0  2071300.0\n",
       "2015-01-12   49650800.0   4187600.0   23651900.0  2326700.0\n",
       "2015-01-13   67091900.0   4377500.0   35270600.0  2370400.0\n",
       "2015-01-14   48956600.0   4690300.0   29719600.0  2235700.0\n",
       "2015-01-15   60014000.0   4248400.0   32750800.0  2715800.0\n",
       "2015-01-16   78513300.0   5756000.0   35695300.0  2298200.0\n",
       "2015-01-20   49899900.0   8392800.0   36161900.0  2232000.0\n",
       "2015-01-21   48575900.0  11897100.0   39081100.0  2268700.0\n",
       "2015-01-22   53796400.0   6120100.0   35898000.0  2676900.0\n",
       "2015-01-23   46464800.0   4834800.0   26211600.0  2281700.0\n",
       "2015-01-26   55615000.0   7888100.0   42525500.0  1543700.0\n",
       "2015-01-27   95568700.0   5659600.0  169164000.0  1904000.0\n",
       "2015-01-28  146477100.0   4495900.0   84507100.0  1683800.0\n",
       "2015-01-29   84436400.0   8320800.0   63585300.0  4186300.0\n",
       "2015-01-30   83745500.0   6563600.0   78004900.0  5606300.0\n",
       "2015-02-02   62739100.0   4712200.0   50352500.0  2849800.0\n",
       "2015-02-03   51915700.0   5539400.0   52082400.0  2038600.0\n",
       "2015-02-04   70149700.0   3678500.0   41614800.0  1663600.0\n",
       "2015-02-05   42246200.0   5253600.0   36548200.0  1849700.0\n",
       "2015-02-06   43706600.0   3256500.0   34616600.0  1763500.0\n",
       "2015-02-09   38889800.0   3057700.0   31381100.0  1267700.0\n",
       "2015-02-10   62008500.0   4440600.0   29670700.0  1749800.0\n",
       "2015-02-11   73561800.0   3626700.0   38262500.0  1377700.0\n",
       "2015-02-12   74474500.0   3333100.0   33268800.0  1620200.0\n",
       "2015-02-13   54272200.0   3706900.0   40264900.0  1900300.0\n",
       "2015-02-17   63152400.0   2894500.0   33695700.0  1616800.0\n",
       "2015-02-18   44891700.0   4358400.0   27111700.0  1453000.0\n",
       "2015-02-19   37362400.0   3504400.0   27603400.0   989100.0\n",
       "2015-02-20   48948400.0   3353000.0   29721100.0  1444300.0\n",
       "...                 ...         ...          ...        ...\n",
       "2019-11-22   16331300.0   3297500.0   15901800.0  1385700.0\n",
       "2019-11-25   21005100.0   2590100.0   22420900.0  1036200.0\n",
       "2019-11-26   26301900.0   3793200.0   24620100.0  1069700.0\n",
       "2019-11-27   16308900.0   3280900.0   15184400.0   995600.0\n",
       "2019-11-29   11654400.0   1825300.0   11977300.0   587000.0\n",
       "2019-12-02   23621800.0   3067100.0   27418400.0  1510900.0\n",
       "2019-12-03   28607600.0   3642500.0   24066000.0  1143800.0\n",
       "2019-12-04   16795400.0   3530000.0   17574700.0  1537500.0\n",
       "2019-12-05   18606100.0   3595400.0   17869100.0  1212700.0\n",
       "2019-12-06   26518900.0   3437500.0   16403500.0  1314800.0\n",
       "2019-12-09   32010600.0   2968500.0   16687400.0  1354300.0\n",
       "2019-12-10   22605100.0   3480400.0   16476100.0  1094100.0\n",
       "2019-12-11   19689200.0   3953300.0   18856600.0   850400.0\n",
       "2019-12-12   34327600.0   4824100.0   24612100.0  1281000.0\n",
       "2019-12-13   33396900.0   2535000.0   23845400.0  1549600.0\n",
       "2019-12-16   32046500.0   3049200.0   24144200.0  1397300.0\n",
       "2019-12-17   28539600.0   2907200.0   25425600.0  1854000.0\n",
       "2019-12-18   29007100.0   3101800.0   24129200.0  1522600.0\n",
       "2019-12-19   24592300.0   3866500.0   24958900.0  1469900.0\n",
       "2019-12-20   68994500.0   7111800.0   53477500.0  3315000.0\n",
       "2019-12-23   24643000.0   2803200.0   17718200.0   883100.0\n",
       "2019-12-24   12119700.0   1202100.0    8989200.0   347500.0\n",
       "2019-12-26   23280300.0   2129700.0   14520600.0   667500.0\n",
       "2019-12-27   36566500.0   2752200.0   18412800.0  1038400.0\n",
       "2019-12-30   36028600.0   4118900.0   16348400.0  1050900.0\n",
       "2019-12-31   25201400.0   3777500.0   18369400.0   961800.0\n",
       "2020-01-02   33870100.0   3148600.0   22622100.0  1406600.0\n",
       "2020-01-03   36580700.0   2373700.0   21116200.0  1186400.0\n",
       "2020-01-06   29596800.0   2425500.0   20813700.0  1732300.0\n",
       "2020-01-07   27218000.0   3090800.0   21634100.0  1502700.0\n",
       "\n",
       "[1258 rows x 4 columns]"
      ]
     },
     "execution_count": 221,
     "metadata": {},
     "output_type": "execute_result"
    }
   ],
   "source": [
    "volume"
   ]
  },
  {
   "cell_type": "code",
   "execution_count": 222,
   "metadata": {},
   "outputs": [],
   "source": [
    "returns = price.pct_change()"
   ]
  },
  {
   "cell_type": "code",
   "execution_count": 223,
   "metadata": {},
   "outputs": [
    {
     "data": {
      "text/html": [
       "<div>\n",
       "<style scoped>\n",
       "    .dataframe tbody tr th:only-of-type {\n",
       "        vertical-align: middle;\n",
       "    }\n",
       "\n",
       "    .dataframe tbody tr th {\n",
       "        vertical-align: top;\n",
       "    }\n",
       "\n",
       "    .dataframe thead th {\n",
       "        text-align: right;\n",
       "    }\n",
       "</style>\n",
       "<table border=\"1\" class=\"dataframe\">\n",
       "  <thead>\n",
       "    <tr style=\"text-align: right;\">\n",
       "      <th></th>\n",
       "      <th>AAPL</th>\n",
       "      <th>IBM</th>\n",
       "      <th>MSFT</th>\n",
       "      <th>GOOG</th>\n",
       "    </tr>\n",
       "    <tr>\n",
       "      <th>Date</th>\n",
       "      <th></th>\n",
       "      <th></th>\n",
       "      <th></th>\n",
       "      <th></th>\n",
       "    </tr>\n",
       "  </thead>\n",
       "  <tbody>\n",
       "    <tr>\n",
       "      <th>2015-01-08</th>\n",
       "      <td>NaN</td>\n",
       "      <td>NaN</td>\n",
       "      <td>NaN</td>\n",
       "      <td>NaN</td>\n",
       "    </tr>\n",
       "    <tr>\n",
       "      <th>2015-01-09</th>\n",
       "      <td>0.001072</td>\n",
       "      <td>0.004355</td>\n",
       "      <td>-0.008405</td>\n",
       "      <td>-0.012951</td>\n",
       "    </tr>\n",
       "    <tr>\n",
       "      <th>2015-01-12</th>\n",
       "      <td>-0.024641</td>\n",
       "      <td>-0.016781</td>\n",
       "      <td>-0.012503</td>\n",
       "      <td>-0.007296</td>\n",
       "    </tr>\n",
       "    <tr>\n",
       "      <th>2015-01-13</th>\n",
       "      <td>0.008879</td>\n",
       "      <td>0.002365</td>\n",
       "      <td>-0.005150</td>\n",
       "      <td>0.007370</td>\n",
       "    </tr>\n",
       "    <tr>\n",
       "      <th>2015-01-14</th>\n",
       "      <td>-0.003810</td>\n",
       "      <td>-0.006441</td>\n",
       "      <td>-0.008628</td>\n",
       "      <td>0.009452</td>\n",
       "    </tr>\n",
       "    <tr>\n",
       "      <th>2015-01-15</th>\n",
       "      <td>-0.027140</td>\n",
       "      <td>-0.007895</td>\n",
       "      <td>-0.010444</td>\n",
       "      <td>0.001837</td>\n",
       "    </tr>\n",
       "    <tr>\n",
       "      <th>2015-01-16</th>\n",
       "      <td>-0.007770</td>\n",
       "      <td>0.016627</td>\n",
       "      <td>0.016711</td>\n",
       "      <td>0.012535</td>\n",
       "    </tr>\n",
       "    <tr>\n",
       "      <th>2015-01-20</th>\n",
       "      <td>0.025757</td>\n",
       "      <td>-0.001209</td>\n",
       "      <td>0.003244</td>\n",
       "      <td>-0.002322</td>\n",
       "    </tr>\n",
       "    <tr>\n",
       "      <th>2015-01-21</th>\n",
       "      <td>0.007634</td>\n",
       "      <td>-0.030965</td>\n",
       "      <td>-0.010131</td>\n",
       "      <td>0.021977</td>\n",
       "    </tr>\n",
       "    <tr>\n",
       "      <th>2015-01-22</th>\n",
       "      <td>0.026015</td>\n",
       "      <td>0.021698</td>\n",
       "      <td>0.026350</td>\n",
       "      <td>0.031561</td>\n",
       "    </tr>\n",
       "    <tr>\n",
       "      <th>2015-01-23</th>\n",
       "      <td>0.005160</td>\n",
       "      <td>0.003089</td>\n",
       "      <td>0.001061</td>\n",
       "      <td>0.010404</td>\n",
       "    </tr>\n",
       "    <tr>\n",
       "      <th>2015-01-26</th>\n",
       "      <td>0.001062</td>\n",
       "      <td>0.003144</td>\n",
       "      <td>-0.003603</td>\n",
       "      <td>-0.008779</td>\n",
       "    </tr>\n",
       "    <tr>\n",
       "      <th>2015-01-27</th>\n",
       "      <td>-0.035013</td>\n",
       "      <td>-0.017204</td>\n",
       "      <td>-0.092534</td>\n",
       "      <td>-0.030978</td>\n",
       "    </tr>\n",
       "    <tr>\n",
       "      <th>2015-01-28</th>\n",
       "      <td>0.056533</td>\n",
       "      <td>-0.013796</td>\n",
       "      <td>-0.034458</td>\n",
       "      <td>-0.016640</td>\n",
       "    </tr>\n",
       "    <tr>\n",
       "      <th>2015-01-29</th>\n",
       "      <td>0.031134</td>\n",
       "      <td>0.025932</td>\n",
       "      <td>0.019908</td>\n",
       "      <td>0.001294</td>\n",
       "    </tr>\n",
       "    <tr>\n",
       "      <th>2015-01-30</th>\n",
       "      <td>-0.014634</td>\n",
       "      <td>-0.013957</td>\n",
       "      <td>-0.038324</td>\n",
       "      <td>0.046724</td>\n",
       "    </tr>\n",
       "    <tr>\n",
       "      <th>2015-02-02</th>\n",
       "      <td>0.012547</td>\n",
       "      <td>0.008806</td>\n",
       "      <td>0.021782</td>\n",
       "      <td>-0.011300</td>\n",
       "    </tr>\n",
       "    <tr>\n",
       "      <th>2015-02-03</th>\n",
       "      <td>0.000168</td>\n",
       "      <td>0.024634</td>\n",
       "      <td>0.007752</td>\n",
       "      <td>0.001438</td>\n",
       "    </tr>\n",
       "    <tr>\n",
       "      <th>2015-02-04</th>\n",
       "      <td>0.007670</td>\n",
       "      <td>-0.009528</td>\n",
       "      <td>0.005769</td>\n",
       "      <td>-0.012244</td>\n",
       "    </tr>\n",
       "    <tr>\n",
       "      <th>2015-02-05</th>\n",
       "      <td>0.007137</td>\n",
       "      <td>0.006052</td>\n",
       "      <td>0.014579</td>\n",
       "      <td>0.009220</td>\n",
       "    </tr>\n",
       "    <tr>\n",
       "      <th>2015-02-06</th>\n",
       "      <td>-0.008421</td>\n",
       "      <td>-0.000574</td>\n",
       "      <td>-0.000942</td>\n",
       "      <td>0.006482</td>\n",
       "    </tr>\n",
       "    <tr>\n",
       "      <th>2015-02-09</th>\n",
       "      <td>0.006643</td>\n",
       "      <td>-0.006189</td>\n",
       "      <td>-0.001179</td>\n",
       "      <td>-0.005970</td>\n",
       "    </tr>\n",
       "    <tr>\n",
       "      <th>2015-02-10</th>\n",
       "      <td>0.019211</td>\n",
       "      <td>0.018042</td>\n",
       "      <td>0.005666</td>\n",
       "      <td>0.017259</td>\n",
       "    </tr>\n",
       "    <tr>\n",
       "      <th>2015-02-11</th>\n",
       "      <td>0.023439</td>\n",
       "      <td>-0.002270</td>\n",
       "      <td>-0.005164</td>\n",
       "      <td>-0.001807</td>\n",
       "    </tr>\n",
       "    <tr>\n",
       "      <th>2015-02-12</th>\n",
       "      <td>0.012652</td>\n",
       "      <td>0.002023</td>\n",
       "      <td>0.016753</td>\n",
       "      <td>0.012986</td>\n",
       "    </tr>\n",
       "    <tr>\n",
       "      <th>2015-02-13</th>\n",
       "      <td>0.004903</td>\n",
       "      <td>0.011860</td>\n",
       "      <td>0.018102</td>\n",
       "      <td>0.011198</td>\n",
       "    </tr>\n",
       "    <tr>\n",
       "      <th>2015-02-17</th>\n",
       "      <td>0.005902</td>\n",
       "      <td>0.003491</td>\n",
       "      <td>0.000459</td>\n",
       "      <td>-0.011238</td>\n",
       "    </tr>\n",
       "    <tr>\n",
       "      <th>2015-02-18</th>\n",
       "      <td>0.006962</td>\n",
       "      <td>0.007642</td>\n",
       "      <td>-0.001147</td>\n",
       "      <td>-0.005784</td>\n",
       "    </tr>\n",
       "    <tr>\n",
       "      <th>2015-02-19</th>\n",
       "      <td>-0.002098</td>\n",
       "      <td>0.010481</td>\n",
       "      <td>-0.000689</td>\n",
       "      <td>0.005874</td>\n",
       "    </tr>\n",
       "    <tr>\n",
       "      <th>2015-02-20</th>\n",
       "      <td>0.008174</td>\n",
       "      <td>-0.001464</td>\n",
       "      <td>0.008276</td>\n",
       "      <td>-0.007221</td>\n",
       "    </tr>\n",
       "    <tr>\n",
       "      <th>...</th>\n",
       "      <td>...</td>\n",
       "      <td>...</td>\n",
       "      <td>...</td>\n",
       "      <td>...</td>\n",
       "    </tr>\n",
       "    <tr>\n",
       "      <th>2019-11-22</th>\n",
       "      <td>-0.000878</td>\n",
       "      <td>0.003736</td>\n",
       "      <td>0.000736</td>\n",
       "      <td>-0.004618</td>\n",
       "    </tr>\n",
       "    <tr>\n",
       "      <th>2019-11-25</th>\n",
       "      <td>0.017534</td>\n",
       "      <td>0.012133</td>\n",
       "      <td>0.010963</td>\n",
       "      <td>0.008762</td>\n",
       "    </tr>\n",
       "    <tr>\n",
       "      <th>2019-11-26</th>\n",
       "      <td>-0.007809</td>\n",
       "      <td>-0.006472</td>\n",
       "      <td>0.005290</td>\n",
       "      <td>0.005250</td>\n",
       "    </tr>\n",
       "    <tr>\n",
       "      <th>2019-11-27</th>\n",
       "      <td>0.013432</td>\n",
       "      <td>-0.009771</td>\n",
       "      <td>0.001908</td>\n",
       "      <td>-0.000426</td>\n",
       "    </tr>\n",
       "    <tr>\n",
       "      <th>2019-11-29</th>\n",
       "      <td>-0.002203</td>\n",
       "      <td>0.005083</td>\n",
       "      <td>-0.006171</td>\n",
       "      <td>-0.006116</td>\n",
       "    </tr>\n",
       "    <tr>\n",
       "      <th>2019-12-02</th>\n",
       "      <td>-0.011562</td>\n",
       "      <td>-0.011454</td>\n",
       "      <td>-0.012089</td>\n",
       "      <td>-0.011525</td>\n",
       "    </tr>\n",
       "    <tr>\n",
       "      <th>2019-12-03</th>\n",
       "      <td>-0.017830</td>\n",
       "      <td>-0.005944</td>\n",
       "      <td>-0.001605</td>\n",
       "      <td>0.004155</td>\n",
       "    </tr>\n",
       "    <tr>\n",
       "      <th>2019-12-04</th>\n",
       "      <td>0.008826</td>\n",
       "      <td>-0.000984</td>\n",
       "      <td>0.003617</td>\n",
       "      <td>0.019502</td>\n",
       "    </tr>\n",
       "    <tr>\n",
       "      <th>2019-12-05</th>\n",
       "      <td>0.014671</td>\n",
       "      <td>-0.000606</td>\n",
       "      <td>0.000534</td>\n",
       "      <td>0.005748</td>\n",
       "    </tr>\n",
       "    <tr>\n",
       "      <th>2019-12-06</th>\n",
       "      <td>0.019316</td>\n",
       "      <td>0.009931</td>\n",
       "      <td>0.012139</td>\n",
       "      <td>0.009404</td>\n",
       "    </tr>\n",
       "    <tr>\n",
       "      <th>2019-12-09</th>\n",
       "      <td>-0.014000</td>\n",
       "      <td>0.005254</td>\n",
       "      <td>-0.002570</td>\n",
       "      <td>0.002193</td>\n",
       "    </tr>\n",
       "    <tr>\n",
       "      <th>2019-12-10</th>\n",
       "      <td>0.005844</td>\n",
       "      <td>-0.000075</td>\n",
       "      <td>-0.001520</td>\n",
       "      <td>0.000819</td>\n",
       "    </tr>\n",
       "    <tr>\n",
       "      <th>2019-12-11</th>\n",
       "      <td>0.008529</td>\n",
       "      <td>-0.001120</td>\n",
       "      <td>0.003772</td>\n",
       "      <td>0.000268</td>\n",
       "    </tr>\n",
       "    <tr>\n",
       "      <th>2019-12-12</th>\n",
       "      <td>0.002548</td>\n",
       "      <td>0.011663</td>\n",
       "      <td>0.010152</td>\n",
       "      <td>0.003903</td>\n",
       "    </tr>\n",
       "    <tr>\n",
       "      <th>2019-12-13</th>\n",
       "      <td>0.013593</td>\n",
       "      <td>-0.008203</td>\n",
       "      <td>0.008418</td>\n",
       "      <td>-0.001807</td>\n",
       "    </tr>\n",
       "    <tr>\n",
       "      <th>2019-12-16</th>\n",
       "      <td>0.017118</td>\n",
       "      <td>-0.000596</td>\n",
       "      <td>0.006471</td>\n",
       "      <td>0.009897</td>\n",
       "    </tr>\n",
       "    <tr>\n",
       "      <th>2019-12-17</th>\n",
       "      <td>0.001965</td>\n",
       "      <td>0.000671</td>\n",
       "      <td>-0.005401</td>\n",
       "      <td>-0.004445</td>\n",
       "    </tr>\n",
       "    <tr>\n",
       "      <th>2019-12-18</th>\n",
       "      <td>-0.002389</td>\n",
       "      <td>0.001416</td>\n",
       "      <td>-0.002069</td>\n",
       "      <td>-0.001845</td>\n",
       "    </tr>\n",
       "    <tr>\n",
       "      <th>2019-12-19</th>\n",
       "      <td>0.001001</td>\n",
       "      <td>0.001116</td>\n",
       "      <td>0.008681</td>\n",
       "      <td>0.002528</td>\n",
       "    </tr>\n",
       "    <tr>\n",
       "      <th>2019-12-20</th>\n",
       "      <td>-0.002071</td>\n",
       "      <td>0.007655</td>\n",
       "      <td>0.010918</td>\n",
       "      <td>-0.004757</td>\n",
       "    </tr>\n",
       "    <tr>\n",
       "      <th>2019-12-23</th>\n",
       "      <td>0.016318</td>\n",
       "      <td>-0.000295</td>\n",
       "      <td>0.000000</td>\n",
       "      <td>-0.000556</td>\n",
       "    </tr>\n",
       "    <tr>\n",
       "      <th>2019-12-24</th>\n",
       "      <td>0.000951</td>\n",
       "      <td>-0.004205</td>\n",
       "      <td>-0.000191</td>\n",
       "      <td>-0.003914</td>\n",
       "    </tr>\n",
       "    <tr>\n",
       "      <th>2019-12-26</th>\n",
       "      <td>0.019840</td>\n",
       "      <td>-0.000519</td>\n",
       "      <td>0.008197</td>\n",
       "      <td>0.012534</td>\n",
       "    </tr>\n",
       "    <tr>\n",
       "      <th>2019-12-27</th>\n",
       "      <td>-0.000379</td>\n",
       "      <td>0.002668</td>\n",
       "      <td>0.001828</td>\n",
       "      <td>-0.006256</td>\n",
       "    </tr>\n",
       "    <tr>\n",
       "      <th>2019-12-30</th>\n",
       "      <td>0.005935</td>\n",
       "      <td>-0.018186</td>\n",
       "      <td>-0.008619</td>\n",
       "      <td>-0.011650</td>\n",
       "    </tr>\n",
       "    <tr>\n",
       "      <th>2019-12-31</th>\n",
       "      <td>0.007307</td>\n",
       "      <td>0.009261</td>\n",
       "      <td>0.000698</td>\n",
       "      <td>0.000659</td>\n",
       "    </tr>\n",
       "    <tr>\n",
       "      <th>2020-01-02</th>\n",
       "      <td>0.022816</td>\n",
       "      <td>0.010295</td>\n",
       "      <td>0.018516</td>\n",
       "      <td>0.022700</td>\n",
       "    </tr>\n",
       "    <tr>\n",
       "      <th>2020-01-03</th>\n",
       "      <td>-0.009722</td>\n",
       "      <td>-0.007975</td>\n",
       "      <td>-0.012452</td>\n",
       "      <td>-0.004907</td>\n",
       "    </tr>\n",
       "    <tr>\n",
       "      <th>2020-01-06</th>\n",
       "      <td>0.007968</td>\n",
       "      <td>-0.001786</td>\n",
       "      <td>0.002585</td>\n",
       "      <td>0.024657</td>\n",
       "    </tr>\n",
       "    <tr>\n",
       "      <th>2020-01-07</th>\n",
       "      <td>-0.004703</td>\n",
       "      <td>0.000671</td>\n",
       "      <td>-0.009118</td>\n",
       "      <td>-0.000624</td>\n",
       "    </tr>\n",
       "  </tbody>\n",
       "</table>\n",
       "<p>1258 rows × 4 columns</p>\n",
       "</div>"
      ],
      "text/plain": [
       "                AAPL       IBM      MSFT      GOOG\n",
       "Date                                              \n",
       "2015-01-08       NaN       NaN       NaN       NaN\n",
       "2015-01-09  0.001072  0.004355 -0.008405 -0.012951\n",
       "2015-01-12 -0.024641 -0.016781 -0.012503 -0.007296\n",
       "2015-01-13  0.008879  0.002365 -0.005150  0.007370\n",
       "2015-01-14 -0.003810 -0.006441 -0.008628  0.009452\n",
       "2015-01-15 -0.027140 -0.007895 -0.010444  0.001837\n",
       "2015-01-16 -0.007770  0.016627  0.016711  0.012535\n",
       "2015-01-20  0.025757 -0.001209  0.003244 -0.002322\n",
       "2015-01-21  0.007634 -0.030965 -0.010131  0.021977\n",
       "2015-01-22  0.026015  0.021698  0.026350  0.031561\n",
       "2015-01-23  0.005160  0.003089  0.001061  0.010404\n",
       "2015-01-26  0.001062  0.003144 -0.003603 -0.008779\n",
       "2015-01-27 -0.035013 -0.017204 -0.092534 -0.030978\n",
       "2015-01-28  0.056533 -0.013796 -0.034458 -0.016640\n",
       "2015-01-29  0.031134  0.025932  0.019908  0.001294\n",
       "2015-01-30 -0.014634 -0.013957 -0.038324  0.046724\n",
       "2015-02-02  0.012547  0.008806  0.021782 -0.011300\n",
       "2015-02-03  0.000168  0.024634  0.007752  0.001438\n",
       "2015-02-04  0.007670 -0.009528  0.005769 -0.012244\n",
       "2015-02-05  0.007137  0.006052  0.014579  0.009220\n",
       "2015-02-06 -0.008421 -0.000574 -0.000942  0.006482\n",
       "2015-02-09  0.006643 -0.006189 -0.001179 -0.005970\n",
       "2015-02-10  0.019211  0.018042  0.005666  0.017259\n",
       "2015-02-11  0.023439 -0.002270 -0.005164 -0.001807\n",
       "2015-02-12  0.012652  0.002023  0.016753  0.012986\n",
       "2015-02-13  0.004903  0.011860  0.018102  0.011198\n",
       "2015-02-17  0.005902  0.003491  0.000459 -0.011238\n",
       "2015-02-18  0.006962  0.007642 -0.001147 -0.005784\n",
       "2015-02-19 -0.002098  0.010481 -0.000689  0.005874\n",
       "2015-02-20  0.008174 -0.001464  0.008276 -0.007221\n",
       "...              ...       ...       ...       ...\n",
       "2019-11-22 -0.000878  0.003736  0.000736 -0.004618\n",
       "2019-11-25  0.017534  0.012133  0.010963  0.008762\n",
       "2019-11-26 -0.007809 -0.006472  0.005290  0.005250\n",
       "2019-11-27  0.013432 -0.009771  0.001908 -0.000426\n",
       "2019-11-29 -0.002203  0.005083 -0.006171 -0.006116\n",
       "2019-12-02 -0.011562 -0.011454 -0.012089 -0.011525\n",
       "2019-12-03 -0.017830 -0.005944 -0.001605  0.004155\n",
       "2019-12-04  0.008826 -0.000984  0.003617  0.019502\n",
       "2019-12-05  0.014671 -0.000606  0.000534  0.005748\n",
       "2019-12-06  0.019316  0.009931  0.012139  0.009404\n",
       "2019-12-09 -0.014000  0.005254 -0.002570  0.002193\n",
       "2019-12-10  0.005844 -0.000075 -0.001520  0.000819\n",
       "2019-12-11  0.008529 -0.001120  0.003772  0.000268\n",
       "2019-12-12  0.002548  0.011663  0.010152  0.003903\n",
       "2019-12-13  0.013593 -0.008203  0.008418 -0.001807\n",
       "2019-12-16  0.017118 -0.000596  0.006471  0.009897\n",
       "2019-12-17  0.001965  0.000671 -0.005401 -0.004445\n",
       "2019-12-18 -0.002389  0.001416 -0.002069 -0.001845\n",
       "2019-12-19  0.001001  0.001116  0.008681  0.002528\n",
       "2019-12-20 -0.002071  0.007655  0.010918 -0.004757\n",
       "2019-12-23  0.016318 -0.000295  0.000000 -0.000556\n",
       "2019-12-24  0.000951 -0.004205 -0.000191 -0.003914\n",
       "2019-12-26  0.019840 -0.000519  0.008197  0.012534\n",
       "2019-12-27 -0.000379  0.002668  0.001828 -0.006256\n",
       "2019-12-30  0.005935 -0.018186 -0.008619 -0.011650\n",
       "2019-12-31  0.007307  0.009261  0.000698  0.000659\n",
       "2020-01-02  0.022816  0.010295  0.018516  0.022700\n",
       "2020-01-03 -0.009722 -0.007975 -0.012452 -0.004907\n",
       "2020-01-06  0.007968 -0.001786  0.002585  0.024657\n",
       "2020-01-07 -0.004703  0.000671 -0.009118 -0.000624\n",
       "\n",
       "[1258 rows x 4 columns]"
      ]
     },
     "execution_count": 223,
     "metadata": {},
     "output_type": "execute_result"
    }
   ],
   "source": [
    "returns"
   ]
  },
  {
   "cell_type": "code",
   "execution_count": 224,
   "metadata": {},
   "outputs": [
    {
     "data": {
      "text/html": [
       "<div>\n",
       "<style scoped>\n",
       "    .dataframe tbody tr th:only-of-type {\n",
       "        vertical-align: middle;\n",
       "    }\n",
       "\n",
       "    .dataframe tbody tr th {\n",
       "        vertical-align: top;\n",
       "    }\n",
       "\n",
       "    .dataframe thead th {\n",
       "        text-align: right;\n",
       "    }\n",
       "</style>\n",
       "<table border=\"1\" class=\"dataframe\">\n",
       "  <thead>\n",
       "    <tr style=\"text-align: right;\">\n",
       "      <th></th>\n",
       "      <th>AAPL</th>\n",
       "      <th>IBM</th>\n",
       "      <th>MSFT</th>\n",
       "      <th>GOOG</th>\n",
       "    </tr>\n",
       "    <tr>\n",
       "      <th>Date</th>\n",
       "      <th></th>\n",
       "      <th></th>\n",
       "      <th></th>\n",
       "      <th></th>\n",
       "    </tr>\n",
       "  </thead>\n",
       "  <tbody>\n",
       "    <tr>\n",
       "      <th>2019-12-31</th>\n",
       "      <td>0.007307</td>\n",
       "      <td>0.009261</td>\n",
       "      <td>0.000698</td>\n",
       "      <td>0.000659</td>\n",
       "    </tr>\n",
       "    <tr>\n",
       "      <th>2020-01-02</th>\n",
       "      <td>0.022816</td>\n",
       "      <td>0.010295</td>\n",
       "      <td>0.018516</td>\n",
       "      <td>0.022700</td>\n",
       "    </tr>\n",
       "    <tr>\n",
       "      <th>2020-01-03</th>\n",
       "      <td>-0.009722</td>\n",
       "      <td>-0.007975</td>\n",
       "      <td>-0.012452</td>\n",
       "      <td>-0.004907</td>\n",
       "    </tr>\n",
       "    <tr>\n",
       "      <th>2020-01-06</th>\n",
       "      <td>0.007968</td>\n",
       "      <td>-0.001786</td>\n",
       "      <td>0.002585</td>\n",
       "      <td>0.024657</td>\n",
       "    </tr>\n",
       "    <tr>\n",
       "      <th>2020-01-07</th>\n",
       "      <td>-0.004703</td>\n",
       "      <td>0.000671</td>\n",
       "      <td>-0.009118</td>\n",
       "      <td>-0.000624</td>\n",
       "    </tr>\n",
       "  </tbody>\n",
       "</table>\n",
       "</div>"
      ],
      "text/plain": [
       "                AAPL       IBM      MSFT      GOOG\n",
       "Date                                              \n",
       "2019-12-31  0.007307  0.009261  0.000698  0.000659\n",
       "2020-01-02  0.022816  0.010295  0.018516  0.022700\n",
       "2020-01-03 -0.009722 -0.007975 -0.012452 -0.004907\n",
       "2020-01-06  0.007968 -0.001786  0.002585  0.024657\n",
       "2020-01-07 -0.004703  0.000671 -0.009118 -0.000624"
      ]
     },
     "execution_count": 224,
     "metadata": {},
     "output_type": "execute_result"
    }
   ],
   "source": [
    "returns.tail()"
   ]
  },
  {
   "cell_type": "code",
   "execution_count": 225,
   "metadata": {},
   "outputs": [
    {
     "data": {
      "text/plain": [
       "0.4837218908687079"
      ]
     },
     "execution_count": 225,
     "metadata": {},
     "output_type": "execute_result"
    }
   ],
   "source": [
    "returns['MSFT'].corr(returns['IBM'])"
   ]
  },
  {
   "cell_type": "code",
   "execution_count": 226,
   "metadata": {},
   "outputs": [
    {
     "data": {
      "text/plain": [
       "0.483721890868708"
      ]
     },
     "execution_count": 226,
     "metadata": {},
     "output_type": "execute_result"
    }
   ],
   "source": [
    "returns['IBM'].corr(returns['MSFT'])"
   ]
  },
  {
   "cell_type": "code",
   "execution_count": 227,
   "metadata": {},
   "outputs": [
    {
     "data": {
      "text/plain": [
       "0.4088961403859018"
      ]
     },
     "execution_count": 227,
     "metadata": {},
     "output_type": "execute_result"
    }
   ],
   "source": [
    "returns['IBM'].corr(returns['GOOG'])"
   ]
  },
  {
   "cell_type": "code",
   "execution_count": 228,
   "metadata": {},
   "outputs": [
    {
     "data": {
      "text/plain": [
       "0.5726101233496661"
      ]
     },
     "execution_count": 228,
     "metadata": {},
     "output_type": "execute_result"
    }
   ],
   "source": [
    "returns.MSFT.corr(returns.AAPL)"
   ]
  },
  {
   "cell_type": "code",
   "execution_count": 229,
   "metadata": {},
   "outputs": [
    {
     "data": {
      "text/plain": [
       "0.00013102825759646604"
      ]
     },
     "execution_count": 229,
     "metadata": {},
     "output_type": "execute_result"
    }
   ],
   "source": [
    "returns.MSFT.cov(returns.AAPL)"
   ]
  },
  {
   "cell_type": "code",
   "execution_count": 230,
   "metadata": {},
   "outputs": [
    {
     "data": {
      "text/plain": [
       "0.0001233733050622297"
      ]
     },
     "execution_count": 230,
     "metadata": {},
     "output_type": "execute_result"
    }
   ],
   "source": [
    "returns.AAPL.cov(returns.GOOG)"
   ]
  }
 ],
 "metadata": {
  "kernelspec": {
   "display_name": "Python 3",
   "language": "python",
   "name": "python3"
  },
  "language_info": {
   "codemirror_mode": {
    "name": "ipython",
    "version": 3
   },
   "file_extension": ".py",
   "mimetype": "text/x-python",
   "name": "python",
   "nbconvert_exporter": "python",
   "pygments_lexer": "ipython3",
   "version": "3.7.3"
  }
 },
 "nbformat": 4,
 "nbformat_minor": 2
}
